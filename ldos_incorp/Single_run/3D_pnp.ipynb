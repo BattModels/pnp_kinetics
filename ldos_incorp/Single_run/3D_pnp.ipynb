{
 "cells": [
  {
   "cell_type": "code",
   "execution_count": 1,
   "id": "d1d18551",
   "metadata": {},
   "outputs": [],
   "source": [
    "import numpy as np\n",
    "import os, sys, re, glob\n",
    "from dolfin import *\n",
    "from __future__ import print_function\n",
    "from fenics import *\n",
    "import pickle\n",
    "from numpy.random import rand\n",
    "from numpy.linalg import norm\n",
    "import matplotlib.pyplot as plt\n",
    "from matplotlib.ticker import MaxNLocator\n",
    "import matplotlib as mpl\n",
    "from numpy.linalg import norm\n",
    "font = {'family' : 'Times New Roman',\n",
    "        'weight' : 'regular',\n",
    "        'size'   : 16}\n",
    "\n",
    "mpl.rc('font', **font)\n",
    "mpl.rcParams['figure.figsize'] = (10.0, 6.0)\n",
    "mpl.rc('axes', linewidth=2)\n",
    "mpl.rcParams['lines.linewidth'] = 2\n",
    "#mpl.rcParams['xtick.major.size'] = 20                                                                                                                                     \n",
    "mpl.rcParams['xtick.major.width'] = 2\n",
    "mpl.rcParams['ytick.major.width'] = 2\n",
    "    \n",
    "#c_0 = load_obj('initial_c0.pkl')"
   ]
  },
  {
   "cell_type": "code",
   "execution_count": 108,
   "id": "84049b87",
   "metadata": {},
   "outputs": [
    {
     "data": {
      "text/plain": [
       "(5.000000000000002e-09, 3.500000000000001e-06, 2e-05)"
      ]
     },
     "execution_count": 108,
     "metadata": {},
     "output_type": "execute_result"
    }
   ],
   "source": [
    "# Load Mesh\n",
    "loc = ''\n",
    "#mesh = Mesh('/Users/mbabar/Desktop/PhD/Analysis/PDE/PNP_solve/3D_vmg/mesh3D.xml');\n",
    "#mesh = Mesh('/Users/mbabar/Desktop/PhD/Analysis/PDE/PNP_solve/3D_vmg/Mesh/mesh_80.xml')\n",
    "mesh = Mesh('/Users/mbabar/Desktop/PhD/Analysis/PDE/PNP_solve/3D_vmg/Mesh/Testing/mesh_5.xml')\n",
    "\n",
    "# Scale mesh\n",
    "m_coords = mesh.coordinates()\n",
    "scal_r = np.float64(1e-9)\n",
    "m_coords[:, :] *= scal_r\n",
    "mesh.bounding_box_tree().build(mesh) # development version\n",
    "#mesh_file = File(\"mesh_scale.xml\")\n",
    "#mesh_file << mesh\n",
    "\n",
    "get_mesh_geo(mesh)\n",
    "#cd=MeshFunction('size_t',mesh,loc+'mesh_physical_region.xml')\n",
    "#fd=MeshFunction('size_t',mesh,loc+'mesh_facet_region.xml')\n",
    "#mesh"
   ]
  },
  {
   "cell_type": "code",
   "execution_count": 109,
   "id": "9b051942",
   "metadata": {},
   "outputs": [],
   "source": [
    "# Functions\n",
    "def BV_rates(ko, eta=0.0, A=1.0, alpha=0.5):\n",
    "    kbT = 0.0259\n",
    "    kred = A*ko*np.exp(-(alpha*(eta))/kbT)\n",
    "    kox = A*ko*np.exp(((1-alpha)*(eta))/kbT)\n",
    "    return kox, kred\n",
    "\n",
    "def get_mesh_geo(mesh):\n",
    "    # Assuming mesh is circular at the bottom and top surfaces with origin at (0,0,0)                                                   \n",
    "    #mesh = Mesh(mesh_file)                                                                                                             \n",
    "    bmesh = BoundaryMesh(mesh, \"exterior\", True)\n",
    "    bm_coords = bmesh.coordinates()\n",
    "    #bot_coords = np.array([bm_coords[i] for i in range(len(bm_coords)) if np.allclose(bm_coords[i,2],0)])\n",
    "    bot_coords = np.array([bm_coords[i] for i in range(len(bm_coords)) if np.any(np.absolute(bm_coords[i,2]) < DOLFIN_EPS)])\n",
    "    a_s = np.max(norm(bot_coords[:,:2], axis=1))\n",
    "    z = np.max(bm_coords[:,2])\n",
    "    top_coords = np.array([bm_coords[i] for i in range(len(bm_coords)) if np.allclose(bm_coords[i,2],z)])\n",
    "    a_t = np.max(norm(top_coords[:,:2], axis=1))\n",
    "    return a_s, a_t, z\n",
    "\n",
    "def get_current_2D(func, mesh, a_s = 1e-7):\n",
    "    # func: _c_3 in our case (Ru3+), a_s: 100nm pippete radius                                                                          \n",
    "    F = 96485.332\n",
    "    r = np.linspace(0,a_s,100)\n",
    "    Jo_list = []\n",
    "    vec = project(func.dx(2), FunctionSpace(mesh, P1))\n",
    "    for j in range(len(r)):\n",
    "        point = np.array([r[j], 0.0])\n",
    "        x = np.array(point)\n",
    "        x_point = Point(x)\n",
    "        Jo = -D_o*vec(x_point)\n",
    "        Jo_list.append(Jo)\n",
    "    i = 2*np.pi*F*np.trapz(Jo_list*r, x=r)\n",
    "    return i\n",
    "\n",
    "def get_current_3D(func, mesh, a_s = 1e-7):\n",
    "    # func: _c_3 in our case (Ru3+), a_s: 100nm pippete radius                                                                          \n",
    "    F = 96485.332\n",
    "    r_list = np.linspace(0,a_s,100)\n",
    "    th_list = np.linspace(0,2*np.pi,100)\n",
    "    Jo_mat = np.zeros((len(r_list), len(th_list)))\n",
    "    vec = project(func.dx(2), FunctionSpace(mesh, P1))\n",
    "    vec.set_allow_extrapolation(True)\n",
    "    \n",
    "    def xy_coord(r, th):\n",
    "        return [r*np.cos(th), r*np.sin(th)]\n",
    "    \n",
    "    for j in range(len(r_list)):\n",
    "        for k in range(len(th_list)):\n",
    "            xy = xy_coord(r_list[j], th_list[k])\n",
    "            point = np.array([xy[0], xy[1], 0.0])\n",
    "            xy_point = Point(point)\n",
    "            Jo = -D_o*vec(xy_point)\n",
    "            Jo_mat[j, k] = Jo\n",
    "    \n",
    "    y = np.trapz(Jo_mat, x=th_list, axis=1)*r_list\n",
    "    i = F*np.trapz(y, x=r_list)\n",
    "    return i\n",
    "\n",
    "def check_sol1():\n",
    "    point = [1e-7, 0.7e-7]\n",
    "    x = np.array(point)\n",
    "    x_point = Point(*x) \n",
    "    P1 = FiniteElement('P', triangle, 1)\n",
    "    vec1 = project(_c_4.dx(0), FunctionSpace(mesh, P1))\n",
    "    vec2 = project(_c_3.dx(0), FunctionSpace(mesh, P1))\n",
    "    vec3 = project(_c_2.dx(0), FunctionSpace(mesh, P1))\n",
    "    vec4 = project(_c_1.dx(0), FunctionSpace(mesh, P1))\n",
    "    print(norm(np.array([vec1(x_point), vec2(x_point), vec3(x_point), vec4(x_point)])))\n",
    "    \n",
    "def check_sol2():\n",
    "    point = [0.6e-7, 0]\n",
    "    x = np.array(point)\n",
    "    x_point = Point(*x) \n",
    "    P1 = FiniteElement('P', triangle, 1)\n",
    "    vec = project(_c_3.dx(1)+_c_4.dx(1), FunctionSpace(mesh, P1))\n",
    "    print(vec(x_point))\n",
    "\n",
    "def check_sol3():\n",
    "    point = [0.6e-7, 0]\n",
    "    x = np.array(point)\n",
    "    x_point = Point(*x) \n",
    "    P1 = FiniteElement('P', triangle, 1)\n",
    "    vec1 = project(_c_2.dx(1), FunctionSpace(mesh, P1))\n",
    "    vec2 = project(_c_1.dx(1), FunctionSpace(mesh, P1))\n",
    "    print(norm(np.array([vec1(x_point), vec2(x_point)])))\n",
    "    \n",
    "def save_sol(fname, u, mesh):\n",
    "    # u is a function                                                                                                                                                          \n",
    "    output_file = HDF5File(mesh.mpi_comm(), fname+\".h5\", \"w\")\n",
    "    output_file.write(u, \"solution\")\n",
    "    output_file.close()\n",
    "    \n",
    "def load_sol(fname, U, mesh):\n",
    "    # U is a function                                                                                                                                                          \n",
    "    input_file = HDF5File(mesh.mpi_comm(), fname+\".h5\", \"r\")\n",
    "    input_file.read(U, \"solution\")\n",
    "    input_file.close()\n",
    "    return U\n",
    "\n",
    "def save_obj(obj, name ):\n",
    "    with open(name, 'wb') as f:\n",
    "        pickle.dump(obj, f)\n",
    "\n",
    "def load_obj(name ):\n",
    "    with open(name, 'rb') as f:\n",
    "        return pickle.load(f)"
   ]
  },
  {
   "cell_type": "code",
   "execution_count": 104,
   "id": "302ca721",
   "metadata": {},
   "outputs": [],
   "source": [
    "# from vedo.dolfin import plot\n",
    "# mesh = Mesh('mesh3D.xml');\n",
    "# # plt = plot(mesh, \n",
    "# #            mode=\"displaced mesh\",\n",
    "# #            lighting='plastic',\n",
    "# #            axes=1,\n",
    "# #            viewup='z',\n",
    "# #            interactive=0)\n",
    "# bmesh = BoundaryMesh(mesh, \"exterior\", True)\n",
    "# bmesh"
   ]
  },
  {
   "cell_type": "markdown",
   "id": "61f62a9d",
   "metadata": {},
   "source": [
    "# SUPG PNP"
   ]
  },
  {
   "cell_type": "code",
   "execution_count": 105,
   "id": "14e99048",
   "metadata": {},
   "outputs": [
    {
     "name": "stdout",
     "output_type": "stream",
     "text": [
      "Vapp=-0.35, Vdl=-0.291198576, ko=0.006 \n",
      "\n",
      "Geometry a_s = 5.000000000000002e-09, a_t = 3.500000000000001e-06, z_t = 2e-05\n",
      "Solving nonlinear variational problem.\n",
      "  0 SNES Function norm 1.092268648273e+04 \n",
      "  1 SNES Function norm 1.486504515553e-05 \n",
      "  PETSc SNES solver converged in 1 iterations with convergence reason CONVERGED_FNORM_RELATIVE.\n",
      "Building point search tree to accelerate distance queries.\n",
      "Computed bounding box tree with 435519 nodes for 217760 points.\n",
      "I = -3.716713953607277e-13\n"
     ]
    }
   ],
   "source": [
    "## Constants Radial\n",
    "z_1, z_2, z_3, z_4 = 1, -1, 3, 2 # Charge numbers K+, Cl-, Ru3+, Ru2+\n",
    "c_ruhex = 2 #mM\n",
    "c_KCl = 100 #mM\n",
    "# Note 1mM = 1mol/m3 (SI units)\n",
    "eps = 80\n",
    "eps0 = 8.854187e-12 # Vacuum permittivity F/m\n",
    "e = 1.60218e-19 # Coulombs \n",
    "kbT = 0.0259 # eV, room temp\n",
    "F = 96485.332 # C/mol\n",
    "D_o, D_r = 3.7e-10 , 3.7e-9 # trilayer 8.43e-10 , 1.19e-9 Diff constants (m^2/s)\n",
    "a = (1/kbT)\n",
    "b = a*(F/(eps*eps0))\n",
    "#a, b = 1, 10e9\n",
    "k_o = 0.006\n",
    "Eo = -0.25\n",
    "V_dl = -0.291198576 #V Electrode potential\n",
    "d_h = 0.5e-9 #0.5nm Stern layer thickness\n",
    "#eta_list = np.linspace(-0.5, 0.3, 9)\n",
    "#Vapp_list = eta_list + Eo\n",
    "Vapp_list = np.linspace(-0.5, -0.1, 9)\n",
    "#Vapp = Vapp_list[8]\n",
    "Vapp = -0.35\n",
    "print('Vapp={}, Vdl={}, ko={}'.format(Vapp, V_dl, k_o),'\\n')\n",
    "\n",
    "\n",
    "a_s, a_t, z_t = get_mesh_geo(mesh)\n",
    "print('Geometry a_s = {}, a_t = {}, z_t = {}'.format(a_s, a_t, z_t))\n",
    "\n",
    "## initialize phi                                                                                                                       \n",
    "# V_phi = FunctionSpace(mesh, 'P', 1)\n",
    "\n",
    "deg = 1\n",
    "phi_D = Expression(str(0.0), degree=deg)\n",
    "\n",
    "def boundary(x, on_boundary):\n",
    "    return on_boundary\n",
    "\n",
    "# phi = TrialFunction(V_phi)\n",
    "# v = TestFunction(V_phi)\n",
    "\n",
    "\n",
    "## initialize conc                                                                                                                      \n",
    "P1 = FiniteElement('P', tetrahedron, 1)\n",
    "element = MixedElement([P1, P1, P1, P1, P1])\n",
    "V = FunctionSpace(mesh, element)\n",
    "\n",
    "c_a = Expression(str(c_KCl), degree=deg)\n",
    "c_b = Expression(str(z_1*c_KCl + z_3*c_ruhex), degree=deg)\n",
    "c_c = Expression(str(c_ruhex), degree=deg)\n",
    "c_d = Expression(str(0.0), degree=deg)\n",
    "\n",
    "v, q_1, q_2, q_3, q_4 = TestFunctions(V)\n",
    "sol = Function(V)\n",
    "dsol = TrialFunction(V)\n",
    "phi, c_1, c_2, c_3, c_4 = split(sol)\n",
    "#c_ini = load_sol('Sol/_c',c,mesh)\n",
    "#c.vector()[:] = c_ini.vector()[:]\n",
    "#sol.vector().set_local(rand(sol.vector().size())) # For starting calculations\n",
    "#sol.vector().apply(\"\")\n",
    "\n",
    "## BCs\n",
    "tol = DOLFIN_EPS\n",
    "def boundary_5(x, on_boundary):\n",
    "    return on_boundary and near(x[2], z_t, tol)\n",
    "\n",
    "# phi BCs                                                                                                                               \n",
    "bc_1= DirichletBC(V.sub(0), phi_D, boundary_5)\n",
    "#bc_2= DirichletBC(V.sub(0), phi_L, boundary_1)                                                                                         \n",
    "#bcs_phi = [bc_1, bc_2]                                                                                                                 \n",
    "#bcs_phi = [bc_1]                                                                                                                       \n",
    "\n",
    "# conc BCs                                                                                                                              \n",
    "bc_5a= DirichletBC(V.sub(1), c_a, boundary_5)\n",
    "bc_5b= DirichletBC(V.sub(2), c_b, boundary_5)\n",
    "bc_5c= DirichletBC(V.sub(3), c_c, boundary_5)\n",
    "bc_5d= DirichletBC(V.sub(4), c_d, boundary_5)\n",
    "bcs = [bc_1, bc_5a, bc_5b, bc_5c, bc_5d]\n",
    "\n",
    "## Different Neumann BC for bottom BC                                                                                                   \n",
    "## create a mesh function which assigns an unsigned integer (size_t) to each edge                                                        \n",
    "mf = MeshFunction(\"size_t\", mesh, mesh.topology().dim() - 1) # 3rd argument is dimension of an edge                                                             \n",
    "mf.set_all(0) # initialize the function to zero                                                                                         \n",
    "class BottomBoundary(SubDomain):\n",
    "    def inside(self, x, on_boundary):\n",
    "        tol = DOLFIN_EPS\n",
    "        return near(x[2], 0.0, tol) and on_boundary # Use x[2] for 3D.\n",
    "\n",
    "bottomboundary = BottomBoundary() # instantiate it \n",
    "\n",
    "# use this bottomboundary object to set values of the mesh function to 1 in the subdomain                                               \n",
    "bottomboundary.mark(mf, 1)\n",
    "\n",
    "# define a new measure ds based on this mesh function                                                                                   \n",
    "ds = Measure(\"ds\", domain=mesh, subdomain_data=mf)\n",
    "File(\"mf.pvd\").write(mf) # Save mf for Paraview                                                                                        \n",
    "\n",
    "### Compute solution                                                                                                                    \n",
    "## Define problem for phi                                                                                                               \n",
    "n = FacetNormal(mesh)\n",
    "r = Expression('x[0]', degree=deg)\n",
    "#nabla_phi = (z_1*c_1 + z_2*c_2 + z_3*c_3 + z_4*c_4)                                                                                    \n",
    "dphi_1 = Expression('0.0', degree=deg)\n",
    "\n",
    "\n",
    "## Define problem for conc                                                                                                                                                                                                                 \n",
    "g_1 = Expression('0.0', degree=deg)\n",
    "g_2 = Expression('0.0', degree=deg)\n",
    "g_3 = Expression('0.0', degree=deg)\n",
    "g_4 = Expression('0.0', degree=deg)\n",
    "#m1 = dot(grad(c_3), n)                                                                                                                 \n",
    "#m1 = Dx(c_3,1) does not give correct solution  \n",
    "kox, kred = BV_rates(k_o, eta=Vapp)#eta=Vapp-Eo)\n",
    "m1 = -(kred*c_3 - kox*c_4)/D_o # Rate theory input \n",
    "m2 = dot(grad(c_4), n)\n",
    "\n",
    "Func = (inner(grad(phi),grad(v)))*dx() - ((V_dl - phi)/d_h)*v*ds(1) \\\n",
    "    - (F/(eps*eps0))*(z_1*c_1 + z_2*c_2 + z_3*c_3 + z_4*c_4)*v*dx() + dphi_1*v*ds(0) \\\n",
    "    + ((inner(grad(c_1), grad(q_1))) - ((z_1*a)*div(c_1*grad(phi))*q_1))*dx() \\\n",
    "    + ((inner(grad(c_2), grad(q_2))) - ((z_1*a)*div(c_2*grad(phi))*q_2))*dx() \\\n",
    "    + ((inner(grad(c_3), grad(q_3))) - ((z_1*a)*div(c_3*grad(phi))*q_3))*dx() \\\n",
    "    + ((inner(grad(c_4), grad(q_4))) - ((z_1*a)*div(c_4*grad(phi))*q_4))*dx() \\\n",
    "    - g_1*q_1*ds() - g_2*q_2*ds() - g_3*q_3*ds(0) - g_4*q_4*ds(0) \\\n",
    "    - m1*q_3*ds(1) + (D_o/D_r)*m1*q_4*ds(1) \\\n",
    "\n",
    "#a = lhs(Func)\n",
    "#L = rhs(Func)\n",
    "L = 0\n",
    "\n",
    "#c.vector()[:] = csol.vector()[:]\n",
    "#c.vector().set_local(rand(c.vector().size())) # For starting calculations\n",
    "#c.vector().apply(\"\")\n",
    "\n",
    "# Solver configs                                                                                                                        \n",
    "ffc_options = {\"optimize\": True, \"quadrature_degree\": 4}\n",
    "\n",
    "solver_parameters = {\"nonlinear_solver\": \"snes\",\n",
    "                     \"snes_solver\" : {\n",
    "                         \"report\" : True,\n",
    "                         \"error_on_nonconvergence\" : False,\n",
    "                         \"line_search\" : \"bt\",\n",
    "                         \"linear_solver\" : \"bicgstab\", # cg, bicgstab, gmres, lu, superlu_dist                                          \n",
    "                         \"preconditioner\" : \"sor\", # sor, amg, hypre_euclid, petsc_amg, ilu, icc                                        \n",
    "                         #\"convergence_criterion\": \"incremental\",                                                                       \n",
    "                         \"absolute_tolerance\" : 1E-7,\n",
    "                         \"relative_tolerance\" : 1E-6,                                                                                  \n",
    "                         \"maximum_iterations\" : 20000,\n",
    "                         #\"relaxation_parameter\" : 0.9,                                                                                 \n",
    "                         \"krylov_solver\" : {\n",
    "                             \"maximum_iterations\" : 20000,\n",
    "                             #\"monitor_convergence\" : True,                                                                             \n",
    "                             \"nonzero_initial_guess\" : False\n",
    "                         }}}\n",
    "\n",
    "J = derivative(Func, sol, dsol)\n",
    "problem = NonlinearVariationalProblem(Func, sol, bcs, J, form_compiler_parameters=ffc_options)\n",
    "solver = NonlinearVariationalSolver(problem)\n",
    "solver.parameters.update(solver_parameters)\n",
    "solver.solve()\n",
    "\n",
    "# solve(Func == L, sol, bcs, solver_parameters=solver_parameters)\n",
    "_phi, _c_1, _c_2, _c_3, _c_4 = sol.split()\n",
    "\n",
    "#plot(mesh)\n",
    "\n",
    "sol_0 = sol.copy()\n",
    "\n",
    "# check_sol1()\n",
    "# check_sol2()\n",
    "# check_sol3()\n",
    "\n",
    "curr = get_current_3D(_c_3, mesh, a_s = a_s)\n",
    "print('I = '+str(curr))"
   ]
  },
  {
   "cell_type": "code",
   "execution_count": 16,
   "id": "6d2797c1",
   "metadata": {},
   "outputs": [],
   "source": [
    "## Plot solution and mesh\n",
    "# plt = plot(_phi, \n",
    "#            mode=\"displaced mesh\",\n",
    "#            lighting='plastic',\n",
    "#            axes=1,\n",
    "#            viewup='y',\n",
    "#            interactive=0)"
   ]
  },
  {
   "cell_type": "code",
   "execution_count": 63,
   "id": "63da6e75",
   "metadata": {},
   "outputs": [
    {
     "data": {
      "text/plain": [
       "-7.536446165296134e-12"
      ]
     },
     "execution_count": 63,
     "metadata": {},
     "output_type": "execute_result"
    }
   ],
   "source": [
    "curr = get_current_3D(_c_3, mesh, a_s = a_s)\n",
    "curr\n",
    "#I(100)*1e-9 = -7.536446165296134e-12\n",
    "# I(100) = -7.554857302238538e-12\n",
    "# I(10) = -7.502492605571957e-13\n",
    "# I(2.5) = -5.418001494386875e-13"
   ]
  },
  {
   "cell_type": "code",
   "execution_count": 178,
   "id": "870a8696",
   "metadata": {},
   "outputs": [
    {
     "data": {
      "text/plain": [
       "2961011.4968765764"
      ]
     },
     "execution_count": 178,
     "metadata": {},
     "output_type": "execute_result"
    }
   ],
   "source": [
    "xy = xy_coord(9.898989898989899e-08, 0.12693303650867852)\n",
    "\n",
    "xy = [0.01e-7,0.71e-7]\n",
    "point = Point(np.array([xy[0], xy[1], 0.0]))\n",
    "#vec(Point([0.69e-7,-0.7e-7,0]))\n",
    "vec.set_allow_extrapolation(True)\n",
    "vec(point)\n"
   ]
  },
  {
   "cell_type": "code",
   "execution_count": 194,
   "id": "bde9ee67",
   "metadata": {},
   "outputs": [
    {
     "data": {
      "text/plain": [
       "(120,)"
      ]
     },
     "execution_count": 194,
     "metadata": {},
     "output_type": "execute_result"
    }
   ],
   "source": [
    "r_list = np.linspace(0,a_s,120)\n",
    "y = np.trapz(Jo_mat, x=th_list, axis=1)*r_list\n",
    "np.shape(y)"
   ]
  },
  {
   "cell_type": "code",
   "execution_count": 51,
   "id": "397d3a8f",
   "metadata": {},
   "outputs": [
    {
     "data": {
      "text/plain": [
       "-2128582.4382826667"
      ]
     },
     "execution_count": 51,
     "metadata": {},
     "output_type": "execute_result"
    }
   ],
   "source": [
    "point = [0.0e-7, 0.0e-7, 0]\n",
    "x = np.array(point)\n",
    "x_point = Point(*x) \n",
    "P1 = FiniteElement('P', tetrahedron, 1)\n",
    "vec = project(_c_4.dx(2), FunctionSpace(mesh, P1))\n",
    "vec(x_point)"
   ]
  },
  {
   "cell_type": "code",
   "execution_count": 52,
   "id": "fb87ed72",
   "metadata": {},
   "outputs": [
    {
     "data": {
      "text/plain": [
       "-2111212854.1152241"
      ]
     },
     "execution_count": 52,
     "metadata": {},
     "output_type": "execute_result"
    }
   ],
   "source": [
    "point = [0.0e-7, 0.0e-7, 0]\n",
    "x = np.array(point)\n",
    "x_point = Point(*x) \n",
    "P1 = FiniteElement('P', tetrahedron, 1)\n",
    "vec = project(_phi.dx(2), FunctionSpace(mesh, P1))\n",
    "vec(x_point)"
   ]
  },
  {
   "cell_type": "code",
   "execution_count": 53,
   "id": "1bde65bb",
   "metadata": {},
   "outputs": [
    {
     "data": {
      "text/plain": [
       "2131552489.9574585"
      ]
     },
     "execution_count": 53,
     "metadata": {},
     "output_type": "execute_result"
    }
   ],
   "source": [
    "(V_dl - _phi(0.0e-7, 0.0e-7, 0))/d_h"
   ]
  },
  {
   "cell_type": "code",
   "execution_count": 77,
   "id": "0e2f2dbb",
   "metadata": {},
   "outputs": [
    {
     "data": {
      "text/plain": [
       "-1.3461185016430184"
      ]
     },
     "execution_count": 77,
     "metadata": {},
     "output_type": "execute_result"
    }
   ],
   "source": [
    "_phi(0.5e-7, 0e-5)"
   ]
  },
  {
   "cell_type": "code",
   "execution_count": 58,
   "id": "bf57e92e",
   "metadata": {},
   "outputs": [
    {
     "data": {
      "text/plain": [
       "array([-0.6 , -0.54, -0.48, -0.42, -0.36, -0.3 , -0.24, -0.18, -0.12,\n",
       "       -0.06,  0.  ,  0.06,  0.12,  0.18,  0.24,  0.3 ,  0.36,  0.42,\n",
       "        0.48,  0.54,  0.6 ])"
      ]
     },
     "execution_count": 58,
     "metadata": {},
     "output_type": "execute_result"
    }
   ],
   "source": [
    "np.linspace(-0.6, 0.6, 21)"
   ]
  },
  {
   "cell_type": "markdown",
   "id": "c0131ecb",
   "metadata": {},
   "source": [
    "# Mesh size"
   ]
  },
  {
   "cell_type": "code",
   "execution_count": 24,
   "id": "345b8893",
   "metadata": {},
   "outputs": [
    {
     "data": {
      "text/plain": [
       "1.0000000000000001e-07"
      ]
     },
     "execution_count": 24,
     "metadata": {},
     "output_type": "execute_result"
    }
   ],
   "source": [
    "bmesh = BoundaryMesh(mesh, \"exterior\", True)\n",
    "arr = bmesh.coordinates()\n",
    "bot_coords = np.array([arr[i] for i in range(len(arr)) if np.allclose(arr[i,2],0)])\n",
    "a_s = np.max(norm(bot_coords[:,:2], axis=1))\n",
    "a_s"
   ]
  },
  {
   "cell_type": "code",
   "execution_count": 30,
   "id": "15982a83",
   "metadata": {},
   "outputs": [
    {
     "data": {
      "text/plain": [
       "3.5000000000000004e-06"
      ]
     },
     "execution_count": 30,
     "metadata": {},
     "output_type": "execute_result"
    }
   ],
   "source": [
    "z = np.max(arr[:,2])\n",
    "top_coords = np.array([arr[i] for i in range(len(arr)) if np.allclose(arr[i,2],z)])\n",
    "a_t = np.max(norm(top_coords[:,:2], axis=1))\n"
   ]
  },
  {
   "cell_type": "code",
   "execution_count": 33,
   "id": "1a681399",
   "metadata": {},
   "outputs": [
    {
     "data": {
      "text/plain": [
       "array([-0.35, -0.28, -0.21, -0.14, -0.07,  0.  ,  0.07,  0.14,  0.21,\n",
       "        0.28,  0.35])"
      ]
     },
     "execution_count": 33,
     "metadata": {},
     "output_type": "execute_result"
    }
   ],
   "source": [
    "np.linspace(-0.35, 0.35, 11)\n"
   ]
  },
  {
   "cell_type": "markdown",
   "id": "9f9f2598",
   "metadata": {},
   "source": [
    "# Solver parameters"
   ]
  },
  {
   "cell_type": "code",
   "execution_count": null,
   "id": "a239ebc5",
   "metadata": {},
   "outputs": [],
   "source": [
    "ffc_options = {\"optimize\": True, \"quadrature_degree\": 8}\n",
    "\n",
    "\n",
    "newton_solver_parameters = {\"nonlinear_solver\": \"newton\",\n",
    "\t\t\t\t\t\t\t\"newton_solver\" : {\n",
    "\t\t\t\t\t\t\t\t\t\"linear_solver\" : \"lu\",\n",
    "\t\t\t\t\t\t\t\t\t\"convergence_criterion\": \"incremental\",\n",
    "\t\t\t\t\t\t\t\t\t\"absolute_tolerance\" : 1E-6,\n",
    "\t\t\t\t\t\t\t\t\t\"relative_tolerance\" : 1E-6,\n",
    "\t\t\t\t\t\t\t\t\t\"maximum_iterations\" : 50,\n",
    "\t\t\t\t\t\t\t\t\t\"relaxation_parameter\" : 1.0 }}\n",
    "\n",
    "problem1 = NonlinearVariationalProblem(F1, c, bcs, J1, form_compiler_parameters=ffc_options)\n",
    "problem1G = NonlinearVariationalProblem(F1_G, c_G, bcs1, J1_G, form_compiler_parameters=ffc_options)\n",
    "solver1  = NonlinearVariationalSolver(problem1)\n",
    "solver1.parameters.update(newton_solver_parameters)"
   ]
  }
 ],
 "metadata": {
  "kernelspec": {
   "display_name": "Python 3 (ipykernel)",
   "language": "python",
   "name": "python3"
  },
  "language_info": {
   "codemirror_mode": {
    "name": "ipython",
    "version": 3
   },
   "file_extension": ".py",
   "mimetype": "text/x-python",
   "name": "python",
   "nbconvert_exporter": "python",
   "pygments_lexer": "ipython3",
   "version": "3.8.2"
  }
 },
 "nbformat": 4,
 "nbformat_minor": 5
}
