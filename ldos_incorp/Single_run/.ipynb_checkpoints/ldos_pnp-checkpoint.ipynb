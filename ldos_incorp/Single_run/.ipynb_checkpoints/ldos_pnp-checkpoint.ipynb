{
 "cells": [
  {
   "cell_type": "code",
   "execution_count": 6,
   "id": "b78ea5fb",
   "metadata": {},
   "outputs": [],
   "source": [
    "import numpy as np\n",
    "import os, sys, re, glob\n",
    "from dolfin import *\n",
    "from __future__ import print_function\n",
    "from fenics import *\n",
    "import pickle, mat73\n",
    "from numpy.random import rand\n",
    "from numpy.linalg import norm\n",
    "import matplotlib.pyplot as plt\n",
    "from matplotlib.ticker import MaxNLocator\n",
    "import matplotlib as mpl\n",
    "from scipy.interpolate import CloughTocher2DInterpolator as CT\n",
    "from scipy.io import loadmat, savemat \n",
    "from numpy.linalg import norm\n",
    "import plotly.graph_objects as go\n",
    "from scipy.interpolate import interp2d\n",
    "from ase import Atoms\n",
    "#from funcs_pnp import *\n",
    "font = {'family' : 'Times New Roman',\n",
    "        'weight' : 'regular',\n",
    "        'size'   : 16}\n",
    "\n",
    "mpl.rc('font', **font)\n",
    "mpl.rcParams['figure.figsize'] = (10.0, 6.0)\n",
    "mpl.rc('axes', linewidth=2)\n",
    "mpl.rcParams['lines.linewidth'] = 2\n",
    "#mpl.rcParams['xtick.major.size'] = 20                                                                                                                                     \n",
    "mpl.rcParams['xtick.major.width'] = 2\n",
    "mpl.rcParams['ytick.major.width'] = 2"
   ]
  },
  {
   "cell_type": "code",
   "execution_count": 7,
   "id": "2ac88383",
   "metadata": {},
   "outputs": [
    {
     "data": {
      "text/plain": [
       "(2.000000000000001e-08, 3.500000000000001e-06, 2e-05)"
      ]
     },
     "execution_count": 7,
     "metadata": {},
     "output_type": "execute_result"
    }
   ],
   "source": [
    "# Load Mesh\n",
    "mesh = Mesh('/Users/mbabar/Desktop/PhD/Analysis/PDE/PNP_solve/3D_vmg/Mesh/Testing/mesh_20.xml')\n",
    "\n",
    "# Scale mesh\n",
    "m_coords = mesh.coordinates()\n",
    "scal_r = np.float64(1e-9)\n",
    "m_coords[:, :] *= scal_r\n",
    "mesh.bounding_box_tree().build(mesh) # development version\n",
    "#mesh_file = File(\"mesh_scale.xml\")\n",
    "#mesh_file << mesh\n",
    "\n",
    "a_s, a_t, z_t = get_mesh_geo(mesh) # Mesh geometry\n",
    "a_s, a_t, z_t"
   ]
  },
  {
   "cell_type": "code",
   "execution_count": null,
   "id": "230cb237",
   "metadata": {},
   "outputs": [],
   "source": []
  },
  {
   "cell_type": "code",
   "execution_count": 8,
   "id": "04c8e702",
   "metadata": {},
   "outputs": [],
   "source": [
    "def get_mesh_geo(mesh):\n",
    "    # Assuming mesh is circular at the bottom and top surfaces with origin at (0,0,0)                                                   \n",
    "    #mesh = Mesh(mesh_file)                                                                                                             \n",
    "    bmesh = BoundaryMesh(mesh, \"exterior\", True)\n",
    "    bm_coords = bmesh.coordinates()\n",
    "    #bot_coords = np.array([bm_coords[i] for i in range(len(bm_coords)) if np.allclose(bm_coords[i,2],0)])\n",
    "    bot_coords = np.array([bm_coords[i] for i in range(len(bm_coords)) if np.any(np.absolute(bm_coords[i,2]) < DOLFIN_EPS)])\n",
    "    a_s = np.max(norm(bot_coords[:,:2], axis=1))\n",
    "    z = np.max(bm_coords[:,2])\n",
    "    top_coords = np.array([bm_coords[i] for i in range(len(bm_coords)) if np.allclose(bm_coords[i,2],z)])\n",
    "    a_t = np.max(norm(top_coords[:,:2], axis=1))\n",
    "    return a_s, a_t, z\n",
    "\n",
    "def BV_rates(ko, eta=0.0, A=1.0, alpha=0.5):\n",
    "    kbT = 0.0259\n",
    "    kred = A*ko*np.exp(-(alpha*(eta))/kbT)\n",
    "    kox = A*ko*np.exp(((1-alpha)*(eta))/kbT)\n",
    "    return kox, kred\n",
    "\n",
    "def get_current_3D(func, mesh, D_o, a_s = 1e-7):\n",
    "    # func: _c_3 in our case (Ru3+), a_s: 100nm pippete radius\n",
    "    P1 = FiniteElement('P', tetrahedron, 1)\n",
    "    F = 96485.332\n",
    "    r_list = np.linspace(0,a_s,100)\n",
    "    th_list = np.linspace(0,2*np.pi,100)\n",
    "    Jo_mat = np.zeros((len(r_list), len(th_list)))\n",
    "    vec = project(func.dx(2), FunctionSpace(mesh, P1))\n",
    "    vec.set_allow_extrapolation(True)\n",
    "    \n",
    "    def xy_coord(r, th):\n",
    "        return [r*np.cos(th), r*np.sin(th)]\n",
    "    \n",
    "    for j in range(len(r_list)):\n",
    "        for k in range(len(th_list)):\n",
    "            xy = xy_coord(r_list[j], th_list[k])\n",
    "            point = np.array([xy[0], xy[1], 0.0])\n",
    "            xy_point = Point(point)\n",
    "            Jo = -D_o*vec(xy_point)\n",
    "            Jo_mat[j, k] = Jo\n",
    "    \n",
    "    y = np.trapz(Jo_mat, x=th_list, axis=1)*r_list\n",
    "    i = F*np.trapz(y, x=r_list)\n",
    "    return i\n",
    "\n",
    "def query_point(point, rscx, rscy, moir_l):\n",
    "    # Query indices closest to point in rscx and rscy\n",
    "    coords = moir_l*np.array([rscx.flatten(), rscy.flatten()])\n",
    "    length = len(rscx)\n",
    "    diff = coords - np.reshape(np.array(point), (2,1))\n",
    "    id = np.argmin(norm(diff, axis=0))\n",
    "    idx, idy = id % length, id // length\n",
    "    return idx, idy\n",
    "\n",
    "def wrap_pos(point, bvec1, bvec2, orig=[0,0]):\n",
    "    atoms = Atoms('CC', positions=[(orig[0], orig[1], 0), (point[0], point[1], 0)])\n",
    "    cell = np.array([(bvec1[0], bvec1[1], 0), (bvec2[0], bvec2[1], 0), (0, 0, 0)])\n",
    "    cell[:2,:] = cell[:2,:] + np.array([orig[0], orig[1], 0])\n",
    "    atoms.set_cell(cell)\n",
    "    atoms.set_pbc([1,1,0])\n",
    "    atoms.wrap()\n",
    "    return atoms.get_positions()[0,:2], atoms.get_positions()[1,:2]\n",
    "\n",
    "def my_CT(xy, z):\n",
    "    \"\"\"CT interpolator + nearest-neighbor extrapolation.\n",
    "\n",
    "    Parameters\n",
    "    ----------\n",
    "    xy : ndarray, shape (ndim, npoints)\n",
    "        Coordinates of data points\n",
    "    z : ndarray, shape (npoints)\n",
    "        Values at data points\n",
    "\n",
    "    Returns\n",
    "    -------\n",
    "    func : callable\n",
    "        A callable object which mirrors the CT behavior,\n",
    "        with an additional neareast-neighbor extrapolation\n",
    "        outside of the data range.\n",
    "    \"\"\"\n",
    "    x = xy[0, :]\n",
    "    y = xy[1, :]\n",
    "    f = CT(np.array([x,y]).T, z)\n",
    "\n",
    "    # this inner function will be returned to a user\n",
    "    def new_f(xx, yy):\n",
    "        # evaluate the CT interpolator. Out-of-bounds values are nan.\n",
    "        xx, yy = np.array(xx), np.array(yy)\n",
    "        zz = f(xx, yy)\n",
    "        nans = np.isnan(zz)\n",
    "\n",
    "        if nans.any():\n",
    "            # for each nan point, find its nearest neighbor\n",
    "            inds = np.argmin((x[:, None] - xx[nans])**2 + (y[:, None] - yy[nans])**2, axis=0)\n",
    "            # ... and use its value\n",
    "            zz[nans] = z[inds]\n",
    "        return zz\n",
    "\n",
    "    return new_f\n",
    "\n",
    "class Model_rates(UserExpression):\n",
    "    def __init__(self, *args, **kwargs):\n",
    "        super().__init__(*args, **kwargs)\n",
    "        self.kred = args[0] # kred value or interpolator\n",
    "        self.kox = args[1] # kox value or interpolator\n",
    "        self.Vdl = args[2] # Vdl value or interpolator\n",
    "        # Moire cell parameters\n",
    "        self.bvec1 = args[3] # basis vector 1\n",
    "        self.bvec2 = args[4] # basis vector 2\n",
    "        self.orig = args[5] # origin of the moire supercell\n",
    "        \n",
    "    def eval(self, values, x):\n",
    "        #kox, kred = BV_rates(get_ko(x, a_s=self.a_s), eta=self.Vapp) # Insert model\n",
    "        if x[2] < 0.5e-9:\n",
    "            pos_Ang = 1e10*np.array([x[0], x[1]]) # Convert x from m to Ang before interpolation\n",
    "            wrap_pt = wrap_pos(pos_Ang, self.bvec1, self.bvec2, orig=self.orig)[1] # Wrap position inside moire supercell\n",
    "            values[0] = self.kred(wrap_pt[0], wrap_pt[1])\n",
    "            values[1] = self.kox(wrap_pt[0], wrap_pt[1])\n",
    "            values[2] = self.Vdl(wrap_pt[0], wrap_pt[1])\n",
    "        else:\n",
    "            values[0] = 0.0\n",
    "            values[1] = 0.0\n",
    "            values[2] = 0.0\n",
    "    \n",
    "class Model_rates_test(UserExpression):\n",
    "    def __init__(self, *args, **kwargs):\n",
    "        super().__init__(*args, **kwargs)\n",
    "        self.Vapp = args[0] \n",
    "        self.a_s = args[1] \n",
    "        \n",
    "    def get_ko(pos, a_s=1e-7): # Testing rate model function\n",
    "        # pos is at the bottom boundary\n",
    "        return 0.001*(1 + 0.001*(np.sin(4*np.pi*pos[0]/a_s) + np.cos(4*np.pi*pos[1]/a_s)))\n",
    "\n",
    "    def eval(self, values, x):\n",
    "        kox, kred = BV_rates(get_ko(x, a_s=self.a_s), eta=self.Vapp) # Insert model\n",
    "        Vdl = 10e6*(np.sqrt((x[0]**2) + (x[1]**2)))\n",
    "        values[0] = kred\n",
    "        values[1] = kox\n",
    "        values[2] = Vdl\n",
    "        \n",
    "    def value_shape(self):\n",
    "        return (3,)\n",
    "    \n",
    "def par_eval(mesh, vec, x, bbt = None, val_size=1):\n",
    "    if bbt == None:\n",
    "        bbt = mesh.bounding_box_tree()\n",
    "    x_point = Point(x)\n",
    "    bbt_id = bbt.compute_first_entity_collision(x_point)\n",
    "    if bbt_id < mesh.num_cells():\n",
    "        val = np.zeros(val_size)\n",
    "        vec.eval_cell(val, x, Cell(mesh, bbt_id))\n",
    "        return val\n",
    "    else:\n",
    "        return None\n",
    "    \n",
    "def tblg_dim(theta):\n",
    "    alpha = 2.47\n",
    "    sind = lambda degrees: np.sin(np.deg2rad(degrees))\n",
    "    cosd = lambda degrees: np.cos(np.deg2rad(degrees))\n",
    "    sc_alpha = alpha/(2*sind(theta/2))\n",
    "    sc_area = (sc_alpha**2)*sind(60)*1e-2\n",
    "    return sc_alpha, sc_area\n",
    "\n",
    "def save_sol(fname, u, mesh):\n",
    "    # u is a function                   \n",
    "    output_file = HDF5File(mesh.mpi_comm(), fname+\".h5\", \"w\")\n",
    "    output_file.write(u, \"solution\")\n",
    "    output_file.close()\n",
    "    \n",
    "def load_sol(fname, U, mesh):\n",
    "    # U is a function                                \n",
    "    input_file = HDF5File(mesh.mpi_comm(), fname, \"r\")\n",
    "    input_file.read(U, \"solution\")\n",
    "    input_file.close()\n",
    "    return U\n",
    "\n",
    "def save_obj(obj, name ):\n",
    "    with open(name, 'wb') as f:\n",
    "        pickle.dump(obj, f)\n",
    "\n",
    "def load_obj(name ):\n",
    "    with open(name, 'rb') as f:\n",
    "        return pickle.load(f)\n",
    "\n",
    "def read_yml(ymlfile):\n",
    "    with open(ymlfile) as file:\n",
    "        out_dict = yaml.load(file, Loader=yaml.FullLoader)\n",
    "    return out_dict\n",
    "\n",
    "def write_yml(dict_file, fname='test.yaml'):\n",
    "    with open(fname, 'w') as file:\n",
    "        yaml.dump(dict_file, file)\n",
    "\n",
    "def round_it(x, sig):\n",
    "    return round(x, sig-int(floor(log10(abs(x))))-1)"
   ]
  },
  {
   "cell_type": "code",
   "execution_count": 308,
   "id": "67ec3d73",
   "metadata": {},
   "outputs": [],
   "source": [
    "#Constants\n",
    "\n",
    "z_1, z_2, z_3, z_4 = 1, -1, 3, 2 # Charge numbers K+, Cl-, Ru3+, Ru2+\n",
    "c_ruhex = 2 #mM\n",
    "c_KCl = 100 #mM\n",
    "# Note 1mM = 1mol/m3 (SI units)\n",
    "eps = 80\n",
    "eps0 = 8.854187e-12 # Vacuum permittivity F/m\n",
    "e = 1.60218e-19 # Coulombs \n",
    "kbT = 0.0259 # eV, room temp\n",
    "F = 96485.332 # C/mol\n",
    "D_o, D_r = 3.7e-10 , 3.7e-10 # 8.43e-10 , 1.19e-9 Diff constants (m^2/s)\n",
    "Eo = -0.25\n",
    "#V_dl = -0.291198576 #V Electrode potential\n",
    "d_h = 0.5e-9 #0.5nm Stern layer thickness\n",
    "#Vapp = -0.35\n",
    "#k_o = 0.06\n",
    "\n",
    "dos_file = '/Users/mbabar/Desktop/PhD/Analysis/PDE/PNP_solve/3D_vmg/ldos_incorp/ldos-th_2_nsamps_30_knum_24.mat'\n",
    "rate_loc = '/Users/mbabar/Desktop/PhD/Analysis/PDE/PNP_solve/3D_vmg/ldos_incorp/k_data_Vapp_0.0.mat'\n",
    "ldos_data = loadmat(dos_file)\n",
    "rate_data = mat73.loadmat(rate_loc)"
   ]
  },
  {
   "cell_type": "code",
   "execution_count": 318,
   "id": "f926c31d",
   "metadata": {},
   "outputs": [
    {
     "name": "stdout",
     "output_type": "stream",
     "text": [
      "Vapp=0.0 \n",
      "\n"
     ]
    }
   ],
   "source": [
    "## Input kinetic rates\n",
    "rscx = ldos_data[\"rscx\"]\n",
    "rscy = ldos_data[\"rscy\"]\n",
    "kred_data, kox_data = rate_data[\"kred_data\"], rate_data[\"kox_data\"]\n",
    "Vdl_data = rate_data[\"Vdl_data\"]\n",
    "theta = np.squeeze(ldos_data[\"theta\"])\n",
    "nsamps = ldos_data[\"nsamps\"]\n",
    "Vapp = rate_data[\"Vapp\"]\n",
    "print('Vapp={}'.format(Vapp),'\\n')\n",
    "\n",
    "moir_l, sc_area = tblg_dim(theta) # Moire supercell length and area Ang\n",
    "moir_a = np.pi/3 # Moire angle 60deg\n",
    "orig = moir_l*np.array([rscx[0,0], rscy[0,0]]) # Origin of the moire supercell\n",
    "# bvec1 = np.array([np.amax(moir_l*rscx)/2, np.amax(moir_l*rscy)])\n",
    "# bvec2 = np.array([np.amax(moir_l*rscx)/2, -np.amax(moir_l*rscy)])\n",
    "bvec1 = np.array([moir_l*np.cos(moir_a/2), moir_l*np.sin(moir_a/2)]) # basis vector 1\n",
    "bvec2 = np.array([moir_l*np.cos(moir_a/2), -moir_l*np.sin(moir_a/2)]) # basis vector 2\n",
    "coords = moir_l*np.array([rscx.flatten(), rscy.flatten()]) # In Ang, convert accordingly\n",
    "z_red, z_ox = kred_data.flatten(), kox_data.flatten()\n",
    "ip_red, ip_ox = my_CT(coords, z_red), my_CT(coords, z_ox) # 2D interpolators of kred and kox\n",
    "ip_Vdl = my_CT(coords, Vdl_data.flatten()) # Interpolators take coords in Angstroms"
   ]
  },
  {
   "cell_type": "code",
   "execution_count": 316,
   "id": "d6afa809",
   "metadata": {},
   "outputs": [],
   "source": [
    "V_k = FunctionSpace(mesh, MixedElement([P1, P1, P1]))\n",
    "k_model = Function(V_k)\n",
    "u_bc = Model_rates2(ip_red, ip_ox, ip_Vdl, bvec1, bvec2, orig)\n",
    "k_model = interpolate(u_bc, V_k)\n",
    "#kred_f, kox_f, Vdl_f = k_model[0], k_model[1], k_model[2]\n",
    "kred_f, kox_f, Vdl_f = k_model.split()\n",
    "\n",
    "#File(\"kred_f.pvd\").write(kred_f)"
   ]
  },
  {
   "cell_type": "code",
   "execution_count": 162,
   "id": "f215a7d1",
   "metadata": {},
   "outputs": [],
   "source": [
    "kred_f, kox_f, Vdl_f = k_model.split()\n",
    "#kred_f, kox_f, Vdl_f = split(k_model)"
   ]
  },
  {
   "cell_type": "code",
   "execution_count": 319,
   "id": "4f9cf0e2",
   "metadata": {},
   "outputs": [
    {
     "data": {
      "image/png": "[encoded data removed]",
      "text/plain": [
       "<Figure size 720x432 with 2 Axes>"
      ]
     },
     "metadata": {
      "needs_background": "light"
     },
     "output_type": "display_data"
    }
   ],
   "source": [
    "theta_list = np.linspace( 0 , 2 * np.pi , 150 )\n",
    " \n",
    "radius = 1e10*a_s\n",
    " \n",
    "a = radius * np.cos(theta_list)\n",
    "b = radius * np.sin(theta_list)\n",
    "\n",
    "size = 100\n",
    "xc, yc = np.linspace(-radius, radius,100), np.linspace(-radius, radius,100)\n",
    "X, Y = np.meshgrid(xc, yc)\n",
    "\n",
    "Z = np.zeros(np.shape(X.flatten()))\n",
    "\n",
    "for i in range(len(Z)):\n",
    "    wrap_pt = wrap_pos([X.flatten()[i], Y.flatten()[i]], bvec1, bvec2, orig=orig)[1]\n",
    "    Z[i] = ip_red(wrap_pt[0], wrap_pt[1])\n",
    "        \n",
    "Z = Z.reshape((size, size))\n",
    "f = interp2d(xc, yc, Z, kind='cubic')\n",
    "\n",
    "plt.contourf(X, Y, f(xc, yc))\n",
    "plt.plot(a, b, 'k--')\n",
    "plt.colorbar()\n",
    "ax = plt.gca()\n",
    "ax.set_aspect('equal', adjustable='box')\n",
    "plt.axis('square')\n",
    "#plt.xlim([-radius/10, radius/10])\n",
    "#plt.ylim([-radius/10, radius/10])\n",
    "plt.xlabel('x (A)')\n",
    "plt.ylabel('y (A)')\n",
    "plt.tight_layout()\n",
    "#plt.savefig('mesh_20_kred.png')"
   ]
  },
  {
   "cell_type": "code",
   "execution_count": 295,
   "id": "23cf1930",
   "metadata": {},
   "outputs": [
    {
     "data": {
      "text/plain": [
       "array([0.00011189])"
      ]
     },
     "execution_count": 295,
     "metadata": {},
     "output_type": "execute_result"
    }
   ],
   "source": [
    "f(-30, 0)"
   ]
  },
  {
   "cell_type": "code",
   "execution_count": 299,
   "id": "e3ae33d9",
   "metadata": {},
   "outputs": [
    {
     "data": {
      "text/plain": [
       "array([0.00023745])"
      ]
     },
     "execution_count": 299,
     "metadata": {},
     "output_type": "execute_result"
    }
   ],
   "source": [
    "f(0, 0)"
   ]
  },
  {
   "cell_type": "code",
   "execution_count": 224,
   "id": "cbb0df0c",
   "metadata": {},
   "outputs": [],
   "source": [
    "P1 = FiniteElement('P', tetrahedron, 1)\n",
    "vec = project(kred_f, FunctionSpace(mesh, P1))\n",
    "save_sol('kred_f', vec, mesh)"
   ]
  },
  {
   "cell_type": "code",
   "execution_count": 317,
   "id": "12dbd79f",
   "metadata": {},
   "outputs": [
    {
     "data": {
      "image/png": "[encoded data removed]",
      "text/plain": [
       "<Figure size 720x432 with 2 Axes>"
      ]
     },
     "metadata": {
      "needs_background": "light"
     },
     "output_type": "display_data"
    }
   ],
   "source": [
    "#\n",
    "P1 = FiniteElement('P', tetrahedron, 1)\n",
    "#vec = interpolate(kred_f, FunctionSpace(mesh, P1))\n",
    "vec = project(kred_f, FunctionSpace(mesh, P1))\n",
    "#vec = interpolate(project(kred_f, FunctionSpace(mesh, P1)), FunctionSpace(mesh, P1))#V_k.sub(1))#FunctionSpace(mesh, P1))\n",
    "vec.set_allow_extrapolation(True)\n",
    "#File(\"kred_f.pvd\").write(vec)\n",
    "\n",
    "Z2 = np.zeros(np.shape(X.flatten()))\n",
    "ip_red(X, Y)\n",
    "for i in range(len(Z2)):\n",
    "    #wrap_pt = wrap_pos([X.flatten()[i], Y.flatten()[i]], bvec1, bvec2, orig=orig)[1]\n",
    "    #p = 1e-10*np.array([wrap_pt[0], wrap_pt[1], 0.0])\n",
    "    p = 1e-10*np.array([X.flatten()[i], Y.flatten()[i], 0.0])\n",
    "    #print(p)\n",
    "    Z2[i] = vec(*Point(p)) #ip_red(wrap_pt[0], wrap_pt[1])[1]\n",
    "        \n",
    "Z2 = Z2.reshape((size, size))\n",
    "plt.contourf(X, Y, Z2)\n",
    "plt.plot(a, b, 'k--')\n",
    "plt.colorbar()\n",
    "ax = plt.gca()\n",
    "ax.set_aspect('equal', adjustable='box')\n",
    "plt.axis('square')\n",
    "#plt.xlim([-radius, radius])\n",
    "#plt.ylim([-radius, radius])\n",
    "plt.xlabel('x (A)')\n",
    "plt.ylabel('y (A)')\n",
    "plt.tight_layout()"
   ]
  },
  {
   "cell_type": "code",
   "execution_count": 297,
   "id": "24f29587",
   "metadata": {},
   "outputs": [
    {
     "data": {
      "text/plain": [
       "0.0001527870163429831"
      ]
     },
     "execution_count": 297,
     "metadata": {},
     "output_type": "execute_result"
    }
   ],
   "source": [
    "vec(*Point(np.array([-30e-9,0,0])))"
   ]
  },
  {
   "cell_type": "code",
   "execution_count": 298,
   "id": "bc0a4e1b",
   "metadata": {},
   "outputs": [
    {
     "data": {
      "text/plain": [
       "0.00023626115249159052"
      ]
     },
     "execution_count": 298,
     "metadata": {},
     "output_type": "execute_result"
    }
   ],
   "source": [
    "vec(*Point(np.array([0,0,0])))"
   ]
  },
  {
   "cell_type": "code",
   "execution_count": 228,
   "id": "180f08d0",
   "metadata": {},
   "outputs": [
    {
     "data": {
      "text/plain": [
       "Coefficient(FunctionSpace(Mesh(VectorElement(FiniteElement('Lagrange', tetrahedron, 1), dim=3), 738), FiniteElement('Lagrange', tetrahedron, 1)), 1093)"
      ]
     },
     "execution_count": 228,
     "metadata": {},
     "output_type": "execute_result"
    }
   ],
   "source": [
    "kred_f = Function(FunctionSpace(mesh, P1))\n",
    "load_sol('kred_f.h5', kred_f, mesh)"
   ]
  },
  {
   "cell_type": "code",
   "execution_count": 229,
   "id": "13281076",
   "metadata": {},
   "outputs": [
    {
     "data": {
      "text/plain": [
       "Coefficient(FunctionSpace(Mesh(VectorElement(FiniteElement('Lagrange', tetrahedron, 1), dim=3), 738), FiniteElement('Lagrange', tetrahedron, 1)), 1093)"
      ]
     },
     "execution_count": 229,
     "metadata": {},
     "output_type": "execute_result"
    }
   ],
   "source": [
    "kred_f"
   ]
  },
  {
   "cell_type": "code",
   "execution_count": null,
   "id": "d3c31726",
   "metadata": {},
   "outputs": [],
   "source": [
    "P1 = FiniteElement('P', tetrahedron, 1)\n",
    "#vec = \n",
    "#File(\"kred_f.pvd\").write(vec)\n",
    "project(Vdl_f, FunctionSpace(mesh, P1))"
   ]
  },
  {
   "cell_type": "code",
   "execution_count": null,
   "id": "c8041028",
   "metadata": {},
   "outputs": [],
   "source": []
  },
  {
   "cell_type": "markdown",
   "id": "7b78b3e0",
   "metadata": {},
   "source": [
    "# PNP Solve"
   ]
  },
  {
   "cell_type": "code",
   "execution_count": null,
   "id": "8b40fbb1",
   "metadata": {},
   "outputs": [],
   "source": []
  },
  {
   "cell_type": "code",
   "execution_count": 46,
   "id": "8626413e",
   "metadata": {},
   "outputs": [
    {
     "name": "stdout",
     "output_type": "stream",
     "text": [
      "Vapp=0.0 \n",
      "\n"
     ]
    },
    {
     "ename": "KeyboardInterrupt",
     "evalue": "",
     "output_type": "error",
     "traceback": [
      "\u001b[0;31m---------------------------------------------------------------------------\u001b[0m",
      "\u001b[0;31mKeyboardInterrupt\u001b[0m                         Traceback (most recent call last)",
      "\u001b[0;32m/var/folders/h6/y0001fs148g09jbjqhg9zvg80000gn/T/ipykernel_9185/3342398977.py\u001b[0m in \u001b[0;36m<module>\u001b[0;34m\u001b[0m\n\u001b[1;32m    103\u001b[0m \u001b[0mk_model\u001b[0m \u001b[0;34m=\u001b[0m \u001b[0mFunction\u001b[0m\u001b[0;34m(\u001b[0m\u001b[0mV_k\u001b[0m\u001b[0;34m)\u001b[0m\u001b[0;34m\u001b[0m\u001b[0;34m\u001b[0m\u001b[0m\n\u001b[1;32m    104\u001b[0m \u001b[0mu_bc\u001b[0m \u001b[0;34m=\u001b[0m \u001b[0mModel_rates\u001b[0m\u001b[0;34m(\u001b[0m\u001b[0mip_red\u001b[0m\u001b[0;34m,\u001b[0m \u001b[0mip_ox\u001b[0m\u001b[0;34m,\u001b[0m \u001b[0mip_Vdl\u001b[0m\u001b[0;34m,\u001b[0m \u001b[0mbvec1\u001b[0m\u001b[0;34m,\u001b[0m \u001b[0mbvec2\u001b[0m\u001b[0;34m,\u001b[0m \u001b[0morig\u001b[0m\u001b[0;34m)\u001b[0m\u001b[0;34m\u001b[0m\u001b[0;34m\u001b[0m\u001b[0m\n\u001b[0;32m--> 105\u001b[0;31m \u001b[0mk_model\u001b[0m \u001b[0;34m=\u001b[0m \u001b[0minterpolate\u001b[0m\u001b[0;34m(\u001b[0m\u001b[0mu_bc\u001b[0m\u001b[0;34m,\u001b[0m \u001b[0mV_k\u001b[0m\u001b[0;34m)\u001b[0m\u001b[0;34m\u001b[0m\u001b[0;34m\u001b[0m\u001b[0m\n\u001b[0m\u001b[1;32m    106\u001b[0m \u001b[0mkred_f\u001b[0m\u001b[0;34m,\u001b[0m \u001b[0mkox_f\u001b[0m\u001b[0;34m,\u001b[0m \u001b[0mVdl_f\u001b[0m \u001b[0;34m=\u001b[0m \u001b[0mk_model\u001b[0m\u001b[0;34m[\u001b[0m\u001b[0;36m0\u001b[0m\u001b[0;34m]\u001b[0m\u001b[0;34m,\u001b[0m \u001b[0mk_model\u001b[0m\u001b[0;34m[\u001b[0m\u001b[0;36m1\u001b[0m\u001b[0;34m]\u001b[0m\u001b[0;34m,\u001b[0m \u001b[0mk_model\u001b[0m\u001b[0;34m[\u001b[0m\u001b[0;36m2\u001b[0m\u001b[0;34m]\u001b[0m\u001b[0;34m\u001b[0m\u001b[0;34m\u001b[0m\u001b[0m\n\u001b[1;32m    107\u001b[0m \u001b[0;34m\u001b[0m\u001b[0m\n",
      "\u001b[0;32m~/miniconda3/envs/paw/lib/python3.8/site-packages/dolfin/fem/interpolation.py\u001b[0m in \u001b[0;36minterpolate\u001b[0;34m(v, V)\u001b[0m\n\u001b[1;32m     69\u001b[0m     \u001b[0;31m# Compute interpolation\u001b[0m\u001b[0;34m\u001b[0m\u001b[0;34m\u001b[0m\u001b[0;34m\u001b[0m\u001b[0m\n\u001b[1;32m     70\u001b[0m     \u001b[0;32mif\u001b[0m \u001b[0mhasattr\u001b[0m\u001b[0;34m(\u001b[0m\u001b[0mv\u001b[0m\u001b[0;34m,\u001b[0m \u001b[0;34m\"_cpp_object\"\u001b[0m\u001b[0;34m)\u001b[0m\u001b[0;34m:\u001b[0m\u001b[0;34m\u001b[0m\u001b[0;34m\u001b[0m\u001b[0m\n\u001b[0;32m---> 71\u001b[0;31m         \u001b[0mPv\u001b[0m\u001b[0;34m.\u001b[0m\u001b[0minterpolate\u001b[0m\u001b[0;34m(\u001b[0m\u001b[0mv\u001b[0m\u001b[0;34m.\u001b[0m\u001b[0m_cpp_object\u001b[0m\u001b[0;34m)\u001b[0m\u001b[0;34m\u001b[0m\u001b[0;34m\u001b[0m\u001b[0m\n\u001b[0m\u001b[1;32m     72\u001b[0m     \u001b[0;32melse\u001b[0m\u001b[0;34m:\u001b[0m\u001b[0;34m\u001b[0m\u001b[0;34m\u001b[0m\u001b[0m\n\u001b[1;32m     73\u001b[0m         \u001b[0mPv\u001b[0m\u001b[0;34m.\u001b[0m\u001b[0minterpolate\u001b[0m\u001b[0;34m(\u001b[0m\u001b[0mv\u001b[0m\u001b[0;34m)\u001b[0m\u001b[0;34m\u001b[0m\u001b[0;34m\u001b[0m\u001b[0m\n",
      "\u001b[0;32m~/miniconda3/envs/paw/lib/python3.8/site-packages/dolfin/function/function.py\u001b[0m in \u001b[0;36minterpolate\u001b[0;34m(self, u)\u001b[0m\n\u001b[1;32m    363\u001b[0m             \u001b[0mself\u001b[0m\u001b[0;34m.\u001b[0m\u001b[0m_cpp_object\u001b[0m\u001b[0;34m.\u001b[0m\u001b[0minterpolate\u001b[0m\u001b[0;34m(\u001b[0m\u001b[0mu\u001b[0m\u001b[0;34m.\u001b[0m\u001b[0m_cpp_object\u001b[0m\u001b[0;34m)\u001b[0m\u001b[0;34m\u001b[0m\u001b[0;34m\u001b[0m\u001b[0m\n\u001b[1;32m    364\u001b[0m         \u001b[0;32melse\u001b[0m\u001b[0;34m:\u001b[0m\u001b[0;34m\u001b[0m\u001b[0;34m\u001b[0m\u001b[0m\n\u001b[0;32m--> 365\u001b[0;31m             \u001b[0mself\u001b[0m\u001b[0;34m.\u001b[0m\u001b[0m_cpp_object\u001b[0m\u001b[0;34m.\u001b[0m\u001b[0minterpolate\u001b[0m\u001b[0;34m(\u001b[0m\u001b[0mu\u001b[0m\u001b[0;34m)\u001b[0m\u001b[0;34m\u001b[0m\u001b[0;34m\u001b[0m\u001b[0m\n\u001b[0m\u001b[1;32m    366\u001b[0m \u001b[0;34m\u001b[0m\u001b[0m\n\u001b[1;32m    367\u001b[0m     \u001b[0;32mdef\u001b[0m \u001b[0mcompute_vertex_values\u001b[0m\u001b[0;34m(\u001b[0m\u001b[0mself\u001b[0m\u001b[0;34m,\u001b[0m \u001b[0mmesh\u001b[0m\u001b[0;34m=\u001b[0m\u001b[0;32mNone\u001b[0m\u001b[0;34m)\u001b[0m\u001b[0;34m:\u001b[0m\u001b[0;34m\u001b[0m\u001b[0;34m\u001b[0m\u001b[0m\n",
      "\u001b[0;32m~/miniconda3/envs/paw/lib/python3.8/site-packages/dolfin/function/expression.py\u001b[0m in \u001b[0;36mwrapped_eval\u001b[0;34m(self, values, x)\u001b[0m\n\u001b[1;32m     51\u001b[0m         \u001b[0;31m# Wrap eval functions\u001b[0m\u001b[0;34m\u001b[0m\u001b[0;34m\u001b[0m\u001b[0;34m\u001b[0m\u001b[0m\n\u001b[1;32m     52\u001b[0m         \u001b[0;32mdef\u001b[0m \u001b[0mwrapped_eval\u001b[0m\u001b[0;34m(\u001b[0m\u001b[0mself\u001b[0m\u001b[0;34m,\u001b[0m \u001b[0mvalues\u001b[0m\u001b[0;34m,\u001b[0m \u001b[0mx\u001b[0m\u001b[0;34m)\u001b[0m\u001b[0;34m:\u001b[0m\u001b[0;34m\u001b[0m\u001b[0;34m\u001b[0m\u001b[0m\n\u001b[0;32m---> 53\u001b[0;31m             \u001b[0mself\u001b[0m\u001b[0;34m.\u001b[0m\u001b[0muser_expression\u001b[0m\u001b[0;34m.\u001b[0m\u001b[0meval\u001b[0m\u001b[0;34m(\u001b[0m\u001b[0mvalues\u001b[0m\u001b[0;34m,\u001b[0m \u001b[0mx\u001b[0m\u001b[0;34m)\u001b[0m\u001b[0;34m\u001b[0m\u001b[0;34m\u001b[0m\u001b[0m\n\u001b[0m\u001b[1;32m     54\u001b[0m \u001b[0;34m\u001b[0m\u001b[0m\n\u001b[1;32m     55\u001b[0m         \u001b[0;32mdef\u001b[0m \u001b[0mwrapped_eval_cell\u001b[0m\u001b[0;34m(\u001b[0m\u001b[0mself\u001b[0m\u001b[0;34m,\u001b[0m \u001b[0mvalues\u001b[0m\u001b[0;34m,\u001b[0m \u001b[0mx\u001b[0m\u001b[0;34m,\u001b[0m \u001b[0mcell\u001b[0m\u001b[0;34m)\u001b[0m\u001b[0;34m:\u001b[0m\u001b[0;34m\u001b[0m\u001b[0;34m\u001b[0m\u001b[0m\n",
      "\u001b[0;32m/var/folders/h6/y0001fs148g09jbjqhg9zvg80000gn/T/ipykernel_9185/1465648072.py\u001b[0m in \u001b[0;36meval\u001b[0;34m(self, values, x)\u001b[0m\n\u001b[1;32m    117\u001b[0m         \u001b[0;31m# Convert x from m to Ang before interpolation\u001b[0m\u001b[0;34m\u001b[0m\u001b[0;34m\u001b[0m\u001b[0;34m\u001b[0m\u001b[0m\n\u001b[1;32m    118\u001b[0m         \u001b[0mwrap_pt\u001b[0m \u001b[0;34m=\u001b[0m \u001b[0mwrap_pos\u001b[0m\u001b[0;34m(\u001b[0m\u001b[0mx\u001b[0m\u001b[0;34m*\u001b[0m\u001b[0;36m1e10\u001b[0m\u001b[0;34m,\u001b[0m \u001b[0mself\u001b[0m\u001b[0;34m.\u001b[0m\u001b[0mbvec1\u001b[0m\u001b[0;34m,\u001b[0m \u001b[0mself\u001b[0m\u001b[0;34m.\u001b[0m\u001b[0mbvec2\u001b[0m\u001b[0;34m,\u001b[0m \u001b[0morig\u001b[0m\u001b[0;34m=\u001b[0m\u001b[0mself\u001b[0m\u001b[0;34m.\u001b[0m\u001b[0morig\u001b[0m\u001b[0;34m)\u001b[0m\u001b[0;34m[\u001b[0m\u001b[0;36m1\u001b[0m\u001b[0;34m]\u001b[0m \u001b[0;31m# Wrap position inside moire supercell\u001b[0m\u001b[0;34m\u001b[0m\u001b[0;34m\u001b[0m\u001b[0m\n\u001b[0;32m--> 119\u001b[0;31m         \u001b[0mvalues\u001b[0m\u001b[0;34m[\u001b[0m\u001b[0;36m0\u001b[0m\u001b[0;34m]\u001b[0m \u001b[0;34m=\u001b[0m \u001b[0mself\u001b[0m\u001b[0;34m.\u001b[0m\u001b[0mkred\u001b[0m\u001b[0;34m(\u001b[0m\u001b[0mwrap_pt\u001b[0m\u001b[0;34m[\u001b[0m\u001b[0;36m0\u001b[0m\u001b[0;34m]\u001b[0m\u001b[0;34m,\u001b[0m \u001b[0mwrap_pt\u001b[0m\u001b[0;34m[\u001b[0m\u001b[0;36m1\u001b[0m\u001b[0;34m]\u001b[0m\u001b[0;34m)\u001b[0m\u001b[0;34m\u001b[0m\u001b[0;34m\u001b[0m\u001b[0m\n\u001b[0m\u001b[1;32m    120\u001b[0m         \u001b[0mvalues\u001b[0m\u001b[0;34m[\u001b[0m\u001b[0;36m1\u001b[0m\u001b[0;34m]\u001b[0m \u001b[0;34m=\u001b[0m \u001b[0mself\u001b[0m\u001b[0;34m.\u001b[0m\u001b[0mkox\u001b[0m\u001b[0;34m(\u001b[0m\u001b[0mwrap_pt\u001b[0m\u001b[0;34m[\u001b[0m\u001b[0;36m0\u001b[0m\u001b[0;34m]\u001b[0m\u001b[0;34m,\u001b[0m \u001b[0mwrap_pt\u001b[0m\u001b[0;34m[\u001b[0m\u001b[0;36m1\u001b[0m\u001b[0;34m]\u001b[0m\u001b[0;34m)\u001b[0m\u001b[0;34m\u001b[0m\u001b[0;34m\u001b[0m\u001b[0m\n\u001b[1;32m    121\u001b[0m         \u001b[0mvalues\u001b[0m\u001b[0;34m[\u001b[0m\u001b[0;36m2\u001b[0m\u001b[0;34m]\u001b[0m \u001b[0;34m=\u001b[0m \u001b[0mself\u001b[0m\u001b[0;34m.\u001b[0m\u001b[0mVdl\u001b[0m\u001b[0;34m(\u001b[0m\u001b[0mwrap_pt\u001b[0m\u001b[0;34m[\u001b[0m\u001b[0;36m0\u001b[0m\u001b[0;34m]\u001b[0m\u001b[0;34m,\u001b[0m \u001b[0mwrap_pt\u001b[0m\u001b[0;34m[\u001b[0m\u001b[0;36m1\u001b[0m\u001b[0;34m]\u001b[0m\u001b[0;34m)\u001b[0m\u001b[0;34m\u001b[0m\u001b[0;34m\u001b[0m\u001b[0m\n",
      "\u001b[0;32m/var/folders/h6/y0001fs148g09jbjqhg9zvg80000gn/T/ipykernel_9185/1465648072.py\u001b[0m in \u001b[0;36mnew_f\u001b[0;34m(xx, yy)\u001b[0m\n\u001b[1;32m     93\u001b[0m         \u001b[0mnans\u001b[0m \u001b[0;34m=\u001b[0m \u001b[0mnp\u001b[0m\u001b[0;34m.\u001b[0m\u001b[0misnan\u001b[0m\u001b[0;34m(\u001b[0m\u001b[0mzz\u001b[0m\u001b[0;34m)\u001b[0m\u001b[0;34m\u001b[0m\u001b[0;34m\u001b[0m\u001b[0m\n\u001b[1;32m     94\u001b[0m \u001b[0;34m\u001b[0m\u001b[0m\n\u001b[0;32m---> 95\u001b[0;31m         \u001b[0;32mif\u001b[0m \u001b[0mnans\u001b[0m\u001b[0;34m.\u001b[0m\u001b[0many\u001b[0m\u001b[0;34m(\u001b[0m\u001b[0;34m)\u001b[0m\u001b[0;34m:\u001b[0m\u001b[0;34m\u001b[0m\u001b[0;34m\u001b[0m\u001b[0m\n\u001b[0m\u001b[1;32m     96\u001b[0m             \u001b[0;31m# for each nan point, find its nearest neighbor\u001b[0m\u001b[0;34m\u001b[0m\u001b[0;34m\u001b[0m\u001b[0;34m\u001b[0m\u001b[0m\n\u001b[1;32m     97\u001b[0m             \u001b[0minds\u001b[0m \u001b[0;34m=\u001b[0m \u001b[0mnp\u001b[0m\u001b[0;34m.\u001b[0m\u001b[0margmin\u001b[0m\u001b[0;34m(\u001b[0m\u001b[0;34m(\u001b[0m\u001b[0mx\u001b[0m\u001b[0;34m[\u001b[0m\u001b[0;34m:\u001b[0m\u001b[0;34m,\u001b[0m \u001b[0;32mNone\u001b[0m\u001b[0;34m]\u001b[0m \u001b[0;34m-\u001b[0m \u001b[0mxx\u001b[0m\u001b[0;34m[\u001b[0m\u001b[0mnans\u001b[0m\u001b[0;34m]\u001b[0m\u001b[0;34m)\u001b[0m\u001b[0;34m**\u001b[0m\u001b[0;36m2\u001b[0m \u001b[0;34m+\u001b[0m \u001b[0;34m(\u001b[0m\u001b[0my\u001b[0m\u001b[0;34m[\u001b[0m\u001b[0;34m:\u001b[0m\u001b[0;34m,\u001b[0m \u001b[0;32mNone\u001b[0m\u001b[0;34m]\u001b[0m \u001b[0;34m-\u001b[0m \u001b[0myy\u001b[0m\u001b[0;34m[\u001b[0m\u001b[0mnans\u001b[0m\u001b[0;34m]\u001b[0m\u001b[0;34m)\u001b[0m\u001b[0;34m**\u001b[0m\u001b[0;36m2\u001b[0m\u001b[0;34m,\u001b[0m \u001b[0maxis\u001b[0m\u001b[0;34m=\u001b[0m\u001b[0;36m0\u001b[0m\u001b[0;34m)\u001b[0m\u001b[0;34m\u001b[0m\u001b[0;34m\u001b[0m\u001b[0m\n",
      "\u001b[0;31mKeyboardInterrupt\u001b[0m: "
     ]
    }
   ],
   "source": [
    "# Solve\n",
    "\n",
    "deg = 1\n",
    "phi_D = Expression(str(0.0), degree=deg)\n",
    "\n",
    "def boundary(x, on_boundary):\n",
    "    return on_boundary\n",
    "\n",
    "# phi = TrialFunction(V_phi)\n",
    "# v = TestFunction(V_phi)\n",
    "\n",
    "## initialize conc                                                                                                                      \n",
    "P1 = FiniteElement('P', tetrahedron, 1)\n",
    "element = MixedElement([P1, P1, P1, P1, P1])\n",
    "V = FunctionSpace(mesh, element)\n",
    "\n",
    "c_a = Expression(str(c_KCl), degree=deg)\n",
    "c_b = Expression(str(z_1*c_KCl + z_3*c_ruhex), degree=deg)\n",
    "c_c = Expression(str(c_ruhex), degree=deg)\n",
    "c_d = Expression(str(0.0), degree=deg)\n",
    "\n",
    "v, q_1, q_2, q_3, q_4 = TestFunctions(V)\n",
    "sol = Function(V)\n",
    "dsol = TrialFunction(V)\n",
    "phi, c_1, c_2, c_3, c_4 = split(sol)\n",
    "#c_ini = load_sol('Sol/_c',c,mesh)\n",
    "#c.vector()[:] = c_ini.vector()[:]\n",
    "#sol.vector().set_local(rand(sol.vector().size())) # For starting calculations\n",
    "#sol.vector().apply(\"\")\n",
    "\n",
    "## BCs\n",
    "tol = DOLFIN_EPS\n",
    "def boundary_5(x, on_boundary):\n",
    "    return on_boundary and near(x[2], z_t, tol)\n",
    "\n",
    "# phi BCs                                                                                                                               \n",
    "bc_1= DirichletBC(V.sub(0), phi_D, boundary_5)                                                                                                                      \n",
    "\n",
    "# conc BCs                                                                                                                              \n",
    "bc_5a= DirichletBC(V.sub(1), c_a, boundary_5)\n",
    "bc_5b= DirichletBC(V.sub(2), c_b, boundary_5)\n",
    "bc_5c= DirichletBC(V.sub(3), c_c, boundary_5)\n",
    "bc_5d= DirichletBC(V.sub(4), c_d, boundary_5)\n",
    "bcs = [bc_1, bc_5a, bc_5b, bc_5c, bc_5d]\n",
    "\n",
    "## Different Neumann BC for bottom BC                                                                                                   \n",
    "## create a mesh function which assigns an unsigned integer (size_t) to each edge                                                        \n",
    "mf = MeshFunction(\"size_t\", mesh, mesh.topology().dim() - 1) # 3rd argument is dimension of an edge                                                             \n",
    "mf.set_all(0) # initialize the function to zero                                                                                         \n",
    "class BottomBoundary(SubDomain):\n",
    "    def inside(self, x, on_boundary):\n",
    "        tol = DOLFIN_EPS\n",
    "        return near(x[2], 0.0, tol) and on_boundary # Use x[2] for 3D.\n",
    "\n",
    "bottomboundary = BottomBoundary() # instantiate it \n",
    "\n",
    "# use this bottomboundary object to set values of the mesh function to 1 in the subdomain                                               \n",
    "bottomboundary.mark(mf, 1)\n",
    "\n",
    "## Define a new measure ds based on this mesh function                                                                                   \n",
    "ds = Measure(\"ds\", domain=mesh, subdomain_data=mf)\n",
    "#File(\"mf.pvd\").write(mf) # Save mf for Paraview                                                                                        \n",
    "\n",
    "### Compute solution                                                                                                                    \n",
    "## Define problem for phi                                                                                                               \n",
    "n = FacetNormal(mesh)\n",
    "#r = Expression('x[0]', degree=deg)\n",
    "#nabla_phi = (z_1*c_1 + z_2*c_2 + z_3*c_3 + z_4*c_4)                                                                                    \n",
    "dphi_1 = Expression('0.0', degree=deg)\n",
    "\n",
    "## Define problem for conc                                                                                                                                                                                                                 \n",
    "g_1 = Expression('0.0', degree=deg)\n",
    "g_2 = Expression('0.0', degree=deg)\n",
    "g_3 = Expression('0.0', degree=deg)\n",
    "g_4 = Expression('0.0', degree=deg)\n",
    "#m1 = dot(grad(c_3), n)                                                                                                                 \n",
    "#m1 = Dx(c_3,1) does not give correct solution  \n",
    "#kox, kred = BV_rates(k_o, eta=Vapp)\n",
    "#m1 = -(kred*c_3 - kox*c_4)/D_o # Rate theory input \n",
    "# m2 = dot(grad(c_4), n)\n",
    "\n",
    "## Input kinetic rates\n",
    "rscx = ldos_data[\"rscx\"]\n",
    "rscy = ldos_data[\"rscy\"]\n",
    "kred_data, kox_data = rate_data[\"kred_data\"], rate_data[\"kox_data\"]\n",
    "Vdl_data = rate_data[\"Vdl_data\"]\n",
    "theta = np.squeeze(ldos_data[\"theta\"])\n",
    "nsamps = ldos_data[\"nsamps\"]\n",
    "Vapp = rate_data[\"Vapp\"]\n",
    "print('Vapp={}'.format(Vapp),'\\n')\n",
    "\n",
    "moir_l, sc_area = tblg_dim(theta) # Moire supercell length and area Ang\n",
    "moir_a = np.pi/3 # Moire angle 60deg\n",
    "orig = moir_l*np.array([rscx[0,0], rscy[0,0]]) # Origin of the moire supercell, custom set for other centers\n",
    "bvec1 = np.array([moir_l*np.cos(moir_a/2), moir_l*np.sin(moir_a/2)]) # basis vector 1\n",
    "bvec2 = np.array([moir_l*np.cos(moir_a/2), -moir_l*np.sin(moir_a/2)]) # basis vector 2\n",
    "coords = moir_l*np.array([rscx.flatten(), rscy.flatten()]) # In Ang, convert accordingly\n",
    "z_red, z_ox = kred_data.flatten(), kox_data.flatten()\n",
    "ip_red, ip_ox = my_CT(coords, z_red), my_CT(coords, z_ox) # 2D interpolators of kred and kox\n",
    "ip_Vdl = my_CT(coords, Vdl_data.flatten()) # Interpolators take coords in Angstroms\n",
    "\n",
    "V_k = FunctionSpace(mesh, MixedElement([P1, P1, P1]))\n",
    "k_model = Function(V_k)\n",
    "u_bc = Model_rates(ip_red, ip_ox, ip_Vdl, bvec1, bvec2, orig)\n",
    "k_model = interpolate(u_bc, V_k)\n",
    "kred_f, kox_f, Vdl_f = k_model[0], k_model[1], k_model[2]\n",
    "File(\"kred_f.pvd\").write(kred_f)\n",
    "# V_k = FunctionSpace(mesh, MixedElement([P1, P1, P1]))\n",
    "# k_model = Function(V_k)\n",
    "# u_bc = Model_rates_test(Vapp, a_s)\n",
    "# k_model = interpolate(u_bc, V_k)\n",
    "# kred_f, kox_f, Vdl_f = k_model[0], k_model[1], k_model[2]\n",
    "\n",
    "## Solve 3D-PNP\n",
    "Func = (inner(grad(phi),grad(v)))*dx() - ((Vdl_f - phi)/d_h)*v*ds(1) \\\n",
    "    - (F/(eps*eps0))*(z_1*c_1 + z_2*c_2 + z_3*c_3 + z_4*c_4)*v*dx() + dphi_1*v*ds(0) \\\n",
    "    + ((inner(grad(c_1), grad(q_1))) - ((z_1/kbT)*div(c_1*grad(phi))*q_1))*dx() \\\n",
    "    + ((inner(grad(c_2), grad(q_2))) - ((z_2/kbT)*div(c_2*grad(phi))*q_2))*dx() \\\n",
    "    + ((inner(grad(c_3), grad(q_3))) - ((z_3/kbT)*div(c_3*grad(phi))*q_3))*dx() \\\n",
    "    + ((inner(grad(c_4), grad(q_4))) - ((z_4/kbT)*div(c_4*grad(phi))*q_4))*dx() \\\n",
    "    - g_1*q_1*ds() - g_2*q_2*ds() - g_3*q_3*ds(0) - g_4*q_4*ds(0) \\\n",
    "    - (-(kred_f*c_3 - kox_f*c_4)/D_o)*q_3*ds(1) \\\n",
    "    + (-(kred_f*c_3 - kox_f*c_4)/D_r)*q_4*ds(1) \\\n",
    "    #- m1*q_3*ds(1) + (D_o/D_r)*m1*q_4*ds(1) \\\n",
    "\n",
    "#a = lhs(Func)\n",
    "#L = rhs(Func)\n",
    "L = 0\n",
    "\n",
    "#c.vector()[:] = csol.vector()[:]\n",
    "#c.vector().set_local(rand(c.vector().size())) # For starting calculations\n",
    "#c.vector().apply(\"\")\n",
    "\n",
    "# Solver configs                                                                                                                        \n",
    "ffc_options = {\"optimize\": True, \"quadrature_degree\": 6}\n",
    "\n",
    "solver_parameters = {\"nonlinear_solver\": \"snes\",\n",
    "                     \"snes_solver\" : {\n",
    "                         \"report\" : True,\n",
    "                         \"error_on_nonconvergence\" : False,\n",
    "                         \"line_search\" : \"bt\",\n",
    "                         \"linear_solver\" : \"bicgstab\", # cg, bicgstab, gmres, lu, superlu_dist                                          \n",
    "                         \"preconditioner\" : \"sor\", # sor, amg, hypre_euclid, petsc_amg, ilu, icc                                                                   \n",
    "                         \"absolute_tolerance\" : 1E-7,\n",
    "                         \"relative_tolerance\" : 1E-6,                                                                                  \n",
    "                         \"maximum_iterations\" : 20000,                                                                                 \n",
    "                         \"krylov_solver\" : {\n",
    "                             \"maximum_iterations\" : 40000,\n",
    "                             #\"monitor_convergence\" : True,                                                                             \n",
    "                             \"nonzero_initial_guess\" : False\n",
    "                         }}}\n",
    "\n",
    "J = derivative(Func, sol, dsol)\n",
    "problem = NonlinearVariationalProblem(Func, sol, bcs, J, form_compiler_parameters=ffc_options)\n",
    "solver = NonlinearVariationalSolver(problem)\n",
    "solver.parameters.update(solver_parameters)\n",
    "solver.solve()\n",
    "\n",
    "# solve(Func == L, sol, bcs, solver_parameters=solver_parameters)\n",
    "_phi, _c_1, _c_2, _c_3, _c_4 = sol.split()"
   ]
  },
  {
   "cell_type": "code",
   "execution_count": 149,
   "id": "9acc942d",
   "metadata": {},
   "outputs": [],
   "source": [
    "# fig = go.Figure(data =\n",
    "#     go.Contour(\n",
    "#         z=[[10, 10.625, 12.5, 15.625, 20],\n",
    "#            [5.625, 6.25, 8.125, 11.25, 15.625],\n",
    "#            [2.5, 3.125, 5., 8.125, 12.5],\n",
    "#            [0.625, 1.25, 3.125, 6.25, 10.625],\n",
    "#            [0, 0.625, 2.5, 5.625, 10]]\n",
    "#     ))\n",
    "# fig.show()"
   ]
  },
  {
   "cell_type": "markdown",
   "id": "3ef68ea7",
   "metadata": {},
   "source": [
    "## Check Solution"
   ]
  },
  {
   "cell_type": "code",
   "execution_count": 232,
   "id": "e6ee46f3",
   "metadata": {},
   "outputs": [
    {
     "data": {
      "text/plain": [
       "1737.8843466404116"
      ]
     },
     "execution_count": 232,
     "metadata": {},
     "output_type": "execute_result"
    }
   ],
   "source": [
    "point = [0.5e-7, 0.5e-7, 0]\n",
    "x = np.array(point)\n",
    "x_point = Point(*x) \n",
    "P1 = FiniteElement('P', tetrahedron, 1)\n",
    "vec = project(_c_3.dx(2), FunctionSpace(mesh, P1))\n",
    "vec(x_point)"
   ]
  },
  {
   "cell_type": "code",
   "execution_count": 235,
   "id": "c2714764",
   "metadata": {},
   "outputs": [
    {
     "data": {
      "text/plain": [
       "-138876.83068299355"
      ]
     },
     "execution_count": 235,
     "metadata": {},
     "output_type": "execute_result"
    }
   ],
   "source": [
    "point = [0.5e-7,-0.8e-7, 0]\n",
    "x = np.array(point)\n",
    "x_point = Point(*x) \n",
    "P1 = FiniteElement('P', tetrahedron, 1)\n",
    "vec = project(_phi.dx(2), FunctionSpace(mesh, P1))\n",
    "vec(x_point)"
   ]
  },
  {
   "cell_type": "code",
   "execution_count": 214,
   "id": "5870dea8",
   "metadata": {},
   "outputs": [],
   "source": [
    "#(V_dl - _phi(0.0e-7, 0.0e-7, 0))/d_h"
   ]
  },
  {
   "cell_type": "code",
   "execution_count": 237,
   "id": "5906cc34",
   "metadata": {},
   "outputs": [
    {
     "data": {
      "text/plain": [
       "-4.2238448855497015e-15"
      ]
     },
     "execution_count": 237,
     "metadata": {},
     "output_type": "execute_result"
    }
   ],
   "source": [
    "#0.0 -7.252246359889353e-13\n",
    "#-0.1 -3.4315832463556725e-12\n",
    "#-0.2 -6.17697087431695e-12\n",
    "#0.2 -4.2238448855497015e-15\n",
    "curr = get_current_3D(_c_3, mesh, D_o, a_s)\n",
    "curr"
   ]
  },
  {
   "cell_type": "code",
   "execution_count": 236,
   "id": "2528c9db",
   "metadata": {},
   "outputs": [
    {
     "data": {
      "text/plain": [
       "50775.45518014648"
      ]
     },
     "execution_count": 236,
     "metadata": {},
     "output_type": "execute_result"
    }
   ],
   "source": [
    "#point = [0.0e-7, 0.0e-7, 0]\n",
    "x = np.array(point)\n",
    "x_point = Point(*x)\n",
    "P1 = FiniteElement('P', tetrahedron, 1)\n",
    "vec = project(Vdl_f, FunctionSpace(mesh, P1))\n",
    "(vec(x_point) - _phi(point))/d_h"
   ]
  },
  {
   "cell_type": "code",
   "execution_count": 168,
   "id": "248a9846",
   "metadata": {},
   "outputs": [
    {
     "data": {
      "text/plain": [
       "array(nan)"
      ]
     },
     "execution_count": 168,
     "metadata": {},
     "output_type": "execute_result"
    }
   ],
   "source": [
    "ip_red, ip_ox = interpolator_2d(coords[0,:], coords[1,:], z_red), interpolator_2d(coords[0,:], coords[1,:], z_ox) # 2D interpolators of kred and kox\n",
    "ip_Vdl = interpolator_2d(coords[0,:], coords[1,:], Vdl_data.flatten())\n",
    "ip_Vdl(121.28331801, -0.38194015)"
   ]
  },
  {
   "cell_type": "code",
   "execution_count": 151,
   "id": "d223e8c4",
   "metadata": {},
   "outputs": [
    {
     "data": {
      "text/plain": [
       "118.48108147912794"
      ]
     },
     "execution_count": 151,
     "metadata": {},
     "output_type": "execute_result"
    }
   ],
   "source": [
    "bvec2, orig\n",
    "coords\n",
    "max(coords[0,:])"
   ]
  },
  {
   "cell_type": "code",
   "execution_count": 147,
   "id": "cf0ba517",
   "metadata": {},
   "outputs": [
    {
     "data": {
      "text/plain": [
       "122.56663601289098"
      ]
     },
     "execution_count": 147,
     "metadata": {},
     "output_type": "execute_result"
    }
   ],
   "source": [
    "2*np.cos(np.pi/6)*moir_l"
   ]
  },
  {
   "cell_type": "code",
   "execution_count": 155,
   "id": "f906792a",
   "metadata": {},
   "outputs": [
    {
     "data": {
      "text/plain": [
       "array([ 1.22000000e+02, -2.03499459e-15])"
      ]
     },
     "execution_count": 155,
     "metadata": {},
     "output_type": "execute_result"
    }
   ],
   "source": [
    "pt = [122,0] # [61,35]\n",
    "wrap_pt=wrap_pos(pt, bvec1, bvec2, orig=orig)[1]\n",
    "wrap_pt"
   ]
  },
  {
   "cell_type": "code",
   "execution_count": 163,
   "id": "5563028c",
   "metadata": {},
   "outputs": [
    {
     "data": {
      "text/plain": [
       "array([-0.03815387])"
      ]
     },
     "execution_count": 163,
     "metadata": {},
     "output_type": "execute_result"
    }
   ],
   "source": [
    "ip_Vdl(wrap_pt)\n",
    "ip_Vdl([118.4,0])\n",
    "ip_Vdl([0,0])"
   ]
  },
  {
   "cell_type": "markdown",
   "id": "7ddd7833",
   "metadata": {},
   "source": [
    "# Analysis and pp"
   ]
  },
  {
   "cell_type": "code",
   "execution_count": 85,
   "id": "2606e5bd",
   "metadata": {},
   "outputs": [],
   "source": [
    "p_list = np.linspace(0, a_s*0.8, 15)\n",
    "ang = 35 # deg\n",
    "P1 = FiniteElement('P', tetrahedron, 1)\n",
    "vec1 = project(_phi.dx(2), FunctionSpace(mesh, P1))\n",
    "vec2 = project(Vdl_f, FunctionSpace(mesh, P1))\n",
    "vec1.set_allow_extrapolation(True)\n",
    "vec2.set_allow_extrapolation(True)\n",
    "Vdiff, d2phi = [], []\n",
    "for p in p_list:\n",
    "    point = [p*np.cos(np.deg2rad(ang)), p*np.sin(np.deg2rad(ang)), 0.0]\n",
    "    x = np.array(point)\n",
    "    x_point = Point(*x) \n",
    "    Vdiff.append((vec2(x_point) - _phi(point))/d_h)\n",
    "    d2phi.append(vec1(x_point))"
   ]
  },
  {
   "cell_type": "code",
   "execution_count": 86,
   "id": "3901738a",
   "metadata": {},
   "outputs": [
    {
     "data": {
      "text/plain": [
       "[<matplotlib.lines.Line2D at 0x7faa712fe7f0>]"
      ]
     },
     "execution_count": 86,
     "metadata": {},
     "output_type": "execute_result"
    },
    {
     "data": {
      "image/png": "[encoded data removed]",
      "text/plain": [
       "<Figure size 720x432 with 1 Axes>"
      ]
     },
     "metadata": {
      "needs_background": "light"
     },
     "output_type": "display_data"
    }
   ],
   "source": [
    "#print(Vdiff)\n",
    "#print(d2phi)\n",
    "plt.plot(100*(np.array(Vdiff)+np.array(d2phi))/np.array(Vdiff))"
   ]
  },
  {
   "cell_type": "code",
   "execution_count": 238,
   "id": "bb818b02",
   "metadata": {},
   "outputs": [
    {
     "data": {
      "text/plain": [
       "[<matplotlib.lines.Line2D at 0x7faa818702b0>]"
      ]
     },
     "execution_count": 238,
     "metadata": {},
     "output_type": "execute_result"
    },
    {
     "data": {
      "image/png": "[encoded data removed]",
      "text/plain": [
       "<Figure size 720x432 with 1 Axes>"
      ]
     },
     "metadata": {
      "needs_background": "light"
     },
     "output_type": "display_data"
    }
   ],
   "source": [
    "p_list = np.linspace(0, a_s*0.8, 15)\n",
    "ang = 35 # deg\n",
    "vdl_list = []\n",
    "vec2 = project(Vdl_f, FunctionSpace(mesh, P1))\n",
    "vec2.set_allow_extrapolation(True)\n",
    "for p in p_list:\n",
    "    vdl_list.append(vec2(Point(*np.array([p*np.cos(np.deg2rad(ang)), p*np.sin(np.deg2rad(ang)), 0.0]))))\n",
    "    \n",
    "plt.plot(p_list, vdl_list)"
   ]
  },
  {
   "cell_type": "code",
   "execution_count": 73,
   "id": "482e1d06",
   "metadata": {},
   "outputs": [
    {
     "name": "stdout",
     "output_type": "stream",
     "text": [
      "5.000000000000002e-09 3.500000000000001e-06 2e-05\n"
     ]
    },
    {
     "data": {
      "image/png": "[encoded data removed]",
      "text/plain": [
       "<Figure size 720x432 with 2 Axes>"
      ]
     },
     "metadata": {
      "needs_background": "light"
     },
     "output_type": "display_data"
    }
   ],
   "source": [
    "mesh = Mesh('/Users/mbabar/Desktop/PhD/Analysis/PDE/PNP_solve/3D_vmg/Mesh/Testing/mesh_5.xml')\n",
    "\n",
    "# Scale mesh\n",
    "m_coords = mesh.coordinates()\n",
    "scal_r = np.float64(1e-9)\n",
    "m_coords[:, :] *= scal_r\n",
    "mesh.bounding_box_tree().build(mesh) # development version\n",
    "#mesh_file = File(\"mesh_scale.xml\")\n",
    "#mesh_file << mesh\n",
    "\n",
    "a_s, a_t, z_t = get_mesh_geo(mesh) # Mesh geometry\n",
    "print(a_s, a_t, z_t)\n",
    "\n",
    "fname = '/Users/mbabar/Desktop/PhD/Analysis/PDE/PNP_solve/3D_vmg/ldos_incorp/Single_run/5nm/4.6deg_shift_0/kox_f'\n",
    "P1 = FiniteElement('P', tetrahedron, 1)\n",
    "vec = Function(FunctionSpace(mesh, P1))\n",
    "load_sol(fname+'.h5', vec, mesh)\n",
    "vec.set_allow_extrapolation(True)\n",
    "\n",
    "\n",
    "theta_list = np.linspace( 0 , 2 * np.pi , 150 )\n",
    "radius = 1e10*a_s \n",
    "a = radius * np.cos(theta_list)\n",
    "b = radius * np.sin(theta_list)\n",
    "\n",
    "size = 100\n",
    "xc, yc = np.linspace(-radius, radius,size), np.linspace(-radius, radius,size)\n",
    "X, Y = np.meshgrid(xc, yc)\n",
    "\n",
    "Z2 = np.zeros(np.shape(X.flatten()))\n",
    "\n",
    "for i in range(len(Z2)):\n",
    "    p = 1e-10*np.array([X.flatten()[i], Y.flatten()[i], 0.0])\n",
    "    #print(p)\n",
    "    if norm(p) > a_s:\n",
    "        Z2[i] = np.nan\n",
    "    else:\n",
    "        Z2[i] = vec(*Point(p)) #ip_red(wrap_pt[0], wrap_pt[1])[1]\n",
    "    #print(p)\n",
    "\n",
    "        \n",
    "Z2 = Z2.reshape((size, size))\n",
    "plt.contourf(X, Y, Z2)\n",
    "plt.plot(a, b, 'k--')\n",
    "plt.colorbar()\n",
    "ax = plt.gca()\n",
    "ax.set_aspect('equal', adjustable='box')\n",
    "plt.axis('square')\n",
    "#plt.xlim([-radius, radius])\n",
    "#plt.ylim([-radius, radius])\n",
    "plt.xlabel('x (A)')\n",
    "plt.ylabel('y (A)')\n",
    "plt.tight_layout()\n",
    "\n",
    "# Save data\n",
    "contour_data = {'X':X, 'Y':Y, 'Z':Z2, 'a_s':a_s}\n",
    "savemat('contour_data.mat', contour_data)"
   ]
  },
  {
   "cell_type": "code",
   "execution_count": 40,
   "id": "2d6e67b6",
   "metadata": {},
   "outputs": [
    {
     "data": {
      "text/plain": [
       "0.005627347500332522"
      ]
     },
     "execution_count": 40,
     "metadata": {},
     "output_type": "execute_result"
    }
   ],
   "source": [
    "vec(*Point(np.array([3e-9, 0., 0.])))"
   ]
  },
  {
   "cell_type": "code",
   "execution_count": 44,
   "id": "0f652165",
   "metadata": {},
   "outputs": [
    {
     "data": {
      "text/plain": [
       "16.901471160944695"
      ]
     },
     "execution_count": 44,
     "metadata": {},
     "output_type": "execute_result"
    }
   ],
   "source": [
    "np.nanmax(Z2)/np.nanmin(Z2)"
   ]
  },
  {
   "cell_type": "code",
   "execution_count": null,
   "id": "049b59dc",
   "metadata": {},
   "outputs": [],
   "source": [
    "0.00591246957412934, 0.00591246957412934\n",
    "0.09462958444216805, 0.009573330899811598"
   ]
  },
  {
   "cell_type": "code",
   "execution_count": 27,
   "id": "30944560",
   "metadata": {},
   "outputs": [
    {
     "data": {
      "text/plain": [
       "0.09470013463091438"
      ]
     },
     "execution_count": 27,
     "metadata": {},
     "output_type": "execute_result"
    }
   ],
   "source": [
    "(5734.535568119713/A_ab)*0.009573330899811598"
   ]
  },
  {
   "cell_type": "code",
   "execution_count": 25,
   "id": "42b59598",
   "metadata": {},
   "outputs": [],
   "source": [
    "A_ab = 579.7099102795545"
   ]
  },
  {
   "cell_type": "code",
   "execution_count": null,
   "id": "3adc8439",
   "metadata": {},
   "outputs": [],
   "source": [
    "mesh = Mesh('/Users/mbabar/Desktop/PhD/Analysis/PDE/PNP_solve/3D_vmg/Mesh/Testing/mesh_5.xml')\n",
    "\n",
    "# Scale mesh\n",
    "m_coords = mesh.coordinates()\n",
    "scal_r = np.float64(1e-9)\n",
    "m_coords[:, :] *= scal_r\n",
    "mesh.bounding_box_tree().build(mesh) # development version\n",
    "#mesh_file = File(\"mesh_scale.xml\")\n",
    "#mesh_file << mesh\n",
    "\n",
    "a_s, a_t, z_t = get_mesh_geo(mesh) # Mesh geometry\n",
    "print(a_s, a_t, z_t)\n",
    "\n",
    "fname = '/Users/mbabar/Desktop/PhD/Analysis/PDE/PNP_solve/3D_vmg/ldos_incorp/Single_run/5nm/4.6deg_shift_0/config_0'\n",
    "P1 = FiniteElement('P', tetrahedron, 1)\n",
    "element = MixedElement([P1, P1, P1, P1, P1])\n",
    "V = FunctionSpace(mesh, element)\n",
    "sol = Function(V)\n",
    "load_sol(fname+'.h5', sol, mesh)\n",
    "_phi, _c_1, _c_2, _c_3, _c_4 = split(sol)\n",
    "vec = Function(FunctionSpace(mesh, P1))\n",
    "vec = project(_c_3.dx(2), FunctionSpace(mesh, P1))\n",
    "vec.set_allow_extrapolation(True)\n",
    "\n",
    "theta_list = np.linspace( 0 , 2 * np.pi , 150 )\n",
    "radius = 1e10*a_s \n",
    "a = radius * np.cos(theta_list)\n",
    "b = radius * np.sin(theta_list)\n",
    "\n",
    "size = 500\n",
    "xc, yc = np.linspace(-radius, radius,size), np.linspace(-radius, radius,size)\n",
    "X, Y = np.meshgrid(xc, yc)\n",
    "\n",
    "Z2 = np.zeros(np.shape(X.flatten()))\n",
    "\n",
    "for i in range(len(Z2)):\n",
    "    p = 1e-10*np.array([X.flatten()[i], Y.flatten()[i], 0.0])\n",
    "    if norm(p) > a_s:\n",
    "        Z2[i] = np.nan\n",
    "    else:\n",
    "        Z2[i] = vec(*Point(p)) #ip_red(wrap_pt[0], wrap_pt[1])[1]\n",
    "        \n",
    "Z2 = Z2.reshape((size, size))\n",
    "plt.contourf(X, Y, Z2)\n",
    "plt.plot(a, b, 'k--')\n",
    "plt.colorbar()\n",
    "ax = plt.gca()\n",
    "ax.set_aspect('equal', adjustable='box')\n",
    "plt.axis('square')\n",
    "#plt.xlim([-radius, radius])\n",
    "#plt.ylim([-radius, radius])\n",
    "plt.xlabel('x (A)')\n",
    "plt.ylabel('y (A)')\n",
    "plt.tight_layout()\n",
    "\n",
    "# Save data\n",
    "contour_data = {'X':X, 'Y':Y, 'Z':Z2}\n",
    "savemat('contour_data.mat', contour_data)"
   ]
  },
  {
   "cell_type": "code",
   "execution_count": 342,
   "id": "a0c09fab",
   "metadata": {},
   "outputs": [
    {
     "data": {
      "text/plain": [
       "99.61557573897619"
      ]
     },
     "execution_count": 342,
     "metadata": {},
     "output_type": "execute_result"
    }
   ],
   "source": [
    "vec(*Point(np.array([1e-9,0,0])))"
   ]
  },
  {
   "cell_type": "code",
   "execution_count": 327,
   "id": "aa49d2ab",
   "metadata": {},
   "outputs": [
    {
     "data": {
      "text/plain": [
       "2.000000000000001e-09"
      ]
     },
     "execution_count": 327,
     "metadata": {},
     "output_type": "execute_result"
    }
   ],
   "source": [
    "a_s"
   ]
  },
  {
   "cell_type": "code",
   "execution_count": 329,
   "id": "e2a4f6f6",
   "metadata": {},
   "outputs": [
    {
     "data": {
      "text/plain": [
       "array([2.e-09, 2.e-09, 0.e+00])"
      ]
     },
     "execution_count": 329,
     "metadata": {},
     "output_type": "execute_result"
    }
   ],
   "source": [
    "p"
   ]
  },
  {
   "cell_type": "code",
   "execution_count": 330,
   "id": "68077f75",
   "metadata": {},
   "outputs": [
    {
     "data": {
      "text/plain": [
       "True"
      ]
     },
     "execution_count": 330,
     "metadata": {},
     "output_type": "execute_result"
    }
   ],
   "source": [
    "norm(p) > a_s"
   ]
  },
  {
   "cell_type": "code",
   "execution_count": null,
   "id": "61cbca40",
   "metadata": {},
   "outputs": [],
   "source": []
  }
 ],
 "metadata": {
  "kernelspec": {
   "display_name": "Python 3 (ipykernel)",
   "language": "python",
   "name": "python3"
  },
  "language_info": {
   "codemirror_mode": {
    "name": "ipython",
    "version": 3
   },
   "file_extension": ".py",
   "mimetype": "text/x-python",
   "name": "python",
   "nbconvert_exporter": "python",
   "pygments_lexer": "ipython3",
   "version": "3.8.2"
  }
 },
 "nbformat": 4,
 "nbformat_minor": 5
}
