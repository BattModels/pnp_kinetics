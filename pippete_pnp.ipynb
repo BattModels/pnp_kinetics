{
 "cells": [
  {
   "cell_type": "code",
   "execution_count": 1,
   "id": "9e448c10",
   "metadata": {},
   "outputs": [],
   "source": [
    "#from pnp import poisson_solver, run_solver\n",
    "import numpy as np\n",
    "import os, sys, re, glob\n",
    "from dolfin import *\n",
    "from __future__ import print_function\n",
    "from fenics import *\n",
    "import pickle\n",
    "from numpy.random import rand\n",
    "from numpy.linalg import norm\n",
    "import matplotlib.pyplot as plt\n",
    "from matplotlib.ticker import MaxNLocator\n",
    "import matplotlib as mpl\n",
    "font = {'family' : 'Times New Roman',\n",
    "        'weight' : 'regular',\n",
    "        'size'   : 16}\n",
    "\n",
    "mpl.rc('font', **font)\n",
    "mpl.rcParams['figure.figsize'] = (10.0, 6.0)\n",
    "mpl.rc('axes', linewidth=2)\n",
    "mpl.rcParams['lines.linewidth'] = 2\n",
    "#mpl.rcParams['xtick.major.size'] = 20                                                                                                                                     \n",
    "mpl.rcParams['xtick.major.width'] = 2\n",
    "mpl.rcParams['ytick.major.width'] = 2\n",
    "\n",
    "def save_obj(obj, name ):\n",
    "    with open(name, 'wb') as f:\n",
    "        pickle.dump(obj, f)\n",
    "\n",
    "def load_obj(name ):\n",
    "    with open(name, 'rb') as f:\n",
    "        return pickle.load(f)\n",
    "    \n",
    "c_0 = load_obj('initial_c0.pkl')"
   ]
  },
  {
   "cell_type": "code",
   "execution_count": 2,
   "id": "e79b4205",
   "metadata": {},
   "outputs": [],
   "source": [
    "# Load Mesh\n",
    "loc = '../'\n",
    "mesh = Mesh(loc+'mesh.xml');\n",
    "cd=MeshFunction('size_t',mesh,loc+'mesh_physical_region.xml')\n",
    "fd=MeshFunction('size_t',mesh,loc+'mesh_facet_region.xml')"
   ]
  },
  {
   "cell_type": "markdown",
   "id": "5ff22330",
   "metadata": {},
   "source": [
    "## Test Poisson"
   ]
  },
  {
   "cell_type": "code",
   "execution_count": 3,
   "id": "6607b42b",
   "metadata": {},
   "outputs": [
    {
     "name": "stdout",
     "output_type": "stream",
     "text": [
      "Solving linear variational problem.\n"
     ]
    },
    {
     "data": {
      "text/plain": [
       "<matplotlib.tri.tricontour.TriContourSet at 0x7f846803d7c0>"
      ]
     },
     "execution_count": 3,
     "metadata": {},
     "output_type": "execute_result"
    },
    {
     "data": {
      "image/png": "[encoded data removed]",
      "text/plain": [
       "<Figure size 720x432 with 1 Axes>"
      ]
     },
     "metadata": {
      "needs_background": "light"
     },
     "output_type": "display_data"
    }
   ],
   "source": [
    "# Test poisson (steady state heat eq) solve\n",
    "V = FunctionSpace(mesh, 'P', 1)\n",
    "\n",
    "# Define boundary condition\n",
    "#u_D = Expression('1 + x[0]*x[0] + 2*x[1]*x[1]', degree=2)\n",
    "phi_D = Expression('0 + 0*x[0]*x[0] + 0*x[1]*x[1]', degree=2)\n",
    "phi_L = Expression('1 + 0*x[0]*x[0] + 0*x[1]*x[1]', degree=2)\n",
    "\n",
    "def boundary(x, on_boundary):\n",
    "    return on_boundary\n",
    "\n",
    "phi = TrialFunction(V)\n",
    "v = TestFunction(V)\n",
    "\n",
    "# Radial\n",
    "r = Expression('x[0]', degree=1)\n",
    "#a = (Dx(phi,0)*Dx(v,0) + Dx(phi,1)*Dx(v,1))*r*dx()\n",
    "a = (dot(grad(phi),grad(v)))*r*dx()\n",
    "f = Constant(0.0)\n",
    "#g = Expression('-4*x[1]', degree=1)\n",
    "g = Expression('0.0', degree=1)\n",
    "\n",
    "tol = 1E-14\n",
    "L = f*v*dx - g*v*ds\n",
    "def boundary_1(x, on_boundary):\n",
    "    return on_boundary and near(x[1], 0, tol)\n",
    "\n",
    "def boundary_2(x, on_boundary):\n",
    "    return on_boundary and near(x[0], 1e-7, tol)# and (x[1] < 1e-7))\n",
    "\n",
    "def boundary_3(x, on_boundary):\n",
    "    return on_boundary and (1e-7 < x[0] < 2e-7)\n",
    "\n",
    "def boundary_4(x, on_boundary):\n",
    "    return on_boundary and (2e-7 < x[0] < 3.5e-6)\n",
    "\n",
    "def boundary_5(x, on_boundary):\n",
    "    return on_boundary and near(x[1], 2e-5, tol)\n",
    "\n",
    "bc_1= DirichletBC(V, phi_D, boundary_1)\n",
    "bc_2= DirichletBC(V, phi_L, boundary_2)\n",
    "bc_3= DirichletBC(V, phi_L, boundary_3)\n",
    "bc_4= DirichletBC(V, phi_L, boundary_4)\n",
    "bc_5= DirichletBC(V, phi_D, boundary_5)\n",
    "bcs = [bc_1, bc_2, bc_3, bc_4, bc_5]\n",
    "#bcs = [bc_z]\n",
    "\n",
    "'''\n",
    "# Cartesian\n",
    "f = Constant(-6.0)\n",
    "a = dot(grad(u), grad(v))*dx\n",
    "L = f*v*dx\n",
    "bcs = DirichletBC(V, u_D, boundary)\n",
    "'''\n",
    "\n",
    "# Compute solution\n",
    "phi = Function(V)\n",
    "solve(a == L, phi, bcs)\n",
    "\n",
    "# Plot solution and mesh\n",
    "plot(phi)\n",
    "#plot(mesh)\n",
    "#interactive()"
   ]
  },
  {
   "cell_type": "code",
   "execution_count": null,
   "id": "8a331388",
   "metadata": {},
   "outputs": [
    {
     "name": "stdout",
     "output_type": "stream",
     "text": [
      " 11: r (abs) = 2.400e+20 (tol = 1.000e-10) r (rel) = 1.852e+17 (tol = 1.000e-09)\n",
      "  Newton iteration 12: r (abs) = 5.999e+19 (tol = 1.000e-10) r (rel) = 4.630e+16 (tol = 1.000e-09)\n",
      "  Newton iteration 13: r (abs) = 1.500e+19 (tol = 1.000e-10) r (rel) = 1.158e+16 (tol = 1.000e-09)\n",
      "  Newton iteration 14: r (abs) = 3.749e+18 (tol = 1.000e-10) r (rel) = 2.894e+15 (tol = 1.000e-09)\n",
      "  Newton iteration 15: r (abs) = 9.373e+17 (tol = 1.000e-10) r (rel) = 7.235e+14 (tol = 1.000e-09)\n",
      "  Newton iteration 16: r (abs) = 2.343e+17 (tol = 1.000e-10) r (rel) = 1.809e+14 (tol = 1.000e-09)\n",
      "  Newton iteration 17: r (abs) = 5.858e+16 (tol = 1.000e-10) r (rel) = 4.522e+13 (tol = 1.000e-09)\n",
      "  Newton iteration 18: r (abs) = 1.465e+16 (tol = 1.000e-10) r (rel) = 1.130e+13 (tol = 1.000e-09)\n",
      "  Newton iteration 19: r (abs) = 3.661e+15 (tol = 1.000e-10) r (rel) = 2.826e+12 (tol = 1.000e-09)\n",
      "  Newton iteration 20: r (abs) = 9.154e+14 (tol = 1.000e-10) r (rel) = 7.065e+11 (tol = 1.000e-09)\n",
      "  Newton iteration 21: r (abs) = 2.289e+14 (tol = 1.000e-10) r (rel) = 1.767e+11 (tol = 1.000e-09)\n",
      "  Newton iteration 22: r (abs) = 1.957e+17 (tol = 1.000e-10) r (rel) = 1.511e+14 (tol = 1.000e-09)\n",
      "  Newton iteration 23: r (abs) = 7.581e+19 (tol = 1.000e-10) r (rel) = 5.851e+16 (tol = 1.000e-09)\n",
      "  Newton iteration 24: r (abs) = 5.405e+23 (tol = 1.000e-10) r (rel) = 4.172e+20 (tol = 1.000e-09)\n",
      "  Newton iteration 25: r (abs) = 7.509e+35 (tol = 1.000e-10) r (rel) = 5.796e+32 (tol = 1.000e-09)\n",
      "  Newton iteration 26: r (abs) = 5.800e+43 (tol = 1.000e-10) r (rel) = 4.477e+40 (tol = 1.000e-09)\n",
      "  Newton iteration 27: r (abs) = 2.252e+53 (tol = 1.000e-10) r (rel) = 1.738e+50 (tol = 1.000e-09)\n",
      "  Newton iteration 28: r (abs) = 6.012e+60 (tol = 1.000e-10) r (rel) = 4.641e+57 (tol = 1.000e-09)\n",
      "  Newton iteration 29: r (abs) = 3.921e+95 (tol = 1.000e-10) r (rel) = 3.027e+92 (tol = 1.000e-09)\n",
      "  Newton iteration 30: r (abs) = 1.826e+110 (tol = 1.000e-10) r (rel) = 1.410e+107 (tol = 1.000e-09)\n",
      "  Newton iteration 31: r (abs) = 1.105e+122 (tol = 1.000e-10) r (rel) = 8.526e+118 (tol = 1.000e-09)\n",
      "  Newton iteration 32: r (abs) = 2.233e+140 (tol = 1.000e-10) r (rel) = 1.723e+137 (tol = 1.000e-09)\n",
      "  Newton iteration 33: r (abs) = inf (tol = 1.000e-10) r (rel) = inf (tol = 1.000e-09)\n",
      "  Newton iteration 34: r (abs) = inf (tol = 1.000e-10) r (rel) = inf (tol = 1.000e-09)\n",
      "  Newton iteration 35: r (abs) = inf (tol = 1.000e-10) r (rel) = inf (tol = 1.000e-09)\n",
      "  Newton iteration 36: r (abs) = inf (tol = 1.000e-10) r (rel) = inf (tol = 1.000e-09)\n",
      "  Newton iteration 37: r (abs) = inf (tol = 1.000e-10) r (rel) = inf (tol = 1.000e-09)\n",
      "  Newton iteration 38: r (abs) = nan (tol = 1.000e-10) r (rel) = nan (tol = 1.000e-09)\n",
      "  Newton iteration 39: r (abs) = nan (tol = 1.000e-10) r (rel) = nan (tol = 1.000e-09)\n",
      "  Newton iteration 40: r (abs) = nan (tol = 1.000e-10) r (rel) = nan (tol = 1.000e-09)\n",
      "  Newton iteration 41: r (abs) = nan (tol = 1.000e-10) r (rel) = nan (tol = 1.000e-09)\n",
      "  Newton iteration 42: r (abs) = nan (tol = 1.000e-10) r (rel) = nan (tol = 1.000e-09)\n",
      "  Newton iteration 43: r (abs) = nan (tol = 1.000e-10) r (rel) = nan (tol = 1.000e-09)\n",
      "  Newton iteration 44: r (abs) = nan (tol = 1.000e-10) r (rel) = nan (tol = 1.000e-09)\n",
      "  Newton iteration 45: r (abs) = nan (tol = 1.000e-10) r (rel) = nan (tol = 1.000e-09)\n",
      "  Newton iteration 46: r (abs) = nan (tol = 1.000e-10) r (rel) = nan (tol = 1.000e-09)\n",
      "  Newton iteration 47: r (abs) = nan (tol = 1.000e-10) r (rel) = nan (tol = 1.000e-09)\n",
      "  Newton iteration 48: r (abs) = nan (tol = 1.000e-10) r (rel) = nan (tol = 1.000e-09)\n",
      "  Newton iteration 49: r (abs) = nan (tol = 1.000e-10) r (rel) = nan (tol = 1.000e-09)\n",
      "  Newton iteration 50: r (abs) = nan (tol = 1.000e-10) r (rel) = nan (tol = 1.000e-09)\n"
     ]
    }
   ],
   "source": [
    "def save_obj(obj, name ):\n",
    "    with open(name, 'wb') as f:\n",
    "        pickle.dump(obj, f)\n",
    "\n",
    "def load_obj(name ):\n",
    "    with open(name, 'rb') as f:\n",
    "        return pickle.load(f)\n",
    "c_0 = load_obj('initial_c0.pkl')"
   ]
  },
  {
   "cell_type": "code",
   "execution_count": 83,
   "id": "75305a18",
   "metadata": {},
   "outputs": [
    {
     "name": "stdout",
     "output_type": "stream",
     "text": [
      "*** Warning: Degree of exact solution may be inadequate for accurate result in errornorm.error_L2  =\n",
      " 0.24739740449380657\n",
      "error_max = 0.5912211691647401\n"
     ]
    }
   ],
   "source": [
    "error_L2 = errornorm(phi_D, phi, 'L2')\n",
    "\n",
    "# Compute maximum error at vertices\n",
    "vertex_values_phi_D = phi_D.compute_vertex_values(mesh)\n",
    "vertex_values_phi = phi.compute_vertex_values(mesh)\n",
    "\n",
    "error_max = np.max(np.abs(vertex_values_phi_D - vertex_values_phi))\n",
    "\n",
    "# Print errors\n",
    "print('error_L2  =', error_L2)\n",
    "print('error_max =', error_max)"
   ]
  },
  {
   "cell_type": "markdown",
   "id": "cbf7093a",
   "metadata": {},
   "source": [
    "## Test coupled PNP"
   ]
  },
  {
   "cell_type": "code",
   "execution_count": 66,
   "id": "cbcb1187",
   "metadata": {},
   "outputs": [
    {
     "name": "stdout",
     "output_type": "stream",
     "text": [
      "    Solving linear variational problem.\n",
      "    No Jacobian form specified for nonlinear variational problem.\n",
      "    Differentiating residual form F to obtain Jacobian J = F'.\n",
      "    Solving nonlinear variational problem.\n",
      "      Newton iteration 0: r (abs) = 1.810e-01 (tol = 1.000e-10) r (rel) = 1.000e+00 (tol = 1.000e-09)\n",
      "      Newton iteration 1: r (abs) = 9.575e-02 (tol = 1.000e-10) r (rel) = 5.290e-01 (tol = 1.000e-09)\n",
      "      Newton iteration 2: r (abs) = 2.505e+00 (tol = 1.000e-10) r (rel) = 1.384e+01 (tol = 1.000e-09)\n",
      "      Newton iteration 3: r (abs) = 7.091e-01 (tol = 1.000e-10) r (rel) = 3.918e+00 (tol = 1.000e-09)\n",
      "      Newton iteration 4: r (abs) = 1.031e+02 (tol = 1.000e-10) r (rel) = 5.698e+02 (tol = 1.000e-09)\n",
      "      Newton iteration 5: r (abs) = 5.166e+01 (tol = 1.000e-10) r (rel) = 2.854e+02 (tol = 1.000e-09)\n",
      "      Newton iteration 6: r (abs) = 1.701e+01 (tol = 1.000e-10) r (rel) = 9.401e+01 (tol = 1.000e-09)\n",
      "      Newton iteration 7: r (abs) = 1.859e+04 (tol = 1.000e-10) r (rel) = 1.027e+05 (tol = 1.000e-09)\n",
      "      Newton iteration 8: r (abs) = 1.022e+04 (tol = 1.000e-10) r (rel) = 5.647e+04 (tol = 1.000e-09)\n",
      "      Newton iteration 9: r (abs) = 4.373e+04 (tol = 1.000e-10) r (rel) = 2.416e+05 (tol = 1.000e-09)\n",
      "      Newton iteration 10: r (abs) = 2.432e+05 (tol = 1.000e-10) r (rel) = 1.344e+06 (tol = 1.000e-09)\n",
      "      Newton iteration 11: r (abs) = 1.520e+06 (tol = 1.000e-10) r (rel) = 8.399e+06 (tol = 1.000e-09)\n",
      "      Newton iteration 12: r (abs) = 7.210e+05 (tol = 1.000e-10) r (rel) = 3.983e+06 (tol = 1.000e-09)\n",
      "      Newton iteration 13: r (abs) = 1.392e+10 (tol = 1.000e-10) r (rel) = 7.694e+10 (tol = 1.000e-09)\n",
      "      Newton iteration 14: r (abs) = 3.566e+09 (tol = 1.000e-10) r (rel) = 1.970e+10 (tol = 1.000e-09)\n",
      "      Newton iteration 15: r (abs) = 8.973e+08 (tol = 1.000e-10) r (rel) = 4.958e+09 (tol = 1.000e-09)\n",
      "      Newton iteration 16: r (abs) = 4.481e+09 (tol = 1.000e-10) r (rel) = 2.476e+10 (tol = 1.000e-09)\n",
      "      Newton iteration 17: r (abs) = 1.197e+09 (tol = 1.000e-10) r (rel) = 6.611e+09 (tol = 1.000e-09)\n",
      "      Newton iteration 18: r (abs) = 4.542e+09 (tol = 1.000e-10) r (rel) = 2.509e+10 (tol = 1.000e-09)\n",
      "      Newton iteration 19: r (abs) = 4.339e+11 (tol = 1.000e-10) r (rel) = 2.397e+12 (tol = 1.000e-09)\n",
      "      Newton iteration 20: r (abs) = 8.100e+12 (tol = 1.000e-10) r (rel) = 4.475e+13 (tol = 1.000e-09)\n",
      "      Newton iteration 21: r (abs) = 2.471e+12 (tol = 1.000e-10) r (rel) = 1.366e+13 (tol = 1.000e-09)\n",
      "      Newton iteration 22: r (abs) = 7.152e+17 (tol = 1.000e-10) r (rel) = 3.952e+18 (tol = 1.000e-09)\n",
      "      Newton iteration 23: r (abs) = 1.012e+21 (tol = 1.000e-10) r (rel) = 5.589e+21 (tol = 1.000e-09)\n",
      "      Newton iteration 24: r (abs) = 1.240e+30 (tol = 1.000e-10) r (rel) = 6.852e+30 (tol = 1.000e-09)\n",
      "      Newton iteration 25: r (abs) = 1.411e+39 (tol = 1.000e-10) r (rel) = 7.798e+39 (tol = 1.000e-09)\n",
      "      Newton iteration 26: r (abs) = 1.525e+48 (tol = 1.000e-10) r (rel) = 8.428e+48 (tol = 1.000e-09)\n",
      "      Newton iteration 27: r (abs) = 2.507e+64 (tol = 1.000e-10) r (rel) = 1.385e+65 (tol = 1.000e-09)\n",
      "      Newton iteration 28: r (abs) = 5.000e+81 (tol = 1.000e-10) r (rel) = 2.763e+82 (tol = 1.000e-09)\n",
      "      Newton iteration 29: r (abs) = 1.220e+104 (tol = 1.000e-10) r (rel) = 6.738e+104 (tol = 1.000e-09)\n",
      "      Newton iteration 30: r (abs) = 1.668e+127 (tol = 1.000e-10) r (rel) = 9.214e+127 (tol = 1.000e-09)\n",
      "      Newton iteration 31: r (abs) = 2.195e+151 (tol = 1.000e-10) r (rel) = 1.213e+152 (tol = 1.000e-09)\n",
      "      Newton iteration 32: r (abs) = inf (tol = 1.000e-10) r (rel) = inf (tol = 1.000e-09)\n",
      "      Newton iteration 33: r (abs) = inf (tol = 1.000e-10) r (rel) = inf (tol = 1.000e-09)\n",
      "      Newton iteration 34: r (abs) = inf (tol = 1.000e-10) r (rel) = inf (tol = 1.000e-09)\n",
      "      Newton iteration 35: r (abs) = inf (tol = 1.000e-10) r (rel) = inf (tol = 1.000e-09)\n",
      "      Newton iteration 36: r (abs) = nan (tol = 1.000e-10) r (rel) = nan (tol = 1.000e-09)\n",
      "      Newton iteration 37: r (abs) = nan (tol = 1.000e-10) r (rel) = nan (tol = 1.000e-09)\n",
      "      Newton iteration 38: r (abs) = nan (tol = 1.000e-10) r (rel) = nan (tol = 1.000e-09)\n",
      "      Newton iteration 39: r (abs) = nan (tol = 1.000e-10) r (rel) = nan (tol = 1.000e-09)\n",
      "      Newton iteration 40: r (abs) = nan (tol = 1.000e-10) r (rel) = nan (tol = 1.000e-09)\n",
      "      Newton iteration 41: r (abs) = nan (tol = 1.000e-10) r (rel) = nan (tol = 1.000e-09)\n",
      "      Newton iteration 42: r (abs) = nan (tol = 1.000e-10) r (rel) = nan (tol = 1.000e-09)\n",
      "      Newton iteration 43: r (abs) = nan (tol = 1.000e-10) r (rel) = nan (tol = 1.000e-09)\n",
      "      Newton iteration 44: r (abs) = nan (tol = 1.000e-10) r (rel) = nan (tol = 1.000e-09)\n",
      "      Newton iteration 45: r (abs) = nan (tol = 1.000e-10) r (rel) = nan (tol = 1.000e-09)\n",
      "      Newton iteration 46: r (abs) = nan (tol = 1.000e-10) r (rel) = nan (tol = 1.000e-09)\n",
      "      Newton iteration 47: r (abs) = nan (tol = 1.000e-10) r (rel) = nan (tol = 1.000e-09)\n",
      "      Newton iteration 48: r (abs) = nan (tol = 1.000e-10) r (rel) = nan (tol = 1.000e-09)\n",
      "      Newton iteration 49: r (abs) = nan (tol = 1.000e-10) r (rel) = nan (tol = 1.000e-09)\n",
      "      Newton iteration 50: r (abs) = nan (tol = 1.000e-10) r (rel) = nan (tol = 1.000e-09)\n"
     ]
    },
    {
     "ename": "KeyboardInterrupt",
     "evalue": "",
     "output_type": "error",
     "traceback": [
      "\u001b[0;31m---------------------------------------------------------------------------\u001b[0m",
      "\u001b[0;31mRuntimeError\u001b[0m                              Traceback (most recent call last)",
      "    \u001b[0;31m[... skipping hidden 1 frame]\u001b[0m\n",
      "\u001b[0;32m/var/folders/h6/y0001fs148g09jbjqhg9zvg80000gn/T/ipykernel_71728/2508082506.py\u001b[0m in \u001b[0;36m<module>\u001b[0;34m\u001b[0m\n\u001b[1;32m    135\u001b[0m \u001b[0;31m#c.vector().apply(\"\")\u001b[0m\u001b[0;34m\u001b[0m\u001b[0;34m\u001b[0m\u001b[0;34m\u001b[0m\u001b[0m\n\u001b[0;32m--> 136\u001b[0;31m \u001b[0msolve\u001b[0m\u001b[0;34m(\u001b[0m\u001b[0mF_c\u001b[0m \u001b[0;34m==\u001b[0m \u001b[0mL_c\u001b[0m\u001b[0;34m,\u001b[0m \u001b[0mc\u001b[0m\u001b[0;34m,\u001b[0m \u001b[0mbcs_c\u001b[0m\u001b[0;34m)\u001b[0m\u001b[0;34m\u001b[0m\u001b[0;34m\u001b[0m\u001b[0m\n\u001b[0m\u001b[1;32m    137\u001b[0m \u001b[0m_c_1\u001b[0m\u001b[0;34m,\u001b[0m \u001b[0m_c_2\u001b[0m\u001b[0;34m,\u001b[0m \u001b[0m_c_3\u001b[0m\u001b[0;34m,\u001b[0m \u001b[0m_c_4\u001b[0m \u001b[0;34m=\u001b[0m \u001b[0mc\u001b[0m\u001b[0;34m.\u001b[0m\u001b[0msplit\u001b[0m\u001b[0;34m(\u001b[0m\u001b[0;34m)\u001b[0m\u001b[0;34m\u001b[0m\u001b[0;34m\u001b[0m\u001b[0m\n",
      "\u001b[0;32m~/miniconda3/envs/paw/lib/python3.8/site-packages/dolfin/fem/solving.py\u001b[0m in \u001b[0;36msolve\u001b[0;34m(*args, **kwargs)\u001b[0m\n\u001b[1;32m    219\u001b[0m     \u001b[0;32melif\u001b[0m \u001b[0misinstance\u001b[0m\u001b[0;34m(\u001b[0m\u001b[0margs\u001b[0m\u001b[0;34m[\u001b[0m\u001b[0;36m0\u001b[0m\u001b[0;34m]\u001b[0m\u001b[0;34m,\u001b[0m \u001b[0mufl\u001b[0m\u001b[0;34m.\u001b[0m\u001b[0mclasses\u001b[0m\u001b[0;34m.\u001b[0m\u001b[0mEquation\u001b[0m\u001b[0;34m)\u001b[0m\u001b[0;34m:\u001b[0m\u001b[0;34m\u001b[0m\u001b[0;34m\u001b[0m\u001b[0m\n\u001b[0;32m--> 220\u001b[0;31m         \u001b[0m_solve_varproblem\u001b[0m\u001b[0;34m(\u001b[0m\u001b[0;34m*\u001b[0m\u001b[0margs\u001b[0m\u001b[0;34m,\u001b[0m \u001b[0;34m**\u001b[0m\u001b[0mkwargs\u001b[0m\u001b[0;34m)\u001b[0m\u001b[0;34m\u001b[0m\u001b[0;34m\u001b[0m\u001b[0m\n\u001b[0m\u001b[1;32m    221\u001b[0m \u001b[0;34m\u001b[0m\u001b[0m\n",
      "\u001b[0;32m~/miniconda3/envs/paw/lib/python3.8/site-packages/dolfin/fem/solving.py\u001b[0m in \u001b[0;36m_solve_varproblem\u001b[0;34m(*args, **kwargs)\u001b[0m\n\u001b[1;32m    265\u001b[0m         \u001b[0msolver\u001b[0m\u001b[0;34m.\u001b[0m\u001b[0mparameters\u001b[0m\u001b[0;34m.\u001b[0m\u001b[0mupdate\u001b[0m\u001b[0;34m(\u001b[0m\u001b[0msolver_parameters\u001b[0m\u001b[0;34m)\u001b[0m\u001b[0;34m\u001b[0m\u001b[0;34m\u001b[0m\u001b[0m\n\u001b[0;32m--> 266\u001b[0;31m         \u001b[0msolver\u001b[0m\u001b[0;34m.\u001b[0m\u001b[0msolve\u001b[0m\u001b[0;34m(\u001b[0m\u001b[0;34m)\u001b[0m\u001b[0;34m\u001b[0m\u001b[0;34m\u001b[0m\u001b[0m\n\u001b[0m\u001b[1;32m    267\u001b[0m \u001b[0;34m\u001b[0m\u001b[0m\n",
      "\u001b[0;31mRuntimeError\u001b[0m: \n\n*** -------------------------------------------------------------------------\n*** DOLFIN encountered an error. If you are not able to resolve this issue\n*** using the information listed below, you can ask for help at\n***\n***     fenics-support@googlegroups.com\n***\n*** Remember to include the error message listed below and, if possible,\n*** include a *minimal* running example to reproduce the error.\n***\n*** -------------------------------------------------------------------------\n*** Error:   Unable to solve nonlinear system with NewtonSolver.\n*** Reason:  Newton solver did not converge because maximum number of iterations reached.\n*** Where:   This error was encountered inside NewtonSolver.cpp.\n*** Process: 0\n*** \n*** DOLFIN version: 2019.1.0\n*** Git changeset:  \n*** -------------------------------------------------------------------------\n",
      "\nDuring handling of the above exception, another exception occurred:\n",
      "\u001b[0;31mKeyboardInterrupt\u001b[0m                         Traceback (most recent call last)",
      "\u001b[0;31mKeyboardInterrupt\u001b[0m: "
     ]
    }
   ],
   "source": [
    "## Constants Radial\n",
    "z_1, z_2, z_3, z_4 = 1, -1, 3, 2 # Charge numbers K+, Cl-, Ru3+, Ru2+\n",
    "eps = 80\n",
    "eps0 = 8.854187e-12 # Vacuum permittivity F/m\n",
    "e = 1.60218e-19 # Coulombs \n",
    "kbT = 0.0259 # eV, room temp\n",
    "F = 96485.332 # C/mol\n",
    "Eo = -0.07\n",
    "D_o, D_r = 6.5e-10, 6.5e-10 # Diff constants (m^2/s)\n",
    "a = (1/kbT)\n",
    "b = a*(F/(eps*eps0))\n",
    "#a, b = 1, 10e14\n",
    "eta_list = np.linspace(-0.5, 0.5, 30)\n",
    "Vapp_list = eta_list + Eo\n",
    "idx = 0\n",
    "phi_z0 = 1.0\n",
    "\n",
    "## initialize phi\n",
    "V_phi = FunctionSpace(mesh, 'P', 1)\n",
    "\n",
    "phi_D = Expression(str(0.0), degree=1)\n",
    "phi_L = Expression(str(phi_z0), degree=1)\n",
    "\n",
    "def boundary(x, on_boundary):\n",
    "    return on_boundary\n",
    "\n",
    "phi = TrialFunction(V_phi)\n",
    "v = TestFunction(V_phi)\n",
    "\n",
    "\n",
    "## initialize conc\n",
    "P1 = FiniteElement('P', triangle, 1)\n",
    "element = MixedElement([P1, P1, P1, P1])\n",
    "V_c = FunctionSpace(mesh, element)\n",
    "\n",
    "c_ruhex = 2 #mM\n",
    "c_KCl = 100 #mM\n",
    "# Note 1mM = 1mol/m3 (SI units)\n",
    "c_a = Expression(str(c_KCl), degree=1)\n",
    "c_b = Expression(str(z_1*c_KCl + z_3*c_ruhex), degree=1)\n",
    "c_c = Expression(str(c_ruhex), degree=1)\n",
    "c_d = Expression(str(0.0), degree=1)\n",
    "\n",
    "q_1, q_2, q_3, q_4 = TestFunctions(V_c)\n",
    "c = Function(V_c)\n",
    "c_1, c_2, c_3, c_4 = split(c)\n",
    "\n",
    "\n",
    "## BCs\n",
    "tol = 1E-14\n",
    "def boundary_1(x, on_boundary):\n",
    "    return on_boundary and near(x[1], 0, tol)\n",
    "\n",
    "def boundary_2(x, on_boundary):\n",
    "    return on_boundary and near(x[0], 1e-7, tol)# and (x[1] < 1e-7))\n",
    "\n",
    "def boundary_3(x, on_boundary):\n",
    "    return on_boundary and (1e-7 < x[0] < 2e-7)\n",
    "\n",
    "def boundary_4(x, on_boundary):\n",
    "    return on_boundary and (2e-7 < x[0] < 3.5e-6)\n",
    "\n",
    "def boundary_5(x, on_boundary):\n",
    "    return on_boundary and near(x[1], 2e-5, tol)\n",
    "\n",
    "# phi BCs\n",
    "bc_1= DirichletBC(V_phi, phi_D, boundary_5)\n",
    "bc_2= DirichletBC(V_phi, phi_L, boundary_1)\n",
    "#bcs_phi = [bc_1, bc_2] # All BCs are Neumann\n",
    "bcs_phi = [bc_1]\n",
    "\n",
    "# conc BCs\n",
    "bc_5a= DirichletBC(V_c.sub(0), c_a, boundary_5)\n",
    "bc_5b= DirichletBC(V_c.sub(1), c_b, boundary_5)\n",
    "bc_5c= DirichletBC(V_c.sub(2), c_c, boundary_5)\n",
    "bc_5d= DirichletBC(V_c.sub(3), c_d, boundary_5)\n",
    "bcs_c = [bc_5a, bc_5b, bc_5c, bc_5d]\n",
    "\n",
    "## Different Neumann BC for bottom BC\n",
    "# create a mesh function which assigns an unsigned integer (size_t) to each edge\n",
    "mf = MeshFunction(\"size_t\", mesh, 1) # 3rd argument is dimension of an edge\n",
    "mf.set_all(0) # initialize the function to zero\n",
    "class BottomBoundary(SubDomain):\n",
    "    def inside(self, x, on_boundary):\n",
    "        return near(x[1], 0.0, tol) and on_boundary\n",
    "\n",
    "bottomboundary = BottomBoundary() # instantiate it\n",
    "\n",
    "# use this bottomboundary object to set values of the mesh function to 1 in the subdomain\n",
    "bottomboundary.mark(mf, 1)\n",
    "\n",
    "# define a new measure ds based on this mesh function\n",
    "ds = Measure(\"ds\", domain=mesh, subdomain_data=mf)\n",
    "#ds = Measure(\"ds\")(subdomain_data=mf)\n",
    "\n",
    "### Compute solution\n",
    "## Define problem for phi\n",
    "r = Expression('x[0]', degree=1)\n",
    "nabla_phi = (z_1*c_1 + z_2*c_2 + z_3*c_3 + z_4*c_4)\n",
    "g = Expression('0.0', degree=1)\n",
    "F_phi = (dot(grad(phi),grad(v)))*r*dx()\n",
    "L_phi = (F/(eps*eps0))*nabla_phi*v*r*dx() + g*v*r*ds()\n",
    "phi = Function(V_phi)\n",
    "solve(F_phi == L_phi, phi, bcs_phi)\n",
    "\n",
    "## Define problem for conc\n",
    "r = Expression('x[0]', degree=1)\n",
    "#f = Constant(0.0)\n",
    "#g = Expression('-4*x[1]', degree=1)\n",
    "g_1 = Expression('0.0', degree=1)\n",
    "g_2 = Expression('0.0', degree=1)\n",
    "g_3 = Expression('0.0', degree=1)\n",
    "g_4 = Expression('0.0', degree=1)\n",
    "n = FacetNormal(mesh)\n",
    "#m1 = dot(grad(c_3), n)\n",
    "#m1 = Dx(c_3,1) does not give correct solution\n",
    "kox, kred = BV_rates(1e-3, -0.07, A=1.0, Vapp=Vapp_list[idx])\n",
    "m1 = -(kred*c_3 - kox*c_4)/D_o # Rate theory input\n",
    "m2 = dot(grad(c_4), n)\n",
    "F_c = ((dot(grad(c_1), grad(q_1))) - ((z_1*a)*(dot(grad(c_1), grad(phi)))*q_1))*r*dx() \\\n",
    "    + ((dot(grad(c_2), grad(q_2))) - ((z_2*a)*(dot(grad(c_2), grad(phi)))*q_2))*r*dx() \\\n",
    "    + ((dot(grad(c_3), grad(q_3))) - ((z_3*a)*(dot(grad(c_3), grad(phi)))*q_3))*r*dx() \\\n",
    "    + ((dot(grad(c_4), grad(q_4))) - ((z_4*a)*(dot(grad(c_4), grad(phi)))*q_4))*r*dx() \\\n",
    "    + ((z_1*c_1*q_1 + z_2*c_2*q_2 + z_3*c_3*q_3 + z_4*c_4*q_4)*b*nabla_phi)*r*dx() \\\n",
    "    - g_1*q_1*r*ds() - g_2*q_2*r*ds() - g_3*q_3*r*ds(0) - g_4*q_4*r*ds(0) \\\n",
    "    - m1*q_3*r*ds(1) + (D_o/D_r)*m1*q_4*r*ds(1)\n",
    "\n",
    "L_c = 0\n",
    "#c_0 = load_obj('initial_c0.pkl')\n",
    "#c.vector()[:] = c_0\n",
    "c.vector()[:] = c_0.vector()[:]\n",
    "#c.vector()[:] = test\n",
    "\n",
    "#c.vector().set_local(rand(c.vector().size())) # For starting calculations\n",
    "#c.vector().apply(\"\")\n",
    "solve(F_c == L_c, c, bcs_c)\n",
    "_c_1, _c_2, _c_3, _c_4 = c.split()\n",
    "\n",
    "## Plot solution and mesh\n",
    "plot(_c_3)\n",
    "#plot(mesh)\n",
    "\n",
    "c_0 = c.copy()\n",
    "phi_0 = phi.copy()\n",
    "print(c.vector()[:])"
   ]
  },
  {
   "cell_type": "code",
   "execution_count": 70,
   "id": "24f0e665",
   "metadata": {},
   "outputs": [
    {
     "data": {
      "text/plain": [
       "-2.9362882466022057e-18"
      ]
     },
     "execution_count": 70,
     "metadata": {},
     "output_type": "execute_result"
    }
   ],
   "source": [
    "phi(0.5e-7, 2e-5)"
   ]
  },
  {
   "cell_type": "code",
   "execution_count": 71,
   "id": "8cbbbb1b",
   "metadata": {},
   "outputs": [
    {
     "data": {
      "text/plain": [
       "2.0551027365120977e-09"
      ]
     },
     "execution_count": 71,
     "metadata": {},
     "output_type": "execute_result"
    }
   ],
   "source": [
    "point = [0.5e-7, 0e-5]\n",
    "x = np.array(point)\n",
    "x_point = Point(*x) \n",
    "P1 = FiniteElement('P', triangle, 1)\n",
    "vec = project(_c_4.dx(1), FunctionSpace(mesh, P1))\n",
    "vec(x_point)"
   ]
  },
  {
   "cell_type": "code",
   "execution_count": 15,
   "id": "f9cc827c",
   "metadata": {},
   "outputs": [
    {
     "name": "stdout",
     "output_type": "stream",
     "text": [
      "  No Jacobian form specified for nonlinear variational problem.\n",
      "  Differentiating residual form F to obtain Jacobian J = F'.\n",
      "  Solving nonlinear variational problem.\n",
      "    Newton iteration 0: r (abs) = 1.635e-13 (tol = 1.000e-10) r (rel) = 1.000e+00 (tol = 1.000e-09)\n",
      "    Newton solver finished in 0 iterations and 0 linear solver iterations.\n",
      "  *** Warning: Degree of exact solution may be inadequate for accurate result in errornorm.\n",
      "0.0 \n",
      "\n"
     ]
    }
   ],
   "source": [
    "phi_D = Expression(str(0.0), degree=1)\n",
    "phi_L = Expression(str(0.05), degree=1)\n",
    "bc_1= DirichletBC(V_phi, phi_D, boundary_5)\n",
    "bc_2= DirichletBC(V_phi, phi_L, boundary_1)\n",
    "bcs_phi = [bc_1, bc_2] # All BCs are Neumann\n",
    "\n",
    "#phi = TrialFunction(V_phi)\n",
    "#v = TestFunction(V_phi)\n",
    "\n",
    "\n",
    "r = Expression('x[0]', degree=1)\n",
    "nabla_phi = (z_1*c_1 + z_2*c_2 + z_3*c_3 + z_4*c_4)\n",
    "g = Expression('0.0', degree=1)\n",
    "F_phi = (dot(grad(phi),grad(v)))*r*dx() - (F/(eps*eps0))*nabla_phi*v*r*dx() - g*v*r*ds()\n",
    "L_phi = 0\n",
    "#phi = Function(V_phi)\n",
    "phi.vector()[:] = phi_0.vector()[:]\n",
    "solve(F_phi == L_phi, phi, bcs_phi)\n",
    "print(errornorm(phi_0, phi, 'L2'),'\\n')"
   ]
  },
  {
   "cell_type": "code",
   "execution_count": 30,
   "id": "1c703093",
   "metadata": {},
   "outputs": [
    {
     "data": {
      "text/plain": [
       "array([0.05      , 0.04999491, 0.05      , ..., 0.        , 0.        ,\n",
       "       0.        ])"
      ]
     },
     "execution_count": 30,
     "metadata": {},
     "output_type": "execute_result"
    }
   ],
   "source": [
    "phi.vector()[:].copy()"
   ]
  },
  {
   "cell_type": "code",
   "execution_count": 36,
   "id": "486a7e7c",
   "metadata": {},
   "outputs": [
    {
     "name": "stdout",
     "output_type": "stream",
     "text": [
      "  *** Warning: Degree of exact solution may be inadequate for accurate result in errornorm.\n"
     ]
    },
    {
     "data": {
      "text/plain": [
       "0.0"
      ]
     },
     "execution_count": 36,
     "metadata": {},
     "output_type": "execute_result"
    }
   ],
   "source": [
    "errornorm(phi2, phi_0, 'L2')"
   ]
  },
  {
   "cell_type": "code",
   "execution_count": 9,
   "id": "1c1c362c",
   "metadata": {},
   "outputs": [],
   "source": [
    "i_list = []"
   ]
  },
  {
   "cell_type": "code",
   "execution_count": 249,
   "id": "3a8281ce",
   "metadata": {},
   "outputs": [
    {
     "data": {
      "text/plain": [
       "[<matplotlib.lines.Line2D at 0x7f8419debdc0>]"
      ]
     },
     "execution_count": 249,
     "metadata": {},
     "output_type": "execute_result"
    },
    {
     "data": {
      "image/png": "[encoded data removed]",
      "text/plain": [
       "<Figure size 720x432 with 1 Axes>"
      ]
     },
     "metadata": {
      "needs_background": "light"
     },
     "output_type": "display_data"
    }
   ],
   "source": [
    "plt.plot(Vapp_list,i_list)"
   ]
  },
  {
   "cell_type": "code",
   "execution_count": 246,
   "id": "8a1a343c",
   "metadata": {},
   "outputs": [
    {
     "data": {
      "text/plain": [
       "[<matplotlib.lines.Line2D at 0x7f842baf67f0>]"
      ]
     },
     "execution_count": 246,
     "metadata": {},
     "output_type": "execute_result"
    },
    {
     "data": {
      "image/png": "[encoded data removed]",
      "text/plain": [
       "<Figure size 720x432 with 1 Axes>"
      ]
     },
     "metadata": {
      "needs_background": "light"
     },
     "output_type": "display_data"
    }
   ],
   "source": [
    "eta_list = np.linspace(-0.5, 0.1, 18)\n",
    "Vapp_list1 = eta_list + Eo\n",
    "eta_list = np.linspace(-0.5, 0.5, 30)\n",
    "Vapp_list2 = eta_list + Eo\n",
    "x = list(Vapp_list1[:]) + list(Vapp_list2[18:])\n",
    "plt.plot(x,i_list0)"
   ]
  },
  {
   "cell_type": "code",
   "execution_count": 245,
   "id": "d21eb34e",
   "metadata": {},
   "outputs": [],
   "source": [
    "i_list0 = i_list.copy()"
   ]
  },
  {
   "cell_type": "code",
   "execution_count": 76,
   "id": "c611178c",
   "metadata": {},
   "outputs": [
    {
     "data": {
      "text/plain": [
       "<matplotlib.tri.tricontour.TriContourSet at 0x7f8388105940>"
      ]
     },
     "execution_count": 76,
     "metadata": {},
     "output_type": "execute_result"
    },
    {
     "data": {
      "image/png": "[encoded data removed]",
      "text/plain": [
       "<Figure size 720x432 with 1 Axes>"
      ]
     },
     "metadata": {
      "needs_background": "light"
     },
     "output_type": "display_data"
    }
   ],
   "source": [
    "plot(_c_1)\n",
    "#plot(nabla_phi)"
   ]
  },
  {
   "cell_type": "code",
   "execution_count": 241,
   "id": "35130134",
   "metadata": {},
   "outputs": [
    {
     "data": {
      "text/plain": [
       "0.0016134946630910285"
      ]
     },
     "execution_count": 241,
     "metadata": {},
     "output_type": "execute_result"
    }
   ],
   "source": [
    "_c_4(0.2e-7, 0e-5)"
   ]
  },
  {
   "cell_type": "code",
   "execution_count": 243,
   "id": "4358d2eb",
   "metadata": {},
   "outputs": [
    {
     "data": {
      "text/plain": [
       "-197.0498983639006"
      ]
     },
     "execution_count": 243,
     "metadata": {},
     "output_type": "execute_result"
    }
   ],
   "source": [
    "point = [0.5e-7, 0e-5]\n",
    "x = np.array(point)\n",
    "x_point = Point(*x) \n",
    "P1 = FiniteElement('P', triangle, 1)\n",
    "vec = project(_c_4.dx(1), FunctionSpace(mesh, P1))\n",
    "vec(x_point)"
   ]
  },
  {
   "cell_type": "code",
   "execution_count": 68,
   "id": "4f2bf5ec",
   "metadata": {},
   "outputs": [
    {
     "data": {
      "text/plain": [
       "0.3809492248213513"
      ]
     },
     "execution_count": 68,
     "metadata": {},
     "output_type": "execute_result"
    }
   ],
   "source": [
    "_c_4(0.5e-7, 0e-5)"
   ]
  },
  {
   "cell_type": "code",
   "execution_count": 101,
   "id": "eeab2045",
   "metadata": {},
   "outputs": [
    {
     "data": {
      "text/plain": [
       "array([-1.27499711e-65,  2.76358855e-34, -4.23458127e-73, ...,\n",
       "        1.00000000e+02,  1.00000000e+02,  2.00000000e+00])"
      ]
     },
     "execution_count": 101,
     "metadata": {},
     "output_type": "execute_result"
    }
   ],
   "source": [
    "c_0.vector()[:]"
   ]
  },
  {
   "cell_type": "code",
   "execution_count": 183,
   "id": "fe30c03e",
   "metadata": {},
   "outputs": [
    {
     "data": {
      "text/plain": [
       "5259238360651285.0"
      ]
     },
     "execution_count": 183,
     "metadata": {},
     "output_type": "execute_result"
    }
   ],
   "source": [
    "e = 1.60218e-19 # Coulombs\n",
    "a = (1/kbT)\n",
    "b = a*(F/(eps*eps0))\n",
    "F = 96485.332 # C/mol\n",
    "RT = 8.3144*298\n",
    "b"
   ]
  },
  {
   "cell_type": "markdown",
   "id": "60d2bc13",
   "metadata": {},
   "source": [
    "## Test 2 PNP"
   ]
  },
  {
   "cell_type": "code",
   "execution_count": 68,
   "id": "7d55e025",
   "metadata": {},
   "outputs": [
    {
     "name": "stdout",
     "output_type": "stream",
     "text": [
      "      Solving linear variational problem.\n",
      "      No Jacobian form specified for nonlinear variational problem.\n",
      "      Differentiating residual form F to obtain Jacobian J = F'.\n",
      "      Solving nonlinear variational problem.\n",
      "        Newton iteration 0: r (abs) = 1.297e+03 (tol = 1.000e-10) r (rel) = 1.000e+00 (tol = 1.000e-09)\n",
      "        Newton iteration 1: r (abs) = 1.206e-13 (tol = 1.000e-10) r (rel) = 9.296e-17 (tol = 1.000e-09)\n",
      "        Newton solver finished in 1 iterations and 1 linear solver iterations.\n"
     ]
    },
    {
     "data": {
      "image/png": "[encoded data removed]",
      "text/plain": [
       "<Figure size 720x432 with 1 Axes>"
      ]
     },
     "metadata": {
      "needs_background": "light"
     },
     "output_type": "display_data"
    }
   ],
   "source": [
    "## Constants Radial\n",
    "z_1, z_2, z_3, z_4 = 1, -1, 3, 2 # Charge numbers K+, Cl-, Ru3+, Ru2+\n",
    "eps = 80\n",
    "eps0 = 8.854187e-12 # Vacuum permittivity F/m\n",
    "e = 1.60218e-19 # Coulombs \n",
    "kbT = 0.0259 # eV, room temp\n",
    "F = 96485.332 # C/mol\n",
    "D_o, D_r = 6.5e-10, 6.5e-10 # Diff constants (m^2/s)\n",
    "a = (1/kbT)\n",
    "b = a*(F/(eps*eps0))\n",
    "a, b = 1, 10e2\n",
    "phi_z0 = 0.03\n",
    "\n",
    "## initialize phi\n",
    "V_phi = FunctionSpace(mesh, 'P', 1)\n",
    "\n",
    "phi_D = Expression(str(0.0), degree=1)\n",
    "phi_L = Expression(str(phi_z0), degree=1)\n",
    "\n",
    "def boundary(x, on_boundary):\n",
    "    return on_boundary\n",
    "\n",
    "phi = TrialFunction(V_phi)\n",
    "v = TestFunction(V_phi)\n",
    "\n",
    "\n",
    "## initialize conc\n",
    "P1 = FiniteElement('P', triangle, 1)\n",
    "element = MixedElement([P1, P1, P1, P1])\n",
    "V_c = FunctionSpace(mesh, element)\n",
    "\n",
    "c_ruhex = 2 #mM\n",
    "c_KCl = 100 #mM\n",
    "# Note 1mM = 1mol/m3 (SI units)\n",
    "c_a = Expression(str(c_KCl), degree=1)\n",
    "c_b = Expression(str(z_1*c_KCl + z_3*c_ruhex), degree=1)\n",
    "c_c = Expression(str(c_ruhex), degree=1)\n",
    "c_d = Expression(str(0.0), degree=1)\n",
    "\n",
    "q_1, q_2, q_3, q_4 = TestFunctions(V_c)\n",
    "c = Function(V_c)\n",
    "c_1, c_2, c_3, c_4 = split(c)\n",
    "\n",
    "\n",
    "## BCs\n",
    "tol = 1E-14\n",
    "def boundary_1(x, on_boundary):\n",
    "    return on_boundary and near(x[1], 0, tol)\n",
    "\n",
    "def boundary_2(x, on_boundary):\n",
    "    return on_boundary and near(x[0], 1e-7, tol)# and (x[1] < 1e-7))\n",
    "\n",
    "def boundary_3(x, on_boundary):\n",
    "    return on_boundary and (1e-7 < x[0] < 2e-7)\n",
    "\n",
    "def boundary_4(x, on_boundary):\n",
    "    return on_boundary and (2e-7 < x[0] < 3.5e-6)\n",
    "\n",
    "def boundary_5(x, on_boundary):\n",
    "    return on_boundary and near(x[1], 2e-5, tol)\n",
    "\n",
    "# phi BCs\n",
    "bc_1= DirichletBC(V_phi, phi_D, boundary_5)\n",
    "bc_2= DirichletBC(V_phi, phi_L, boundary_1)\n",
    "#bcs_phi = [bc_r, bc_z]\n",
    "bcs_phi = [bc_1, bc_2] # All BCs are Neumann\n",
    "\n",
    "# conc BCs\n",
    "bc_5a= DirichletBC(V_c.sub(0), c_a, boundary_5)\n",
    "bc_5b= DirichletBC(V_c.sub(1), c_b, boundary_5)\n",
    "bc_5c= DirichletBC(V_c.sub(2), c_c, boundary_5)\n",
    "bc_5d= DirichletBC(V_c.sub(3), c_d, boundary_5)\n",
    "bcs_c = [bc_5a, bc_5b, bc_5c, bc_5d]\n",
    "\n",
    "## Different Neumann BC for bottom BC\n",
    "# create a mesh function which assigns an unsigned integer (size_t) to each edge\n",
    "mf = MeshFunction(\"size_t\", mesh, 1) # 3rd argument is dimension of an edge\n",
    "mf.set_all(0) # initialize the function to zero\n",
    "class BottomBoundary(SubDomain):\n",
    "    def inside(self, x, on_boundary):\n",
    "        return near(x[1], 0.0, tol) and on_boundary\n",
    "\n",
    "bottomboundary = BottomBoundary() # instantiate it\n",
    "\n",
    "# use this bottomboundary object to set values of the mesh function to 1 in the subdomain\n",
    "bottomboundary.mark(mf, 1)\n",
    "\n",
    "# define a new measure ds based on this mesh function\n",
    "ds = Measure(\"ds\", domain=mesh, subdomain_data=mf)\n",
    "#ds = Measure(\"ds\")(subdomain_data=mf)\n",
    "\n",
    "### Compute solution\n",
    "## Define problem for phi\n",
    "r = Expression('x[0]', degree=1)\n",
    "nabla_phi = (z_1*c_1 + z_2*c_2 + z_3*c_3 + z_4*c_4)\n",
    "g = Expression('0.0', degree=1)\n",
    "F_phi = (dot(grad(phi),grad(v)))*r*dx()\n",
    "L_phi = (F/(eps*eps0))*nabla_phi*v*r*dx() + g*v*r*ds()\n",
    "phi = Function(V_phi)\n",
    "phi.vector().set_local(rand(phi.vector().size())) # For starting calculations\n",
    "phi.vector().apply(\"\")\n",
    "#phi.vector()[:] = phi_0.vector()[:] # Set inital condition\n",
    "solve(F_phi == L_phi, phi, bcs_phi)\n",
    "\n",
    "## Define problem for conc\n",
    "r = Expression('x[0]', degree=1)\n",
    "#f = Constant(0.0)\n",
    "#g = Expression('-4*x[1]', degree=1)\n",
    "g_1 = Expression('0.0', degree=1)\n",
    "g_2 = Expression('0.0', degree=1)\n",
    "g_3 = Expression('0.0', degree=1)\n",
    "g_4 = Expression('0.0', degree=1)\n",
    "n = FacetNormal(mesh)\n",
    "#m1 = dot(grad(c_3), n)\n",
    "#m1 = Dx(c_3,1) does not give correct solution\n",
    "kox, kred = BV_rates(1e-3, -0.07, Vapp=0.0)\n",
    "m1 = -(kred*c_3 - kox*c_4)/D_o # Rate theory input\n",
    "m2 = dot(grad(c_4), n)\n",
    "F_c = ((dot(grad(c_1), grad(q_1))) - ((z_1*a)*div(c_1*grad(phi))*q_1))*r*dx() \\\n",
    "    + ((dot(grad(c_2), grad(q_2))) - ((z_2*a)*div(c_2*grad(phi))*q_2))*r*dx() \\\n",
    "    + ((dot(grad(c_3), grad(q_3))) - ((z_3*a)*div(c_3*grad(phi))*q_3))*r*dx() \\\n",
    "    + ((dot(grad(c_4), grad(q_4))) - ((z_4*a)*div(c_4*grad(phi))*q_4))*r*dx() \\\n",
    "    - g_1*q_1*r*ds() - g_2*q_2*r*ds() - g_3*q_3*r*ds(0) - g_4*q_4*r*ds(0) \\\n",
    "    - m1*q_3*r*ds(1) + (D_o/D_r)*m1*q_4*r*ds(1)\n",
    "\n",
    "L_c = 0\n",
    "#c.vector()[:] = c_0.vector()[:]\n",
    "c.vector().set_local(rand(c.vector().size())) # For starting calculations\n",
    "c.vector().apply(\"\")\n",
    "\n",
    "solve(F_c == L_c, c, bcs_c)\n",
    "_c_1, _c_2, _c_3, _c_4 = c.split()\n",
    "\n",
    "## Plot solution and mesh\n",
    "plot(_c_3)\n",
    "#plot(mesh)\n",
    "\n",
    "c_0 = c.copy()\n",
    "phi_0 = phi.copy()"
   ]
  },
  {
   "cell_type": "code",
   "execution_count": 70,
   "id": "d45f2696",
   "metadata": {},
   "outputs": [
    {
     "data": {
      "text/plain": [
       "-12.652902593195563"
      ]
     },
     "execution_count": 70,
     "metadata": {},
     "output_type": "execute_result"
    }
   ],
   "source": [
    "point = [1e-7, 0.3e-7]\n",
    "x = np.array(point)\n",
    "x_point = Point(*x) \n",
    "P1 = FiniteElement('P', triangle, 1)\n",
    "vec = project(_c_4.dx(0), FunctionSpace(mesh, P1))\n",
    "vec(x_point)"
   ]
  },
  {
   "cell_type": "code",
   "execution_count": 42,
   "id": "d1922bc0",
   "metadata": {},
   "outputs": [
    {
     "data": {
      "text/plain": [
       "1.0"
      ]
     },
     "execution_count": 42,
     "metadata": {},
     "output_type": "execute_result"
    }
   ],
   "source": [
    "phi(0.5e-7, 0e-5)"
   ]
  },
  {
   "cell_type": "code",
   "execution_count": null,
   "id": "a5256a85",
   "metadata": {},
   "outputs": [],
   "source": []
  },
  {
   "cell_type": "code",
   "execution_count": 47,
   "id": "6ee3080a",
   "metadata": {},
   "outputs": [
    {
     "name": "stdout",
     "output_type": "stream",
     "text": [
      "No Jacobian form specified for nonlinear variational problem.\n",
      "Differentiating residual form F to obtain Jacobian J = F'.\n",
      "Solving nonlinear variational problem.\n",
      "  Newton iteration 0: r (abs) = 1.100e-04 (tol = 1.000e-10) r (rel) = 1.000e+00 (tol = 1.000e-09)\n",
      "  Newton iteration 1: r (abs) = 2.460e-17 (tol = 1.000e-10) r (rel) = 2.237e-13 (tol = 1.000e-09)\n",
      "  Newton solver finished in 1 iterations and 1 linear solver iterations.\n",
      "No Jacobian form specified for nonlinear variational problem.\n",
      "Differentiating residual form F to obtain Jacobian J = F'.\n",
      "Solving nonlinear variational problem.\n",
      "  Newton iteration 0: r (abs) = 1.831e-06 (tol = 1.000e-10) r (rel) = 1.000e+00 (tol = 1.000e-09)\n",
      "  Newton iteration 1: r (abs) = 1.889e-17 (tol = 1.000e-10) r (rel) = 1.031e-11 (tol = 1.000e-09)\n",
      "  Newton solver finished in 1 iterations and 1 linear solver iterations.\n",
      "*** Warning: Degree of exact solution may be inadequate for accurate result in errornorm.\n",
      "1 0.017528492891435283 \n",
      "\n",
      "No Jacobian form specified for nonlinear variational problem.\n",
      "Differentiating residual form F to obtain Jacobian J = F'.\n",
      "Solving nonlinear variational problem.\n",
      "  Newton iteration 0: r (abs) = 1.100e-04 (tol = 1.000e-10) r (rel) = 1.000e+00 (tol = 1.000e-09)\n",
      "  Newton iteration 1: r (abs) = 2.467e-17 (tol = 1.000e-10) r (rel) = 2.244e-13 (tol = 1.000e-09)\n",
      "  Newton solver finished in 1 iterations and 1 linear solver iterations.\n",
      "No Jacobian form specified for nonlinear variational problem.\n",
      "Differentiating residual form F to obtain Jacobian J = F'.\n",
      "Solving nonlinear variational problem.\n",
      "  Newton iteration 0: r (abs) = 1.855e-06 (tol = 1.000e-10) r (rel) = 1.000e+00 (tol = 1.000e-09)\n",
      "  Newton iteration 1: r (abs) = 3.012e-20 (tol = 1.000e-10) r (rel) = 1.624e-14 (tol = 1.000e-09)\n",
      "  Newton solver finished in 1 iterations and 1 linear solver iterations.\n",
      "*** Warning: Degree of exact solution may be inadequate for accurate result in errornorm.\n",
      "2 0.0 \n",
      "\n"
     ]
    }
   ],
   "source": [
    "# Finding optimal phi(z=0)\n",
    "err_list = []\n",
    "phiz0 = 1.0\n",
    "count = 1\n",
    "error_L2 = 100\n",
    "#for j in range(20):\n",
    "while error_L2 > 1e-12:    \n",
    "    #phi.assign(phi_0)\n",
    "    #c.assign(c_0)\n",
    "    c_1, c_2, c_3, c_4 = split(c)\n",
    "\n",
    "    # phi BCs\n",
    "    phi_D = Expression(str(0.0), degree=1)\n",
    "    phi_L = Expression(str(phiz0), degree=1)\n",
    "    bc_1= DirichletBC(V_phi, phi_D, boundary_5)\n",
    "    bc_2= DirichletBC(V_phi, phi_L, boundary_1)\n",
    "    bcs_phi = [bc_1, bc_2] # All BCs are Neumann\n",
    "    \n",
    "    r = Expression('x[0]', degree=1)\n",
    "    nabla_phi = (z_1*c_1 + z_2*c_2 + z_3*c_3 + z_4*c_4)\n",
    "    g = Expression('0.0', degree=1)\n",
    "    F_phi = (dot(grad(phi),grad(v)))*r*dx() - (F/(eps*eps0))*nabla_phi*v*r*dx() - g*v*r*ds()\n",
    "    L_phi = 0\n",
    "    phi.vector()[:] = phi_0.vector()[:]\n",
    "    solve(F_phi == L_phi, phi, bcs_phi)\n",
    "\n",
    "    g_1 = Expression('0.0', degree=1)\n",
    "    g_2 = Expression('0.0', degree=1)\n",
    "    g_3 = Expression('0.0', degree=1)\n",
    "    g_4 = Expression('0.0', degree=1)\n",
    "    n = FacetNormal(mesh)\n",
    "    #m1 = dot(grad(c_3), n)\n",
    "    #m1 = Dx(c_3,1) does not give correct solution\n",
    "    kox, kred = BV_rates(1e-3, -0.07, Vapp=0.0)\n",
    "    m1 = -(kred*c_3 - kox*c_4)/D_o # Rate theory input\n",
    "    m2 = dot(grad(c_4), n)\n",
    "    F_c = ((dot(grad(c_1), grad(q_1))) - ((z_1*a)*div(c_1*grad(phi))*q_1))*r*dx() \\\n",
    "        + ((dot(grad(c_2), grad(q_2))) - ((z_2*a)*div(c_2*grad(phi))*q_2))*r*dx() \\\n",
    "        + ((dot(grad(c_3), grad(q_3))) - ((z_3*a)*div(c_3*grad(phi))*q_3))*r*dx() \\\n",
    "        + ((dot(grad(c_4), grad(q_4))) - ((z_4*a)*div(c_4*grad(phi))*q_4))*r*dx() \\\n",
    "        - g_1*q_1*r*ds() - g_2*q_2*r*ds() - g_3*q_3*r*ds(0) - g_4*q_4*r*ds(0) \\\n",
    "        - m1*q_3*r*ds(1) + (D_o/D_r)*m1*q_4*r*ds(1)\n",
    "\n",
    "    L_c = 0\n",
    "    c.vector()[:] = c_0.vector()[:]\n",
    "    solve(F_c == L_c, c, bcs_c)\n",
    "\n",
    "    error_L2 = errornorm(phi_0, phi, 'L2')\n",
    "    err_list.append(error_L2)\n",
    "    print(count, error_L2, '\\n')\n",
    "    c_0 = c.copy()\n",
    "    phi_0 = phi.copy()\n",
    "    count+=1\n",
    "#plot(phi)"
   ]
  },
  {
   "cell_type": "code",
   "execution_count": 56,
   "id": "c293ae80",
   "metadata": {},
   "outputs": [
    {
     "data": {
      "text/plain": [
       "[0.002923719342500361,\n",
       " 0.002923800425968854,\n",
       " 0.0013457875886235201,\n",
       " 0.002475362110975811,\n",
       " 0.0012151468710849378,\n",
       " 0.014521127077601214,\n",
       " 0.014544908396596983,\n",
       " 0.0001473961580247041,\n",
       " 0.009777886061500143,\n",
       " 0.009673624275556077]"
      ]
     },
     "execution_count": 56,
     "metadata": {},
     "output_type": "execute_result"
    }
   ],
   "source": [
    "err_list"
   ]
  },
  {
   "cell_type": "code",
   "execution_count": 55,
   "id": "445573a4",
   "metadata": {},
   "outputs": [
    {
     "data": {
      "text/plain": [
       "<matplotlib.tri.tricontour.TriContourSet at 0x7f83e88125b0>"
      ]
     },
     "execution_count": 55,
     "metadata": {},
     "output_type": "execute_result"
    },
    {
     "data": {
      "image/png": "[encoded data removed]",
      "text/plain": [
       "<Figure size 720x432 with 1 Axes>"
      ]
     },
     "metadata": {
      "needs_background": "light"
     },
     "output_type": "display_data"
    }
   ],
   "source": [
    "# Finding optimal phi(z=0)\n",
    "err_list = []\n",
    "count = 1\n",
    "error_L2 = 100\n",
    "eta_list = np.linspace(-0.5, 0.1, 18)\n",
    "Vapp_list = eta_list + Eo\n",
    "#Vapp_list = eta_list\n",
    "\n",
    "# phi solve initial\n",
    "phi_D = Expression(str(0.0), degree=1)\n",
    "phi_L = Expression(str(10), degree=1)\n",
    "bc_1= DirichletBC(V_phi, phi_D, boundary_5)\n",
    "bc_2= DirichletBC(V_phi, phi_L, boundary_1)\n",
    "bcs_phi = [bc_1, bc_2] # All BCs are Neumann\n",
    "    \n",
    "phi_vec = phi_0.vector()[:].copy()\n",
    "r = Expression('x[0]', degree=1)\n",
    "nabla_phi = (z_1*c_1 + z_2*c_2 + z_3*c_3 + z_4*c_4)\n",
    "g = Expression('0.0', degree=1)\n",
    "F_phi = (dot(grad(phi),grad(v)))*r*dx() - (F/(eps*eps0))*nabla_phi*v*r*dx() - g*v*r*ds()\n",
    "L_phi = 0\n",
    "phi.vector()[:] = phi_0.vector()[:]\n",
    "solve(F_phi == L_phi, phi, bcs_phi)\n",
    "#print(errornorm(phi_0, phi, 'L2'),'\\n')\n",
    "err = norm(np.array(phi_0.vector()[:] - phi_vec))\n",
    "print(count-1, err)\n",
    "phi_0 = phi.copy()\n",
    "\n",
    "#for j in range(20):\n",
    "while err > 1e-12:    \n",
    "    #phi.assign(phi_0)\n",
    "    #c.assign(c_0)\n",
    "    c_1, c_2, c_3, c_4 = split(c)\n",
    "\n",
    "    g_1 = Expression('0.0', degree=1)\n",
    "    g_2 = Expression('0.0', degree=1)\n",
    "    g_3 = Expression('0.0', degree=1)\n",
    "    g_4 = Expression('0.0', degree=1)\n",
    "    n = FacetNormal(mesh)\n",
    "    #m1 = dot(grad(c_3), n)\n",
    "    #m1 = Dx(c_3,1) does not give correct solution\n",
    "    kox, kred = BV_rates(1e-3, -0.07, A=1.0, Vapp=Vapp_list[16])\n",
    "    m1 = -(kred*c_3 - kox*c_4)/D_o # Rate theory input\n",
    "    m2 = dot(grad(c_4), n)\n",
    "    F_c = ((dot(grad(c_1), grad(q_1))) - ((z_1*a)*(dot(grad(c_1), grad(phi)))*q_1))*r*dx() \\\n",
    "        + ((dot(grad(c_2), grad(q_2))) - ((z_2*a)*(dot(grad(c_2), grad(phi)))*q_2))*r*dx() \\\n",
    "        + ((dot(grad(c_3), grad(q_3))) - ((z_3*a)*(dot(grad(c_3), grad(phi)))*q_3))*r*dx() \\\n",
    "        + ((dot(grad(c_4), grad(q_4))) - ((z_4*a)*(dot(grad(c_4), grad(phi)))*q_4))*r*dx() \\\n",
    "        + ((z_1*c_1*q_1 + z_2*c_2*q_2 + z_3*c_3*q_3 + z_4*c_4*q_4)*b*nabla_phi)*r*dx() \\\n",
    "        - g_1*q_1*r*ds() - g_2*q_2*r*ds() - g_3*q_3*r*ds(0) - g_4*q_4*r*ds(0) \\\n",
    "        - m1*q_3*r*ds(1) + (D_o/D_r)*m1*q_4*r*ds(1)\n",
    "\n",
    "    L_c = 0\n",
    "    c.vector()[:] = c_0.vector()[:]\n",
    "    solve(F_c == L_c, c, bcs_c)\n",
    "\n",
    "    phi_vec = phi_0.vector()[:].copy()\n",
    "    nabla_phi = (z_1*c_1 + z_2*c_2 + z_3*c_3 + z_4*c_4)\n",
    "    g = Expression('0.0', degree=1)\n",
    "    F_phi = (dot(grad(phi),grad(v)))*r*dx() - (F/(eps*eps0))*nabla_phi*v*r*dx() - g*v*r*ds()\n",
    "    L_phi = 0\n",
    "    phi.vector()[:] = phi_0.vector()[:]\n",
    "    solve(F_phi == L_phi, phi, bcs_phi)\n",
    "    err = norm(np.array(phi_0.vector()[:] - phi_vec))\n",
    "    print(count, err)\n",
    "    error_L2 = errornorm(phi_0, phi, 'L2')\n",
    "    err_list.append(error_L2)\n",
    "    \n",
    "    #print(count, error_L2,'\\n')\n",
    "    c_0 = c.copy()\n",
    "    phi_0 = phi.copy()\n",
    "    count+=1\n",
    "#plot(phi)\n",
    "\n",
    "c_1, c_2, c_3, c_4 = split(c)\n",
    "g_1 = Expression('0.0', degree=1)\n",
    "g_2 = Expression('0.0', degree=1)\n",
    "g_3 = Expression('0.0', degree=1)\n",
    "g_4 = Expression('0.0', degree=1)\n",
    "n = FacetNormal(mesh)\n",
    "#m1 = dot(grad(c_3), n)\n",
    "#m1 = Dx(c_3,1) does not give correct solution\n",
    "kox, kred = BV_rates(1e-3, -0.07, A=1.0, Vapp=Vapp_list[idx])\n",
    "m1 = -(kred*c_3 - kox*c_4)/D_o # Rate theory input\n",
    "m2 = dot(grad(c_4), n)\n",
    "F_c = ((dot(grad(c_1), grad(q_1))) - ((z_1*a)*(dot(grad(c_1), grad(phi)))*q_1))*r*dx() \\\n",
    "    + ((dot(grad(c_2), grad(q_2))) - ((z_2*a)*(dot(grad(c_2), grad(phi)))*q_2))*r*dx() \\\n",
    "    + ((dot(grad(c_3), grad(q_3))) - ((z_3*a)*(dot(grad(c_3), grad(phi)))*q_3))*r*dx() \\\n",
    "    + ((dot(grad(c_4), grad(q_4))) - ((z_4*a)*(dot(grad(c_4), grad(phi)))*q_4))*r*dx() \\\n",
    "    + ((z_1*c_1*q_1 + z_2*c_2*q_2 + z_3*c_3*q_3 + z_4*c_4*q_4)*b*nabla_phi)*r*dx() \\\n",
    "    - g_1*q_1*r*ds() - g_2*q_2*r*ds() - g_3*q_3*r*ds(0) - g_4*q_4*r*ds(0) \\\n",
    "    - m1*q_3*r*ds(1) + (D_o/D_r)*m1*q_4*r*ds(1)\n",
    "\n",
    "L_c = 0\n",
    "c.vector()[:] = c_0.vector()[:]\n",
    "solve(F_c == L_c, c, bcs_c)\n",
    "\n",
    "_c_1, _c_2, _c_3, _c_4 = c.split()\n",
    "current = get_current(_c_3, mesh, a_s = 1e-7)\n",
    "i_list.append(current)\n",
    "print(Vapp_list[idx], current)\n",
    "#print(current)"
   ]
  },
  {
   "cell_type": "code",
   "execution_count": 40,
   "id": "3a6a9dad",
   "metadata": {},
   "outputs": [],
   "source": [
    "# Save solution to file in VTK format\n",
    "vtkfile = File('pnp/_c_1.pvd')\n",
    "vtkfile << _c_1"
   ]
  },
  {
   "cell_type": "code",
   "execution_count": 59,
   "id": "568cc0a0",
   "metadata": {},
   "outputs": [
    {
     "data": {
      "text/plain": [
       "0.00013145207123800776"
      ]
     },
     "execution_count": 59,
     "metadata": {},
     "output_type": "execute_result"
    }
   ],
   "source": [
    "_c_4(0.5e-7, 0.0e-5)"
   ]
  },
  {
   "cell_type": "code",
   "execution_count": 46,
   "id": "de71ea4f",
   "metadata": {},
   "outputs": [
    {
     "name": "stdout",
     "output_type": "stream",
     "text": [
      "*** Warning: Degree of exact solution may be inadequate for accurate result in errornorm.\n"
     ]
    },
    {
     "data": {
      "text/plain": [
       "5.641865521856085e-06"
      ]
     },
     "execution_count": 46,
     "metadata": {},
     "output_type": "execute_result"
    }
   ],
   "source": [
    "error_L2 = errornorm(phi_0, phi, 'L2')\n",
    "error_L2"
   ]
  },
  {
   "cell_type": "code",
   "execution_count": 63,
   "id": "b11bd5ad",
   "metadata": {},
   "outputs": [
    {
     "data": {
      "text/plain": [
       "650676.3046146865"
      ]
     },
     "execution_count": 63,
     "metadata": {},
     "output_type": "execute_result"
    }
   ],
   "source": [
    "point = [0.7e-7, 0e-5]\n",
    "x = np.array(point)\n",
    "x_point = Point(*x) \n",
    "P1 = FiniteElement('P', triangle, 1)\n",
    "vec = project(_c_3.dx(1), FunctionSpace(mesh, P1))\n",
    "vec(x_point)"
   ]
  },
  {
   "cell_type": "markdown",
   "id": "05b331bc",
   "metadata": {},
   "source": [
    "# Test 3 PNP"
   ]
  },
  {
   "cell_type": "code",
   "execution_count": 5,
   "id": "48739ae4",
   "metadata": {},
   "outputs": [
    {
     "name": "stdout",
     "output_type": "stream",
     "text": [
      "Calling FFC just-in-time (JIT) compiler, this may take some time.\n"
     ]
    }
   ],
   "source": [
    "P1 = FiniteElement('P', triangle, 1)\n",
    "element = MixedElement([P1, P1, P1, P1])\n",
    "V = FunctionSpace(mesh, element)\n",
    "\n",
    "# Initialize\n",
    "c_ruhex = 2 #mM\n",
    "c_KCl = 100 #mM\n",
    "# Note 1mM = 1mol/m3 (SI units)\n",
    "z_1, z_2, z_3, z_4 = 1, -1, 3, 2 # Charge numbers K+, Cl-, Ru3+, Ru2+\n",
    "c_a = Expression(str(c_KCl), degree=1)\n",
    "c_b = Expression(str(z_1*c_KCl + z_3*c_ruhex), degree=1)\n",
    "c_c = Expression(str(c_ruhex), degree=1)\n",
    "c_d = Expression(str(0.0), degree=1)\n",
    "\n",
    "# c_2 are for Cl- ion known (constrained) by charge neutrality\n",
    "q_1, q_2, q_3, q_4 = TestFunctions(V)\n",
    "c = Function(V)\n",
    "c_1, c_2, c_3, c_4 = split(c)\n",
    "# Charge neutrality z_2*c_2 = -(z_1*c_1 + z_3*c_3 + z_4*c_4)\n"
   ]
  },
  {
   "cell_type": "code",
   "execution_count": 6,
   "id": "8cb5ccfb",
   "metadata": {},
   "outputs": [
    {
     "name": "stdout",
     "output_type": "stream",
     "text": [
      "No Jacobian form specified for nonlinear variational problem.\n",
      "Differentiating residual form F to obtain Jacobian J = F'.\n",
      "Calling FFC just-in-time (JIT) compiler, this may take some time.\n",
      "Calling FFC just-in-time (JIT) compiler, this may take some time.\n",
      "Solving nonlinear variational problem.\n",
      "  Newton iteration 0: r (abs) = 1.297e+03 (tol = 1.000e-10) r (rel) = 1.000e+00 (tol = 1.000e-09)\n",
      "  Newton iteration 1: r (abs) = 1.409e-13 (tol = 1.000e-10) r (rel) = 1.086e-16 (tol = 1.000e-09)\n",
      "  Newton solver finished in 1 iterations and 1 linear solver iterations.\n"
     ]
    },
    {
     "data": {
      "text/plain": [
       "<matplotlib.tri.tricontour.TriContourSet at 0x7fc3990a4dc0>"
      ]
     },
     "execution_count": 6,
     "metadata": {},
     "output_type": "execute_result"
    },
    {
     "data": {
      "image/png": "[encoded data removed]",
      "text/plain": [
       "<Figure size 432x288 with 1 Axes>"
      ]
     },
     "metadata": {
      "needs_background": "light"
     },
     "output_type": "display_data"
    }
   ],
   "source": [
    "# Constants\n",
    "z_1, z_2, z_3, z_4 = 1, -1, 3, 2 # Charge numbers\n",
    "eps = 80\n",
    "eps0 = 8.854187e-12 # Vacuum permittivity F/m\n",
    "e = 1.60218e-19 # Coulombs \n",
    "kbT = 0.0259 # eV, room temp\n",
    "F = 96485.332 # C/mol\n",
    "Eo = -0.07\n",
    "a = (1/kbT)\n",
    "b = a*(F/(eps*eps0))\n",
    "D_o, D_r = 6.5e-10, 6.5e-10 # Diff constants (m^2/s)\n",
    "a, b = 1, 10e1\n",
    "\n",
    "## BCs\n",
    "tol = 1E-14\n",
    "def boundary_1(x, on_boundary):\n",
    "    return on_boundary and near(x[1], 0, tol)\n",
    "\n",
    "def boundary_2(x, on_boundary):\n",
    "    return on_boundary and near(x[0], 1e-7, tol)# and (x[1] < 1e-7))\n",
    "\n",
    "def boundary_3(x, on_boundary):\n",
    "    return on_boundary and (1e-7 < x[0] < 2e-7)\n",
    "\n",
    "def boundary_4(x, on_boundary):\n",
    "    return on_boundary and (2e-7 < x[0] < 3.5e-6)\n",
    "\n",
    "def boundary_5(x, on_boundary):\n",
    "    return on_boundary and near(x[1], 2e-5, tol)\n",
    "\n",
    "bc_5a= DirichletBC(V.sub(0), c_a, boundary_5)\n",
    "bc_5b= DirichletBC(V.sub(1), c_b, boundary_5)\n",
    "bc_5c= DirichletBC(V.sub(2), c_c, boundary_5)\n",
    "bc_5d= DirichletBC(V.sub(3), c_d, boundary_5)\n",
    "bcs = [bc_5a, bc_5b, bc_5c, bc_5d]\n",
    "#bcs = [bc_5a]\n",
    "\n",
    "## Different Neumann BC for bottom BC\n",
    "# create a mesh function which assigns an unsigned integer (size_t) to each edge\n",
    "mf = MeshFunction(\"size_t\", mesh, 1) # 3rd argument is dimension of an edge\n",
    "mf.set_all(0) # initialize the function to zero\n",
    "class BottomBoundary(SubDomain):\n",
    "    def inside(self, x, on_boundary):\n",
    "        return near(x[1], 0.0, tol) and on_boundary\n",
    "\n",
    "bottomboundary = BottomBoundary() # instantiate it\n",
    "\n",
    "# use this bottomboundary object to set values of the mesh function to 1 in the subdomain\n",
    "bottomboundary.mark(mf, 1)\n",
    "\n",
    "# define a new measure ds based on this mesh function\n",
    "ds = Measure(\"ds\", domain=mesh, subdomain_data=mf)\n",
    "#ds = Measure(\"ds\")(subdomain_data=mf)\n",
    "\n",
    "\n",
    "## Weak form\n",
    "r = Expression('x[0]', degree=1)\n",
    "nabla_phi = (z_1*c_1 + z_2*c_2 + z_3*c_3 + z_4*c_4)\n",
    "g_1 = Expression('0.0', degree=1)\n",
    "g_2 = Expression('0.0', degree=1)\n",
    "g_3 = Expression('0.0', degree=1)\n",
    "g_4 = Expression('0.0', degree=1)\n",
    "n = FacetNormal(mesh)\n",
    "#m1 = dot(grad(c_3), n)\n",
    "#m1 = Dx(c_3,1) does not give correct solution\n",
    "kox, kred = BV_rates(1e-3, -0.07, Vapp=0.0)\n",
    "m1 = -(kred*c_3 - kox*c_4)/D_o # Rate theory input\n",
    "#m2 = dot(grad(c_4), n)\n",
    "F = (dot(grad(c_1), grad(q_1)))*r*dx() \\\n",
    "    + (dot(grad(c_2), grad(q_2)))*r*dx() \\\n",
    "    + (dot(grad(c_3), grad(q_3)))*r*dx() \\\n",
    "    + (dot(grad(c_4), grad(q_4)))*r*dx() \\\n",
    "    + ((z_1*c_1*q_1 + z_2*c_2*q_2 + z_3*c_3*q_3 + z_4*c_4*q_4)*b*nabla_phi)*r*dx() \\\n",
    "    - g_1*q_1*r*ds() - g_2*q_2*r*ds() - g_3*q_3*r*ds(0) - g_4*q_4*r*ds(0) \\\n",
    "    - m1*q_3*r*ds(1) + (D_o/D_r)*m1*q_4*r*ds(1) \n",
    "    \n",
    "#c_4 = c_ruhex - c_3\n",
    "#L = g*q_1*ds + g*q_2*ds\n",
    "L = 0\n",
    "    \n",
    "c.vector().set_local(rand(c.vector().size())) # For starting calculations\n",
    "c.vector().apply(\"\")\n",
    "#c.vector()[:] = c_0.vector()[:]\n",
    "solve(F == L, c, bcs)\n",
    "_c_1, _c_2, _c_3, _c_4 = c.split()\n",
    "\n",
    "# Plot solution and mesh\n",
    "plot(_c_3)\n",
    "#plot(mesh)"
   ]
  },
  {
   "cell_type": "code",
   "execution_count": 9,
   "id": "c4836390",
   "metadata": {},
   "outputs": [
    {
     "data": {
      "text/plain": [
       "25.09618577136677"
      ]
     },
     "execution_count": 9,
     "metadata": {},
     "output_type": "execute_result"
    }
   ],
   "source": [
    "point = [1e-7, 0.5e-7]\n",
    "x = np.array(point)\n",
    "x_point = Point(*x) \n",
    "P1 = FiniteElement('P', triangle, 1)\n",
    "vec = project(_c_3.dx(0), FunctionSpace(mesh, P1))\n",
    "vec(x_point)"
   ]
  },
  {
   "cell_type": "code",
   "execution_count": 7,
   "id": "df3d98cb",
   "metadata": {},
   "outputs": [],
   "source": [
    "c_0 = c.copy()"
   ]
  },
  {
   "cell_type": "code",
   "execution_count": 205,
   "id": "23a6e23d",
   "metadata": {},
   "outputs": [
    {
     "name": "stdout",
     "output_type": "stream",
     "text": [
      "No Jacobian form specified for nonlinear variational problem.\n",
      "  Calling FFC just-in-time (JIT) compiler, this may take some time.\n",
      "Differentiating residual form F to obtain Jacobian J = F'.\n",
      "  Calling FFC just-in-time (JIT) compiler, this may take some time.\n",
      "Solving nonlinear variational problem.\n",
      "  Newton iteration 0: r (abs) = 1.263e-06 (tol = 1.000e-10) r (rel) = 1.000e+00 (tol = 1.000e-09)\n",
      "  Newton iteration 1: r (abs) = 6.377e-19 (tol = 1.000e-10) r (rel) = 5.050e-13 (tol = 1.000e-09)\n",
      "  Newton solver finished in 1 iterations and 1 linear solver iterations.\n",
      "0 -2.90784987595233e-12\n",
      "No Jacobian form specified for nonlinear variational problem.\n",
      "  Calling FFC just-in-time (JIT) compiler, this may take some time.\n",
      "Differentiating residual form F to obtain Jacobian J = F'.\n",
      "  Calling FFC just-in-time (JIT) compiler, this may take some time.\n",
      "Solving nonlinear variational problem.\n",
      "  Newton iteration 0: r (abs) = 1.883e-10 (tol = 1.000e-10) r (rel) = 1.000e+00 (tol = 1.000e-09)\n",
      "  Newton iteration 1: r (abs) = 5.528e-19 (tol = 1.000e-10) r (rel) = 2.936e-09 (tol = 1.000e-09)\n",
      "  Newton solver finished in 1 iterations and 1 linear solver iterations.\n",
      "1 -2.907286480118288e-12\n",
      "No Jacobian form specified for nonlinear variational problem.\n",
      "  Calling FFC just-in-time (JIT) compiler, this may take some time.\n",
      "Differentiating residual form F to obtain Jacobian J = F'.\n",
      "  Calling FFC just-in-time (JIT) compiler, this may take some time.\n",
      "Solving nonlinear variational problem.\n",
      "  Newton iteration 0: r (abs) = 1.883e-10 (tol = 1.000e-10) r (rel) = 1.000e+00 (tol = 1.000e-09)\n",
      "  Newton iteration 1: r (abs) = 5.325e-19 (tol = 1.000e-10) r (rel) = 2.828e-09 (tol = 1.000e-09)\n",
      "  Newton solver finished in 1 iterations and 1 linear solver iterations.\n",
      "2 -2.9061735414895555e-12\n",
      "No Jacobian form specified for nonlinear variational problem.  Calling FFC just-in-time (JIT) compiler, this may take some time.\n",
      "\n",
      "Differentiating residual form F to obtain Jacobian J = F'.\n",
      "  Calling FFC just-in-time (JIT) compiler, this may take some time.\n",
      "Solving nonlinear variational problem.\n",
      "  Newton iteration 0: r (abs) = 1.882e-10 (tol = 1.000e-10) r (rel) = 1.000e+00 (tol = 1.000e-09)\n",
      "  Newton iteration 1: r (abs) = 5.650e-19 (tol = 1.000e-10) r (rel) = 3.002e-09 (tol = 1.000e-09)\n",
      "  Newton solver finished in 1 iterations and 1 linear solver iterations.\n",
      "3 -2.9039762654753777e-12\n",
      "No Jacobian form specified for nonlinear variational problem.\n",
      "  Calling FFC just-in-time (JIT) compiler, this may take some time.\n",
      "Differentiating residual form F to obtain Jacobian J = F'.\n",
      "  Calling FFC just-in-time (JIT) compiler, this may take some time.\n",
      "Solving nonlinear variational problem.\n",
      "  Newton iteration 0: r (abs) = 1.881e-10 (tol = 1.000e-10) r (rel) = 1.000e+00 (tol = 1.000e-09)\n",
      "  Newton iteration 1: r (abs) = 5.408e-19 (tol = 1.000e-10) r (rel) = 2.876e-09 (tol = 1.000e-09)\n",
      "  Newton solver finished in 1 iterations and 1 linear solver iterations.\n",
      "4 -2.89964299492988e-12\n",
      "No Jacobian form specified for nonlinear variational problem.\n",
      "  Calling FFC just-in-time (JIT) compiler, this may take some time.\n",
      "Differentiating residual form F to obtain Jacobian J = F'.\n",
      "  Calling FFC just-in-time (JIT) compiler, this may take some time.\n",
      "Solving nonlinear variational problem.\n",
      "  Newton iteration 0: r (abs) = 1.878e-10 (tol = 1.000e-10) r (rel) = 1.000e+00 (tol = 1.000e-09)\n",
      "  Newton iteration 1: r (abs) = 5.021e-19 (tol = 1.000e-10) r (rel) = 2.674e-09 (tol = 1.000e-09)\n",
      "  Newton solver finished in 1 iterations and 1 linear solver iterations.\n",
      "5 -2.891115989772666e-12\n",
      "No Jacobian form specified for nonlinear variational problem.\n",
      "  Calling FFC just-in-time (JIT) compiler, this may take some time.\n",
      "Differentiating residual form F to obtain Jacobian J = F'.\n",
      "  Calling FFC just-in-time (JIT) compiler, this may take some time.\n",
      "Solving nonlinear variational problem.\n",
      "  Newton iteration 0: r (abs) = 1.872e-10 (tol = 1.000e-10) r (rel) = 1.000e+00 (tol = 1.000e-09)\n",
      "  Newton iteration 1: r (abs) = 5.263e-19 (tol = 1.000e-10) r (rel) = 2.811e-09 (tol = 1.000e-09)\n",
      "  Newton solver finished in 1 iterations and 1 linear solver iterations.\n",
      "6 -2.8744085905275728e-12\n",
      "No Jacobian form specified for nonlinear variational problem.\n",
      "  Calling FFC just-in-time (JIT) compiler, this may take some time.\n",
      "Differentiating residual form F to obtain Jacobian J = F'.\n",
      "  Calling FFC just-in-time (JIT) compiler, this may take some time.\n",
      "Solving nonlinear variational problem.\n",
      "  Newton iteration 0: r (abs) = 1.861e-10 (tol = 1.000e-10) r (rel) = 1.000e+00 (tol = 1.000e-09)\n",
      "  Newton iteration 1: r (abs) = 5.361e-19 (tol = 1.000e-10) r (rel) = 2.880e-09 (tol = 1.000e-09)\n",
      "  Newton solver finished in 1 iterations and 1 linear solver iterations.\n",
      "7 -2.841947151804469e-12\n",
      "No Jacobian form specified for nonlinear variational problem.\n",
      "  Calling FFC just-in-time (JIT) compiler, this may take some time.\n",
      "Differentiating residual form F to obtain Jacobian J = F'.\n",
      "  Calling FFC just-in-time (JIT) compiler, this may take some time.\n",
      "Solving nonlinear variational problem.\n",
      "  Newton iteration 0: r (abs) = 1.840e-10 (tol = 1.000e-10) r (rel) = 1.000e+00 (tol = 1.000e-09)\n",
      "  Newton iteration 1: r (abs) = 5.696e-19 (tol = 1.000e-10) r (rel) = 3.095e-09 (tol = 1.000e-09)\n",
      "  Newton solver finished in 1 iterations and 1 linear solver iterations.\n",
      "8 -2.7798951044394863e-12\n",
      "No Jacobian form specified for nonlinear variational problem.\n",
      "  Calling FFC just-in-time (JIT) compiler, this may take some time.\n",
      "Differentiating residual form F to obtain Jacobian J = F'.\n",
      "  Calling FFC just-in-time (JIT) compiler, this may take some time.\n",
      "Solving nonlinear variational problem.\n",
      "  Newton iteration 0: r (abs) = 1.800e-10 (tol = 1.000e-10) r (rel) = 1.000e+00 (tol = 1.000e-09)\n",
      "  Newton iteration 1: r (abs) = 5.526e-19 (tol = 1.000e-10) r (rel) = 3.071e-09 (tol = 1.000e-09)\n",
      "  Newton solver finished in 1 iterations and 1 linear solver iterations.\n",
      "9 -2.6648872946609466e-12\n",
      "No Jacobian form specified for nonlinear variational problem.  Calling FFC just-in-time (JIT) compiler, this may take some time.\n",
      "\n",
      "Differentiating residual form F to obtain Jacobian J = F'.\n",
      "  Calling FFC just-in-time (JIT) compiler, this may take some time.\n",
      "Solving nonlinear variational problem.\n",
      "  Newton iteration 0: r (abs) = 1.725e-10 (tol = 1.000e-10) r (rel) = 1.000e+00 (tol = 1.000e-09)\n",
      "  Newton iteration 1: r (abs) = 5.620e-19 (tol = 1.000e-10) r (rel) = 3.258e-09 (tol = 1.000e-09)\n",
      "  Newton solver finished in 1 iterations and 1 linear solver iterations.\n",
      "10 -2.4634452602339634e-12\n",
      "No Jacobian form specified for nonlinear variational problem.  Calling FFC just-in-time (JIT) compiler, this may take some time.\n",
      "\n",
      "Differentiating residual form F to obtain Jacobian J = F'.\n",
      "  Calling FFC just-in-time (JIT) compiler, this may take some time.\n",
      "Solving nonlinear variational problem.\n",
      "  Newton iteration 0: r (abs) = 1.595e-10 (tol = 1.000e-10) r (rel) = 1.000e+00 (tol = 1.000e-09)\n",
      "  Newton iteration 1: r (abs) = 5.291e-19 (tol = 1.000e-10) r (rel) = 3.318e-09 (tol = 1.000e-09)\n",
      "  Newton solver finished in 1 iterations and 1 linear solver iterations.\n",
      "11 -2.143226032267793e-12\n",
      "No Jacobian form specified for nonlinear variational problem.\n",
      "  Calling FFC just-in-time (JIT) compiler, this may take some time.\n",
      "Differentiating residual form F to obtain Jacobian J = F'.\n",
      "  Calling FFC just-in-time (JIT) compiler, this may take some time.\n",
      "Solving nonlinear variational problem.\n",
      "  Newton iteration 0: r (abs) = 1.387e-10 (tol = 1.000e-10) r (rel) = 1.000e+00 (tol = 1.000e-09)\n",
      "  Newton iteration 1: r (abs) = 5.437e-19 (tol = 1.000e-10) r (rel) = 3.920e-09 (tol = 1.000e-09)\n",
      "  Newton solver finished in 1 iterations and 1 linear solver iterations.\n",
      "12 -1.7051293545137538e-12\n",
      "No Jacobian form specified for nonlinear variational problem.\n",
      "Differentiating residual form F to obtain Jacobian J = F'.\n",
      "  Calling FFC just-in-time (JIT) compiler, this may take some time.\n",
      "  Calling FFC just-in-time (JIT) compiler, this may take some time.\n",
      "Solving nonlinear variational problem.\n",
      "  Newton iteration 0: r (abs) = 1.104e-10 (tol = 1.000e-10) r (rel) = 1.000e+00 (tol = 1.000e-09)\n",
      "  Newton iteration 1: r (abs) = 5.173e-19 (tol = 1.000e-10) r (rel) = 4.687e-09 (tol = 1.000e-09)\n",
      "  Newton solver finished in 1 iterations and 1 linear solver iterations.\n",
      "13 -1.2144564676267754e-12\n",
      "No Jacobian form specified for nonlinear variational problem.\n",
      "  Calling FFC just-in-time (JIT) compiler, this may take some time.\n"
     ]
    },
    {
     "name": "stdout",
     "output_type": "stream",
     "text": [
      "Differentiating residual form F to obtain Jacobian J = F'.\n",
      "  Calling FFC just-in-time (JIT) compiler, this may take some time.\n",
      "Solving nonlinear variational problem.\n",
      "  Newton iteration 0: r (abs) = 7.860e-11 (tol = 1.000e-10) r (rel) = 1.000e+00 (tol = 1.000e-09)\n",
      "  Newton solver finished in 0 iterations and 0 linear solver iterations.\n",
      "14 -1.2144564676267754e-12\n",
      "No Jacobian form specified for nonlinear variational problem.\n",
      "  Calling FFC just-in-time (JIT) compiler, this may take some time.\n",
      "Differentiating residual form F to obtain Jacobian J = F'.\n",
      "  Calling FFC just-in-time (JIT) compiler, this may take some time.\n",
      "Solving nonlinear variational problem.\n",
      "  Newton iteration 0: r (abs) = 1.184e-10 (tol = 1.000e-10) r (rel) = 1.000e+00 (tol = 1.000e-09)\n",
      "  Newton iteration 1: r (abs) = 5.112e-19 (tol = 1.000e-10) r (rel) = 4.319e-09 (tol = 1.000e-09)\n",
      "  Newton solver finished in 1 iterations and 1 linear solver iterations.\n",
      "15 -4.509683359717537e-13\n",
      "No Jacobian form specified for nonlinear variational problem.\n",
      "  Calling FFC just-in-time (JIT) compiler, this may take some time.\n",
      "Differentiating residual form F to obtain Jacobian J = F'.\n",
      "  Calling FFC just-in-time (JIT) compiler, this may take some time.\n",
      "Solving nonlinear variational problem.\n",
      "  Newton iteration 0: r (abs) = 2.919e-11 (tol = 1.000e-10) r (rel) = 1.000e+00 (tol = 1.000e-09)\n",
      "  Newton solver finished in 0 iterations and 0 linear solver iterations.\n",
      "16 -4.509683359717537e-13\n",
      "No Jacobian form specified for nonlinear variational problem.\n",
      "  Calling FFC just-in-time (JIT) compiler, this may take some time.\n",
      "Differentiating residual form F to obtain Jacobian J = F'.\n",
      "  Calling FFC just-in-time (JIT) compiler, this may take some time.\n",
      "Solving nonlinear variational problem.\n",
      "  Newton iteration 0: r (abs) = 4.395e-11 (tol = 1.000e-10) r (rel) = 1.000e+00 (tol = 1.000e-09)\n",
      "  Newton solver finished in 0 iterations and 0 linear solver iterations.\n",
      "17 -4.509683359717537e-13\n"
     ]
    }
   ],
   "source": [
    "## Run over eta range\n",
    "# Constants\n",
    "z_1, z_2, z_3, z_4 = 1, -1, 3, 2 # Charge numbers\n",
    "eps = 80\n",
    "eps0 = 8.854187e-12 # Vacuum permittivity F/m\n",
    "e = 1.60218e-19 # Coulombs \n",
    "kbT = 0.0259 # eV, room temp\n",
    "F = 96485.332 # C/mol\n",
    "Eo = -0.07\n",
    "a = (1/kbT)\n",
    "b = a*(F/(eps*eps0))\n",
    "D_o, D_r = 6.5e-10, 6.5e-10 # Diff constants (m^2/s)\n",
    "a, b = 1, 10e1\n",
    "\n",
    "## BCs\n",
    "tol = 1E-14\n",
    "def boundary_1(x, on_boundary):\n",
    "    return on_boundary and near(x[1], 0, tol)\n",
    "\n",
    "def boundary_2(x, on_boundary):\n",
    "    return on_boundary and near(x[0], 1e-7, tol)# and (x[1] < 1e-7))\n",
    "\n",
    "def boundary_3(x, on_boundary):\n",
    "    return on_boundary and (1e-7 < x[0] < 2e-7)\n",
    "\n",
    "def boundary_4(x, on_boundary):\n",
    "    return on_boundary and (2e-7 < x[0] < 3.5e-6)\n",
    "\n",
    "def boundary_5(x, on_boundary):\n",
    "    return on_boundary and near(x[1], 2e-5, tol)\n",
    "\n",
    "bc_5a= DirichletBC(V.sub(0), c_a, boundary_5)\n",
    "bc_5b= DirichletBC(V.sub(1), c_b, boundary_5)\n",
    "bc_5c= DirichletBC(V.sub(2), c_c, boundary_5)\n",
    "bc_5d= DirichletBC(V.sub(3), c_d, boundary_5)\n",
    "bcs = [bc_5a, bc_5b, bc_5c, bc_5d]\n",
    "#bcs = [bc_5a]\n",
    "\n",
    "## Different Neumann BC for bottom BC\n",
    "# create a mesh function which assigns an unsigned integer (size_t) to each edge\n",
    "mf = MeshFunction(\"size_t\", mesh, 1) # 3rd argument is dimension of an edge\n",
    "mf.set_all(0) # initialize the function to zero\n",
    "class BottomBoundary(SubDomain):\n",
    "    def inside(self, x, on_boundary):\n",
    "        return near(x[1], 0.0, tol) and on_boundary\n",
    "\n",
    "bottomboundary = BottomBoundary() # instantiate it\n",
    "\n",
    "# use this bottomboundary object to set values of the mesh function to 1 in the subdomain\n",
    "bottomboundary.mark(mf, 1)\n",
    "\n",
    "# define a new measure ds based on this mesh function\n",
    "ds = Measure(\"ds\", domain=mesh, subdomain_data=mf)\n",
    "#ds = Measure(\"ds\")(subdomain_data=mf)\n",
    "\n",
    "# Calculate\n",
    "eta_list = np.linspace(-0.5, 0.1, 18)\n",
    "i_list = []\n",
    "#Vapp_list = eta_list + Eo\n",
    "Vapp_list = eta_list\n",
    "\n",
    "for j in range(len(eta_list)):\n",
    "    kox, kred = BV_rates(1e-3, Eo, A=0.6, Vapp=Vapp_list[j])\n",
    "    m1 = -(kred*c_3 - kox*c_4)/D_o # Rate theory input\n",
    "    \n",
    "    F = (dot(grad(c_1), grad(q_1)))*r*dx() \\\n",
    "        + (dot(grad(c_2), grad(q_2)))*r*dx() \\\n",
    "        + (dot(grad(c_3), grad(q_3)))*r*dx() \\\n",
    "        + (dot(grad(c_4), grad(q_4)))*r*dx() \\\n",
    "        + ((z_1*c_1*q_1 + z_2*c_2*q_2 + z_3*c_3*q_3 + z_4*c_4*q_4)*b*nabla_phi)*r*dx() \\\n",
    "        - g_1*q_1*r*ds() - g_2*q_2*r*ds() - g_3*q_3*r*ds(0) - g_4*q_4*r*ds(0) \\\n",
    "        - m1*q_3*r*ds(1) + (D_o/D_r)*m1*q_4*r*ds(1)     \n",
    "    L = 0\n",
    "    c.vector()[:] = c_0.vector()[:]\n",
    "    solve(F == L, c, bcs)\n",
    "    _c_1, _c_2, _c_3, _c_4 = c.split()\n",
    "    \n",
    "    i_list.append(get_current(_c_3, mesh, a_s = 1e-7))\n",
    "    print(j, i_list[j])"
   ]
  },
  {
   "cell_type": "code",
   "execution_count": 206,
   "id": "7f7f8461",
   "metadata": {},
   "outputs": [
    {
     "data": {
      "text/plain": [
       "Text(0, 0.5, 'i (pA)')"
      ]
     },
     "execution_count": 206,
     "metadata": {},
     "output_type": "execute_result"
    },
    {
     "data": {
      "image/png": "[encoded data removed]",
      "text/plain": [
       "<Figure size 720x432 with 1 Axes>"
      ]
     },
     "metadata": {
      "needs_background": "light"
     },
     "output_type": "display_data"
    }
   ],
   "source": [
    "plt.plot(eta_list, np.array(i_list)*1e12, 'r-')\n",
    "plt.xlabel('V_app (V)')\n",
    "plt.ylabel('i (pA)')"
   ]
  },
  {
   "cell_type": "code",
   "execution_count": 202,
   "id": "c14b5b3f",
   "metadata": {},
   "outputs": [
    {
     "name": "stdout",
     "output_type": "stream",
     "text": [
      "-0.5 -2.908337359914819e-12\n",
      "-0.4666666666666667 -2.908256384171233e-12\n",
      "-0.43333333333333335 -2.908102289555776e-12\n",
      "-0.4 -2.9078090723479533e-12\n",
      "-0.3666666666666667 -2.907251204760521e-12\n",
      "-0.33333333333333337 -2.9061901004859313e-12\n",
      "-0.3 -2.9041728176994115e-12\n",
      "-0.26666666666666666 -2.9003413890765228e-12\n",
      "-0.23333333333333334 -2.893077532412103e-12\n",
      "-0.2 -2.8793534879765084e-12\n",
      "-0.16666666666666669 -2.8535912923002294e-12\n",
      "-0.13333333333333336 -2.8058146136296064e-12\n",
      "-0.09999999999999998 -2.719172315667866e-12\n",
      "-0.06666666666666665 -2.568242195249677e-12\n",
      "-0.033333333333333326 -2.322866111572154e-12\n",
      "0.0 -1.9654827686491155e-12\n",
      "0.033333333333333326 -1.520323890669345e-12\n",
      "0.06666666666666665 -1.520323890669345e-12\n",
      "0.09999999999999998 -6.752921879631619e-13\n",
      "0.1333333333333333 -6.752921879631619e-13\n",
      "0.16666666666666663 -6.752921879631619e-13\n",
      "0.19999999999999996 -6.752921879631619e-13\n",
      "0.23333333333333328 -6.752921879631619e-13\n",
      "0.2666666666666666 -6.752921879631619e-13\n",
      "0.30000000000000004 -6.752921879631619e-13\n",
      "0.33333333333333337 -6.752921879631619e-13\n",
      "0.3666666666666667 -6.752921879631619e-13\n",
      "0.4 -6.752921879631619e-13\n",
      "0.43333333333333335 -6.752921879631619e-13\n",
      "0.4666666666666667 -6.752921879631619e-13\n",
      "0.5 -6.752921879631619e-13\n"
     ]
    },
    {
     "data": {
      "text/plain": [
       "array([-5.00000000e-01, -4.00000000e-01, -3.00000000e-01, -2.00000000e-01,\n",
       "       -1.00000000e-01, -5.55111512e-17,  1.00000000e-01])"
      ]
     },
     "execution_count": 202,
     "metadata": {},
     "output_type": "execute_result"
    }
   ],
   "source": [
    "for i in range(len(eta_list)):\n",
    "    print(eta_list[i], i_list[i])\n",
    "np.linspace(-0.5, 0.1, 7)"
   ]
  },
  {
   "cell_type": "code",
   "execution_count": 179,
   "id": "4a18dac3",
   "metadata": {},
   "outputs": [],
   "source": [
    "c_0 = c"
   ]
  },
  {
   "cell_type": "code",
   "execution_count": 156,
   "id": "5e2449db",
   "metadata": {},
   "outputs": [
    {
     "data": {
      "text/plain": [
       "<matplotlib.tri.tricontour.TriContourSet at 0x7ffc72b62e80>"
      ]
     },
     "execution_count": 156,
     "metadata": {},
     "output_type": "execute_result"
    },
    {
     "data": {
      "image/png": "[encoded data removed]",
      "text/plain": [
       "<Figure size 720x432 with 1 Axes>"
      ]
     },
     "metadata": {
      "needs_background": "light"
     },
     "output_type": "display_data"
    }
   ],
   "source": [
    "plot(_c_2)"
   ]
  },
  {
   "cell_type": "code",
   "execution_count": 192,
   "id": "8de1e6aa",
   "metadata": {},
   "outputs": [
    {
     "data": {
      "text/plain": [
       "array([-0.5, -0.4, -0.3, -0.2, -0.1,  0. ,  0.1,  0.2,  0.3,  0.4,  0.5])"
      ]
     },
     "execution_count": 192,
     "metadata": {},
     "output_type": "execute_result"
    }
   ],
   "source": [
    "np.linspace(-0.5, 0.5, 11)"
   ]
  },
  {
   "cell_type": "code",
   "execution_count": 78,
   "id": "c8805532",
   "metadata": {},
   "outputs": [],
   "source": [
    "# Save solution to file in VTK format\n",
    "vtkfile = File('pnp/_c_3.pvd')\n",
    "vtkfile << _c_3"
   ]
  },
  {
   "cell_type": "markdown",
   "id": "5e89c996",
   "metadata": {},
   "source": [
    "# Define functions"
   ]
  },
  {
   "cell_type": "code",
   "execution_count": 104,
   "id": "2d88b8e6",
   "metadata": {},
   "outputs": [],
   "source": [
    "def deriv(func, point, mesh, direction=0):\n",
    "    # point :: List\n",
    "    x = np.array(point)\n",
    "    x_point = Point(*x) \n",
    "    P1 = FiniteElement('P', triangle, 1)\n",
    "    vec = project(func.dx(direction), FunctionSpace(mesh, P1))\n",
    "    return vec, vec(x_point)"
   ]
  },
  {
   "cell_type": "code",
   "execution_count": 153,
   "id": "748eb5b3",
   "metadata": {},
   "outputs": [
    {
     "data": {
      "text/plain": [
       "517373.18879890407"
      ]
     },
     "execution_count": 153,
     "metadata": {},
     "output_type": "execute_result"
    }
   ],
   "source": [
    "point = [0.5e-7, 0e-7]\n",
    "x = np.array(point)\n",
    "x_point = Point(*x) \n",
    "P1 = FiniteElement('P', triangle, 1)\n",
    "vec = project(_c_3.dx(1), FunctionSpace(mesh, P1))\n",
    "vec(x_point)"
   ]
  },
  {
   "cell_type": "code",
   "execution_count": 151,
   "id": "c897398b",
   "metadata": {},
   "outputs": [
    {
     "data": {
      "text/plain": [
       "4.8669271715107226e-05"
      ]
     },
     "execution_count": 151,
     "metadata": {},
     "output_type": "execute_result"
    }
   ],
   "source": [
    "#_c_3(2e-7, 6.88236e-7)\n",
    "_c_4(2e-7, 1.99e-5)"
   ]
  },
  {
   "cell_type": "code",
   "execution_count": 192,
   "id": "3533b20d",
   "metadata": {},
   "outputs": [],
   "source": [
    "# create a mesh function which assigns an unsigned integer (size_t) to each edge\n",
    "mf = MeshFunction(\"size_t\", mesh, 1) # 3rd argument is dimension of an edge\n",
    "mf.set_all(0) # initialize the function to zero\n",
    "class BottomBoundary(SubDomain):\n",
    "    def inside(self, x, on_boundary):\n",
    "        return near(x[1], 0.0, tol) and on_boundary\n",
    "\n",
    "bottomboundary = BottomBoundary() # instantiate it\n",
    "\n",
    "# use this bottomboundary object to set values of the mesh function to 1 in the subdomain\n",
    "bottomboundary.mark(mf, 1)\n",
    "\n",
    "# define a new measure ds based on this mesh function\n",
    "ds = Measure(\"ds\")(domain=mesh, subdomain_data=mf)"
   ]
  },
  {
   "cell_type": "code",
   "execution_count": 3,
   "id": "87c36719",
   "metadata": {},
   "outputs": [],
   "source": [
    "def BV_rates(ko, Eo, A=1.0, Vapp=0.0, alpha=0.5):\n",
    "    kbT = 0.0259\n",
    "    kox = A*ko*np.exp(-(alpha*(Vapp - Eo))/kbT)\n",
    "    kred = A*ko*np.exp(-((1-alpha)*(Vapp - Eo))/kbT)\n",
    "    return kox, kred"
   ]
  },
  {
   "cell_type": "code",
   "execution_count": 4,
   "id": "d5209c48",
   "metadata": {},
   "outputs": [],
   "source": [
    "def get_current(func, mesh, a_s = 1e-7):\n",
    "    # func: _c_3 in our case (Ru3+), a_s: 100nm pippete radius\n",
    "    F = 96485.332\n",
    "    r = np.linspace(0,a_s,1000)\n",
    "    Jo_list = []\n",
    "    vec = project(func.dx(1), FunctionSpace(mesh, P1))\n",
    "    for j in range(len(r)):\n",
    "        point = np.array([r[j], 0.0])\n",
    "        x = np.array(point)\n",
    "        x_point = Point(*x) \n",
    "        Jo = -D_o*vec(x_point)\n",
    "        Jo_list.append(Jo)\n",
    "    i = 2*np.pi*F*np.trapz(Jo_list*r, x=r)\n",
    "    return i\n",
    "#get_current(_c_3, mesh, a_s = 1e-7)"
   ]
  },
  {
   "cell_type": "code",
   "execution_count": 178,
   "id": "4151d373",
   "metadata": {},
   "outputs": [
    {
     "data": {
      "text/plain": [
       "array([-0.67, -0.62, -0.57, -0.52, -0.47, -0.42, -0.37, -0.32, -0.27,\n",
       "       -0.22, -0.17, -0.12, -0.07])"
      ]
     },
     "execution_count": 178,
     "metadata": {},
     "output_type": "execute_result"
    }
   ],
   "source": [
    "Eo = -0.07\n",
    "eta = np.linspace(-0.6, 0.0, 13)"
   ]
  },
  {
   "cell_type": "code",
   "execution_count": 198,
   "id": "d6b0fa96",
   "metadata": {},
   "outputs": [
    {
     "data": {
      "text/plain": [
       "Form([Integral(Product(Coefficient(FunctionSpace(None, FiniteElement('Lagrange', None, 1)), 2586), Product(Indexed(Grad(Indexed(Coefficient(FunctionSpace(Mesh(VectorElement(FiniteElement('Lagrange', triangle, 1), dim=2), 0), MixedElement(FiniteElement('Lagrange', triangle, 1), FiniteElement('Lagrange', triangle, 1), FiniteElement('Lagrange', triangle, 1), FiniteElement('Lagrange', triangle, 1))), 2556), MultiIndex((FixedIndex(2),)))), MultiIndex((FixedIndex(1),))), Indexed(Argument(FunctionSpace(Mesh(VectorElement(FiniteElement('Lagrange', triangle, 1), dim=2), 0), MixedElement(FiniteElement('Lagrange', triangle, 1), FiniteElement('Lagrange', triangle, 1), FiniteElement('Lagrange', triangle, 1), FiniteElement('Lagrange', triangle, 1))), 0, None), MultiIndex((FixedIndex(2),))))), 'exterior_facet', Mesh(VectorElement(FiniteElement('Lagrange', triangle, 1), dim=2), 0), 1, {}, <dolfin.cpp.mesh.MeshFunctionSizet object at 0x7f8721893670>)])"
      ]
     },
     "execution_count": 198,
     "metadata": {},
     "output_type": "execute_result"
    }
   ],
   "source": [
    "n = FacetNormal(mesh)\n",
    "m1 = dot(grad(c_3), n)\n",
    "m2 = (grad(c_4), n)\n",
    "Dx(c_3,1)*q_3*r*ds(1)"
   ]
  },
  {
   "cell_type": "code",
   "execution_count": null,
   "id": "ae90d57c",
   "metadata": {},
   "outputs": [],
   "source": [
    "# Compute solution\n",
    "#problem = NonlinearVariationalProblem(F,c,J=derivative(F,c),bcs=bcs)\n",
    "#solver = NonlinearVariationalSolver(problem)\n",
    "#stype = 'newton'\n",
    "#solver.parameters['nonlinear_solver']=stype\n",
    "#sprms = solver.parameters[stype+'_solver']\n",
    "\n",
    "# Set maximum iterations:\n",
    "#sprms['maximum_iterations'] = 100"
   ]
  },
  {
   "cell_type": "code",
   "execution_count": 207,
   "id": "25c06410",
   "metadata": {},
   "outputs": [
    {
     "data": {
      "text/plain": [
       "1.0"
      ]
     },
     "execution_count": 207,
     "metadata": {},
     "output_type": "execute_result"
    }
   ],
   "source": [
    "(D_o/D_r)*m1*q_4*r*ds(1)"
   ]
  },
  {
   "cell_type": "code",
   "execution_count": 92,
   "id": "3fe43d56",
   "metadata": {},
   "outputs": [
    {
     "data": {
      "text/plain": [
       "(0.25889017256861724, 0.25889017256861724)"
      ]
     },
     "execution_count": 92,
     "metadata": {},
     "output_type": "execute_result"
    }
   ],
   "source": [
    "BV_rates(1.0, -0.07, Vapp=0.0)"
   ]
  },
  {
   "cell_type": "code",
   "execution_count": 120,
   "id": "ce4a71a2",
   "metadata": {},
   "outputs": [
    {
     "data": {
      "text/plain": [
       "array([0, 0, 0, ..., 0, 1, 0], dtype=uint64)"
      ]
     },
     "execution_count": 120,
     "metadata": {},
     "output_type": "execute_result"
    }
   ],
   "source": [
    "mf.array()"
   ]
  },
  {
   "cell_type": "code",
   "execution_count": null,
   "id": "a678d695",
   "metadata": {},
   "outputs": [],
   "source": []
  },
  {
   "cell_type": "code",
   "execution_count": null,
   "id": "277d4e07",
   "metadata": {},
   "outputs": [],
   "source": []
  }
 ],
 "metadata": {
  "kernelspec": {
   "display_name": "Python 3",
   "language": "python",
   "name": "python3"
  },
  "language_info": {
   "codemirror_mode": {
    "name": "ipython",
    "version": 3
   },
   "file_extension": ".py",
   "mimetype": "text/x-python",
   "name": "python",
   "nbconvert_exporter": "python",
   "pygments_lexer": "ipython3",
   "version": "3.10.4"
  }
 },
 "nbformat": 4,
 "nbformat_minor": 5
}
